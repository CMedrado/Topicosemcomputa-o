{
  "nbformat": 4,
  "nbformat_minor": 0,
  "metadata": {
    "kernelspec": {
      "display_name": "Python 3",
      "language": "python",
      "name": "python3"
    },
    "language_info": {
      "codemirror_mode": {
        "name": "ipython",
        "version": 3
      },
      "file_extension": ".py",
      "mimetype": "text/x-python",
      "name": "python",
      "nbconvert_exporter": "python",
      "pygments_lexer": "ipython3",
      "version": "3.7.3"
    },
    "toc": {
      "base_numbering": 1,
      "nav_menu": {},
      "number_sections": true,
      "sideBar": true,
      "skip_h1_title": false,
      "title_cell": "Table of Contents",
      "title_sidebar": "Contents",
      "toc_cell": false,
      "toc_position": {},
      "toc_section_display": true,
      "toc_window_display": false
    },
    "colab": {
      "name": "03_Classificação_de_Texto.ipynb",
      "provenance": [],
      "collapsed_sections": [],
      "include_colab_link": true
    }
  },
  "cells": [
    {
      "cell_type": "markdown",
      "metadata": {
        "id": "view-in-github",
        "colab_type": "text"
      },
      "source": [
        "<a href=\"https://colab.research.google.com/github/CMedrado/Topicosemcomputa-o/blob/main/03_Classifica%C3%A7%C3%A3o_de_Texto.ipynb\" target=\"_parent\"><img src=\"https://colab.research.google.com/assets/colab-badge.svg\" alt=\"Open In Colab\"/></a>"
      ]
    },
    {
      "cell_type": "markdown",
      "metadata": {
        "id": "YHZA93r5ZWkv"
      },
      "source": [
        "# Classificação de Texto\n",
        "\n",
        "Exemplo de classificação de texto com pipeline de NLP e classificador no final"
      ]
    },
    {
      "cell_type": "code",
      "metadata": {
        "id": "Nx_2ZKqmZWk3"
      },
      "source": [
        "import nltk\n",
        "from nltk.tokenize import word_tokenize\n",
        "from nltk.stem.snowball import SnowballStemmer\n",
        "from sklearn.feature_extraction.text import TfidfVectorizer, CountVectorizer\n",
        "import pandas as pd\n",
        "import numpy as np\n",
        "import matplotlib.pyplot as plt\n",
        "%matplotlib inline\n",
        "import warnings\n",
        "warnings.simplefilter(\"ignore\")\n",
        "\n",
        "from sklearn.model_selection import train_test_split\n",
        "from sklearn.pipeline import Pipeline\n",
        "from sklearn.neighbors import KNeighborsClassifier\n",
        "from sklearn.metrics import accuracy_score\n",
        "from sklearn.metrics import confusion_matrix\n",
        "from sklearn.metrics import plot_confusion_matrix\n"
      ],
      "execution_count": 72,
      "outputs": []
    },
    {
      "cell_type": "code",
      "metadata": {
        "id": "-sbOi1hdZWk7"
      },
      "source": [
        "# Tokenização\n",
        "def tokenize(text):\n",
        "    # Tokenização\n",
        "    tokens = nltk.word_tokenize(text)\n",
        "    \n",
        "    # Stemização\n",
        "    stems  = []\n",
        "    for item in tokens:\n",
        "        stems.append(SnowballStemmer(\"english\").stem(item))\n",
        "    return stems"
      ],
      "execution_count": 73,
      "outputs": []
    },
    {
      "cell_type": "code",
      "metadata": {
        "colab": {
          "base_uri": "https://localhost:8080/"
        },
        "id": "6zLolLTX0e_U",
        "outputId": "41109f36-0a4b-4f2e-ca84-d0452703db15"
      },
      "source": [
        "from google.colab import drive\n",
        "drive.mount('/content/drive')"
      ],
      "execution_count": 74,
      "outputs": [
        {
          "output_type": "stream",
          "name": "stdout",
          "text": [
            "Drive already mounted at /content/drive; to attempt to forcibly remount, call drive.mount(\"/content/drive\", force_remount=True).\n"
          ]
        }
      ]
    },
    {
      "cell_type": "code",
      "metadata": {
        "id": "O2rgEUvzZWk9",
        "colab": {
          "base_uri": "https://localhost:8080/",
          "height": 525
        },
        "outputId": "a82646d5-d322-4a6b-97ee-cb21910e4385"
      },
      "source": [
        "#df = pd.read_csv('Eclipse_total.csv')\n",
        "\n",
        "# Carregando os dados\n",
        "df = pd.read_csv('/content/drive/My Drive/TP/eclipse/Case_Study/Case_Study/Eclipse_total.csv') # Salvamos com esse nome antes\n",
        "\n",
        "# Dataset\n",
        "df.head(10)"
      ],
      "execution_count": 99,
      "outputs": [
        {
          "output_type": "execute_result",
          "data": {
            "text/html": [
              "<div>\n",
              "<style scoped>\n",
              "    .dataframe tbody tr th:only-of-type {\n",
              "        vertical-align: middle;\n",
              "    }\n",
              "\n",
              "    .dataframe tbody tr th {\n",
              "        vertical-align: top;\n",
              "    }\n",
              "\n",
              "    .dataframe thead th {\n",
              "        text-align: right;\n",
              "    }\n",
              "</style>\n",
              "<table border=\"1\" class=\"dataframe\">\n",
              "  <thead>\n",
              "    <tr style=\"text-align: right;\">\n",
              "      <th></th>\n",
              "      <th>ID</th>\n",
              "      <th>Product_Name</th>\n",
              "      <th>Processed_Summary</th>\n",
              "      <th>Processed_Description</th>\n",
              "      <th>Component_Name</th>\n",
              "      <th>Severity_Level</th>\n",
              "      <th>Priority</th>\n",
              "      <th>Assignee_Developers</th>\n",
              "      <th>Topic_ID</th>\n",
              "      <th>Status</th>\n",
              "    </tr>\n",
              "  </thead>\n",
              "  <tbody>\n",
              "    <tr>\n",
              "      <th>0</th>\n",
              "      <td>221036</td>\n",
              "      <td>Community</td>\n",
              "      <td>unabl enter request parti code cq</td>\n",
              "      <td>report enter request parti librari submit java...</td>\n",
              "      <td>Project Management &amp; Portal</td>\n",
              "      <td>blocker</td>\n",
              "      <td>P1</td>\n",
              "      <td>bjorn.freeman-benson</td>\n",
              "      <td>d_a_carver bjorn.freeman-benson karl.matthias</td>\n",
              "      <td>FIXED</td>\n",
              "    </tr>\n",
              "    <tr>\n",
              "      <th>1</th>\n",
              "      <td>221203</td>\n",
              "      <td>Community</td>\n",
              "      <td>submit request cq cq submit</td>\n",
              "      <td>submit request cq cq submit creat screen retur...</td>\n",
              "      <td>Project Management &amp; Portal</td>\n",
              "      <td>blocker</td>\n",
              "      <td>P1</td>\n",
              "      <td>bjorn.freeman-benson</td>\n",
              "      <td>d_a_carver d_a_carver bjorn.freeman-benson kar...</td>\n",
              "      <td>FIXED</td>\n",
              "    </tr>\n",
              "    <tr>\n",
              "      <th>2</th>\n",
              "      <td>243952</td>\n",
              "      <td>Community</td>\n",
              "      <td>ca submit cq rd parti contribut develop apach</td>\n",
              "      <td>valid apach url enter url project page apach p...</td>\n",
              "      <td>Project Management &amp; Portal</td>\n",
              "      <td>blocker</td>\n",
              "      <td>P1</td>\n",
              "      <td>bjorn.freeman-benson</td>\n",
              "      <td>ekuleshov ekuleshov bjorn.freeman-benson ekule...</td>\n",
              "      <td>FIXED</td>\n",
              "    </tr>\n",
              "    <tr>\n",
              "      <th>3</th>\n",
              "      <td>230229</td>\n",
              "      <td>Community</td>\n",
              "      <td>tool link fail ie</td>\n",
              "      <td>webmast email tool link respond js error error...</td>\n",
              "      <td>Project Management &amp; Portal</td>\n",
              "      <td>blocker</td>\n",
              "      <td>P1</td>\n",
              "      <td>gabe.obrien</td>\n",
              "      <td>webmaster webmaster bjorn.freeman-benson karl....</td>\n",
              "      <td>FIXED</td>\n",
              "    </tr>\n",
              "    <tr>\n",
              "      <th>4</th>\n",
              "      <td>229095</td>\n",
              "      <td>Community</td>\n",
              "      <td>cron total broken</td>\n",
              "      <td>portal cron job broken friday gabe debug fix c...</td>\n",
              "      <td>Project Management &amp; Portal</td>\n",
              "      <td>blocker</td>\n",
              "      <td>P1</td>\n",
              "      <td>portal-inbox</td>\n",
              "      <td>karl.matthias karl.matthias karl.matthias karl...</td>\n",
              "      <td>FIXED</td>\n",
              "    </tr>\n",
              "    <tr>\n",
              "      <th>5</th>\n",
              "      <td>109230</td>\n",
              "      <td>Community</td>\n",
              "      <td>gener roadmap project inform file</td>\n",
              "      <td>xslt css gener roadmap eclipse project info xm...</td>\n",
              "      <td>Process</td>\n",
              "      <td>critical</td>\n",
              "      <td>P1</td>\n",
              "      <td>eromero</td>\n",
              "      <td>bjorn.freeman-benson techtonik bjorn.freeman-b...</td>\n",
              "      <td>FIXED</td>\n",
              "    </tr>\n",
              "    <tr>\n",
              "      <th>6</th>\n",
              "      <td>275926</td>\n",
              "      <td>Community</td>\n",
              "      <td>cq for record blow address charact</td>\n",
              "      <td>appear addslash stripslash appli properli case...</td>\n",
              "      <td>Project Management &amp; Portal</td>\n",
              "      <td>critical</td>\n",
              "      <td>P1</td>\n",
              "      <td>portal-inbox</td>\n",
              "      <td>karl.matthias karl.matthias karl.matthias</td>\n",
              "      <td>FIXED</td>\n",
              "    </tr>\n",
              "    <tr>\n",
              "      <th>7</th>\n",
              "      <td>208204</td>\n",
              "      <td>Community</td>\n",
              "      <td>javascript error submit cq</td>\n",
              "      <td>submit request refer distribut third parti cod...</td>\n",
              "      <td>Project Management &amp; Portal</td>\n",
              "      <td>critical</td>\n",
              "      <td>P1</td>\n",
              "      <td>gabe.obrien</td>\n",
              "      <td>aldo_eisma bjorn.freeman-benson gabe.obrien ka...</td>\n",
              "      <td>FIXED</td>\n",
              "    </tr>\n",
              "    <tr>\n",
              "      <th>8</th>\n",
              "      <td>229830</td>\n",
              "      <td>Community</td>\n",
              "      <td>alexey pavlov nomin email address</td>\n",
              "      <td>portal allow nomin miss email address fix</td>\n",
              "      <td>Project Management &amp; Portal</td>\n",
              "      <td>critical</td>\n",
              "      <td>P1</td>\n",
              "      <td>portal-inbox</td>\n",
              "      <td>karl.matthias bjorn.freeman-benson karl.matthi...</td>\n",
              "      <td>FIXED</td>\n",
              "    </tr>\n",
              "    <tr>\n",
              "      <th>9</th>\n",
              "      <td>191261</td>\n",
              "      <td>Community</td>\n",
              "      <td>role upload imag inconsist role edit web page</td>\n",
              "      <td>request design peopl role updat organ websit m...</td>\n",
              "      <td>Project Management &amp; Portal</td>\n",
              "      <td>critical</td>\n",
              "      <td>P1</td>\n",
              "      <td>portal-inbox</td>\n",
              "      <td>donald.smith donald.smith bjorn.freeman-benson...</td>\n",
              "      <td>FIXED</td>\n",
              "    </tr>\n",
              "  </tbody>\n",
              "</table>\n",
              "</div>"
            ],
            "text/plain": [
              "       ID  ... Status\n",
              "0  221036  ...  FIXED\n",
              "1  221203  ...  FIXED\n",
              "2  243952  ...  FIXED\n",
              "3  230229  ...  FIXED\n",
              "4  229095  ...  FIXED\n",
              "5  109230  ...  FIXED\n",
              "6  275926  ...  FIXED\n",
              "7  208204  ...  FIXED\n",
              "8  229830  ...  FIXED\n",
              "9  191261  ...  FIXED\n",
              "\n",
              "[10 rows x 10 columns]"
            ]
          },
          "metadata": {},
          "execution_count": 99
        }
      ]
    },
    {
      "cell_type": "code",
      "metadata": {
        "colab": {
          "base_uri": "https://localhost:8080/"
        },
        "id": "vjKFYlSFfKTP",
        "outputId": "95c4d465-0b75-4981-cb60-074da7e90238"
      },
      "source": [
        "class_names = df['Status'].unique()\n",
        "class_names"
      ],
      "execution_count": 76,
      "outputs": [
        {
          "output_type": "execute_result",
          "data": {
            "text/plain": [
              "array(['FIXED', nan], dtype=object)"
            ]
          },
          "metadata": {},
          "execution_count": 76
        }
      ]
    },
    {
      "cell_type": "markdown",
      "metadata": {
        "id": "8ooYAftkrcu8"
      },
      "source": [
        "Já possui apenas Fixed.\n",
        "Tirando os casos de Severity Level que são normal\n"
      ]
    },
    {
      "cell_type": "code",
      "metadata": {
        "colab": {
          "base_uri": "https://localhost:8080/",
          "height": 525
        },
        "id": "A60wceSIr-jT",
        "outputId": "cdcc543c-dad8-4ef7-8a25-03b42cbd66c0"
      },
      "source": [
        "# Removendo valores\n",
        "df = df[df.Severity_Level != \"normal\"]\n",
        "\n",
        "# Apresentando dataset\n",
        "df.head(10)"
      ],
      "execution_count": 87,
      "outputs": [
        {
          "output_type": "execute_result",
          "data": {
            "text/html": [
              "<div>\n",
              "<style scoped>\n",
              "    .dataframe tbody tr th:only-of-type {\n",
              "        vertical-align: middle;\n",
              "    }\n",
              "\n",
              "    .dataframe tbody tr th {\n",
              "        vertical-align: top;\n",
              "    }\n",
              "\n",
              "    .dataframe thead th {\n",
              "        text-align: right;\n",
              "    }\n",
              "</style>\n",
              "<table border=\"1\" class=\"dataframe\">\n",
              "  <thead>\n",
              "    <tr style=\"text-align: right;\">\n",
              "      <th></th>\n",
              "      <th>ID</th>\n",
              "      <th>Product_Name</th>\n",
              "      <th>Component_Name</th>\n",
              "      <th>Severity_Level</th>\n",
              "      <th>Priority</th>\n",
              "      <th>Assignee_Developers</th>\n",
              "      <th>Topic_ID</th>\n",
              "      <th>Status</th>\n",
              "      <th>Processed_Description_Processed_Summary</th>\n",
              "    </tr>\n",
              "  </thead>\n",
              "  <tbody>\n",
              "    <tr>\n",
              "      <th>0</th>\n",
              "      <td>221036</td>\n",
              "      <td>Community</td>\n",
              "      <td>Project Management &amp; Portal</td>\n",
              "      <td>blocker</td>\n",
              "      <td>P1</td>\n",
              "      <td>bjorn.freeman-benson</td>\n",
              "      <td>d_a_carver bjorn.freeman-benson karl.matthias</td>\n",
              "      <td>FIXED</td>\n",
              "      <td>report enter request parti librari submit java...</td>\n",
              "    </tr>\n",
              "    <tr>\n",
              "      <th>1</th>\n",
              "      <td>221203</td>\n",
              "      <td>Community</td>\n",
              "      <td>Project Management &amp; Portal</td>\n",
              "      <td>blocker</td>\n",
              "      <td>P1</td>\n",
              "      <td>bjorn.freeman-benson</td>\n",
              "      <td>d_a_carver d_a_carver bjorn.freeman-benson kar...</td>\n",
              "      <td>FIXED</td>\n",
              "      <td>submit request cq cq submit creat screen retur...</td>\n",
              "    </tr>\n",
              "    <tr>\n",
              "      <th>2</th>\n",
              "      <td>243952</td>\n",
              "      <td>Community</td>\n",
              "      <td>Project Management &amp; Portal</td>\n",
              "      <td>blocker</td>\n",
              "      <td>P1</td>\n",
              "      <td>bjorn.freeman-benson</td>\n",
              "      <td>ekuleshov ekuleshov bjorn.freeman-benson ekule...</td>\n",
              "      <td>FIXED</td>\n",
              "      <td>valid apach url enter url project page apach p...</td>\n",
              "    </tr>\n",
              "    <tr>\n",
              "      <th>3</th>\n",
              "      <td>230229</td>\n",
              "      <td>Community</td>\n",
              "      <td>Project Management &amp; Portal</td>\n",
              "      <td>blocker</td>\n",
              "      <td>P1</td>\n",
              "      <td>gabe.obrien</td>\n",
              "      <td>webmaster webmaster bjorn.freeman-benson karl....</td>\n",
              "      <td>FIXED</td>\n",
              "      <td>webmast email tool link respond js error error...</td>\n",
              "    </tr>\n",
              "    <tr>\n",
              "      <th>4</th>\n",
              "      <td>229095</td>\n",
              "      <td>Community</td>\n",
              "      <td>Project Management &amp; Portal</td>\n",
              "      <td>blocker</td>\n",
              "      <td>P1</td>\n",
              "      <td>portal-inbox</td>\n",
              "      <td>karl.matthias karl.matthias karl.matthias karl...</td>\n",
              "      <td>FIXED</td>\n",
              "      <td>portal cron job broken friday gabe debug fix c...</td>\n",
              "    </tr>\n",
              "    <tr>\n",
              "      <th>5</th>\n",
              "      <td>109230</td>\n",
              "      <td>Community</td>\n",
              "      <td>Process</td>\n",
              "      <td>critical</td>\n",
              "      <td>P1</td>\n",
              "      <td>eromero</td>\n",
              "      <td>bjorn.freeman-benson techtonik bjorn.freeman-b...</td>\n",
              "      <td>FIXED</td>\n",
              "      <td>xslt css gener roadmap eclipse project info xm...</td>\n",
              "    </tr>\n",
              "    <tr>\n",
              "      <th>6</th>\n",
              "      <td>275926</td>\n",
              "      <td>Community</td>\n",
              "      <td>Project Management &amp; Portal</td>\n",
              "      <td>critical</td>\n",
              "      <td>P1</td>\n",
              "      <td>portal-inbox</td>\n",
              "      <td>karl.matthias karl.matthias karl.matthias</td>\n",
              "      <td>FIXED</td>\n",
              "      <td>appear addslash stripslash appli properli case...</td>\n",
              "    </tr>\n",
              "    <tr>\n",
              "      <th>7</th>\n",
              "      <td>208204</td>\n",
              "      <td>Community</td>\n",
              "      <td>Project Management &amp; Portal</td>\n",
              "      <td>critical</td>\n",
              "      <td>P1</td>\n",
              "      <td>gabe.obrien</td>\n",
              "      <td>aldo_eisma bjorn.freeman-benson gabe.obrien ka...</td>\n",
              "      <td>FIXED</td>\n",
              "      <td>submit request refer distribut third parti cod...</td>\n",
              "    </tr>\n",
              "    <tr>\n",
              "      <th>8</th>\n",
              "      <td>229830</td>\n",
              "      <td>Community</td>\n",
              "      <td>Project Management &amp; Portal</td>\n",
              "      <td>critical</td>\n",
              "      <td>P1</td>\n",
              "      <td>portal-inbox</td>\n",
              "      <td>karl.matthias bjorn.freeman-benson karl.matthi...</td>\n",
              "      <td>FIXED</td>\n",
              "      <td>portal allow nomin miss email address fix alex...</td>\n",
              "    </tr>\n",
              "    <tr>\n",
              "      <th>9</th>\n",
              "      <td>191261</td>\n",
              "      <td>Community</td>\n",
              "      <td>Project Management &amp; Portal</td>\n",
              "      <td>critical</td>\n",
              "      <td>P1</td>\n",
              "      <td>portal-inbox</td>\n",
              "      <td>donald.smith donald.smith bjorn.freeman-benson...</td>\n",
              "      <td>FIXED</td>\n",
              "      <td>request design peopl role updat organ websit m...</td>\n",
              "    </tr>\n",
              "  </tbody>\n",
              "</table>\n",
              "</div>"
            ],
            "text/plain": [
              "       ID  ...            Processed_Description_Processed_Summary\n",
              "0  221036  ...  report enter request parti librari submit java...\n",
              "1  221203  ...  submit request cq cq submit creat screen retur...\n",
              "2  243952  ...  valid apach url enter url project page apach p...\n",
              "3  230229  ...  webmast email tool link respond js error error...\n",
              "4  229095  ...  portal cron job broken friday gabe debug fix c...\n",
              "5  109230  ...  xslt css gener roadmap eclipse project info xm...\n",
              "6  275926  ...  appear addslash stripslash appli properli case...\n",
              "7  208204  ...  submit request refer distribut third parti cod...\n",
              "8  229830  ...  portal allow nomin miss email address fix alex...\n",
              "9  191261  ...  request design peopl role updat organ websit m...\n",
              "\n",
              "[10 rows x 9 columns]"
            ]
          },
          "metadata": {},
          "execution_count": 87
        }
      ]
    },
    {
      "cell_type": "markdown",
      "metadata": {
        "id": "h-YqvhBUte7d"
      },
      "source": [
        "Juntando as listas Processed_Description\te Processed_Summary\n"
      ]
    },
    {
      "cell_type": "code",
      "metadata": {
        "colab": {
          "base_uri": "https://localhost:8080/",
          "height": 525
        },
        "id": "JYVaHqQhtoB8",
        "outputId": "07b19973-e6fc-4432-a1f9-1f70afa1b7a8"
      },
      "source": [
        "df[\"processed\"] = df[\"Processed_Description\"]+df[\"Processed_Summary\"]\n",
        "df.drop(\"Processed_Description\", inplace=True, axis=1)\n",
        "df.drop(\"Processed_Summary\", inplace=True, axis=1)\n",
        "df = df.dropna()\n",
        "df.head(10)"
      ],
      "execution_count": 100,
      "outputs": [
        {
          "output_type": "execute_result",
          "data": {
            "text/html": [
              "<div>\n",
              "<style scoped>\n",
              "    .dataframe tbody tr th:only-of-type {\n",
              "        vertical-align: middle;\n",
              "    }\n",
              "\n",
              "    .dataframe tbody tr th {\n",
              "        vertical-align: top;\n",
              "    }\n",
              "\n",
              "    .dataframe thead th {\n",
              "        text-align: right;\n",
              "    }\n",
              "</style>\n",
              "<table border=\"1\" class=\"dataframe\">\n",
              "  <thead>\n",
              "    <tr style=\"text-align: right;\">\n",
              "      <th></th>\n",
              "      <th>ID</th>\n",
              "      <th>Product_Name</th>\n",
              "      <th>Component_Name</th>\n",
              "      <th>Severity_Level</th>\n",
              "      <th>Priority</th>\n",
              "      <th>Assignee_Developers</th>\n",
              "      <th>Topic_ID</th>\n",
              "      <th>Status</th>\n",
              "      <th>processed</th>\n",
              "    </tr>\n",
              "  </thead>\n",
              "  <tbody>\n",
              "    <tr>\n",
              "      <th>0</th>\n",
              "      <td>221036</td>\n",
              "      <td>Community</td>\n",
              "      <td>Project Management &amp; Portal</td>\n",
              "      <td>blocker</td>\n",
              "      <td>P1</td>\n",
              "      <td>bjorn.freeman-benson</td>\n",
              "      <td>d_a_carver bjorn.freeman-benson karl.matthias</td>\n",
              "      <td>FIXED</td>\n",
              "      <td>report enter request parti librari submit java...</td>\n",
              "    </tr>\n",
              "    <tr>\n",
              "      <th>1</th>\n",
              "      <td>221203</td>\n",
              "      <td>Community</td>\n",
              "      <td>Project Management &amp; Portal</td>\n",
              "      <td>blocker</td>\n",
              "      <td>P1</td>\n",
              "      <td>bjorn.freeman-benson</td>\n",
              "      <td>d_a_carver d_a_carver bjorn.freeman-benson kar...</td>\n",
              "      <td>FIXED</td>\n",
              "      <td>submit request cq cq submit creat screen retur...</td>\n",
              "    </tr>\n",
              "    <tr>\n",
              "      <th>2</th>\n",
              "      <td>243952</td>\n",
              "      <td>Community</td>\n",
              "      <td>Project Management &amp; Portal</td>\n",
              "      <td>blocker</td>\n",
              "      <td>P1</td>\n",
              "      <td>bjorn.freeman-benson</td>\n",
              "      <td>ekuleshov ekuleshov bjorn.freeman-benson ekule...</td>\n",
              "      <td>FIXED</td>\n",
              "      <td>valid apach url enter url project page apach p...</td>\n",
              "    </tr>\n",
              "    <tr>\n",
              "      <th>3</th>\n",
              "      <td>230229</td>\n",
              "      <td>Community</td>\n",
              "      <td>Project Management &amp; Portal</td>\n",
              "      <td>blocker</td>\n",
              "      <td>P1</td>\n",
              "      <td>gabe.obrien</td>\n",
              "      <td>webmaster webmaster bjorn.freeman-benson karl....</td>\n",
              "      <td>FIXED</td>\n",
              "      <td>webmast email tool link respond js error error...</td>\n",
              "    </tr>\n",
              "    <tr>\n",
              "      <th>4</th>\n",
              "      <td>229095</td>\n",
              "      <td>Community</td>\n",
              "      <td>Project Management &amp; Portal</td>\n",
              "      <td>blocker</td>\n",
              "      <td>P1</td>\n",
              "      <td>portal-inbox</td>\n",
              "      <td>karl.matthias karl.matthias karl.matthias karl...</td>\n",
              "      <td>FIXED</td>\n",
              "      <td>portal cron job broken friday gabe debug fix c...</td>\n",
              "    </tr>\n",
              "    <tr>\n",
              "      <th>5</th>\n",
              "      <td>109230</td>\n",
              "      <td>Community</td>\n",
              "      <td>Process</td>\n",
              "      <td>critical</td>\n",
              "      <td>P1</td>\n",
              "      <td>eromero</td>\n",
              "      <td>bjorn.freeman-benson techtonik bjorn.freeman-b...</td>\n",
              "      <td>FIXED</td>\n",
              "      <td>xslt css gener roadmap eclipse project info xm...</td>\n",
              "    </tr>\n",
              "    <tr>\n",
              "      <th>6</th>\n",
              "      <td>275926</td>\n",
              "      <td>Community</td>\n",
              "      <td>Project Management &amp; Portal</td>\n",
              "      <td>critical</td>\n",
              "      <td>P1</td>\n",
              "      <td>portal-inbox</td>\n",
              "      <td>karl.matthias karl.matthias karl.matthias</td>\n",
              "      <td>FIXED</td>\n",
              "      <td>appear addslash stripslash appli properli case...</td>\n",
              "    </tr>\n",
              "    <tr>\n",
              "      <th>7</th>\n",
              "      <td>208204</td>\n",
              "      <td>Community</td>\n",
              "      <td>Project Management &amp; Portal</td>\n",
              "      <td>critical</td>\n",
              "      <td>P1</td>\n",
              "      <td>gabe.obrien</td>\n",
              "      <td>aldo_eisma bjorn.freeman-benson gabe.obrien ka...</td>\n",
              "      <td>FIXED</td>\n",
              "      <td>submit request refer distribut third parti cod...</td>\n",
              "    </tr>\n",
              "    <tr>\n",
              "      <th>8</th>\n",
              "      <td>229830</td>\n",
              "      <td>Community</td>\n",
              "      <td>Project Management &amp; Portal</td>\n",
              "      <td>critical</td>\n",
              "      <td>P1</td>\n",
              "      <td>portal-inbox</td>\n",
              "      <td>karl.matthias bjorn.freeman-benson karl.matthi...</td>\n",
              "      <td>FIXED</td>\n",
              "      <td>portal allow nomin miss email address fix alex...</td>\n",
              "    </tr>\n",
              "    <tr>\n",
              "      <th>9</th>\n",
              "      <td>191261</td>\n",
              "      <td>Community</td>\n",
              "      <td>Project Management &amp; Portal</td>\n",
              "      <td>critical</td>\n",
              "      <td>P1</td>\n",
              "      <td>portal-inbox</td>\n",
              "      <td>donald.smith donald.smith bjorn.freeman-benson...</td>\n",
              "      <td>FIXED</td>\n",
              "      <td>request design peopl role updat organ websit m...</td>\n",
              "    </tr>\n",
              "  </tbody>\n",
              "</table>\n",
              "</div>"
            ],
            "text/plain": [
              "       ID  ...                                          processed\n",
              "0  221036  ...  report enter request parti librari submit java...\n",
              "1  221203  ...  submit request cq cq submit creat screen retur...\n",
              "2  243952  ...  valid apach url enter url project page apach p...\n",
              "3  230229  ...  webmast email tool link respond js error error...\n",
              "4  229095  ...  portal cron job broken friday gabe debug fix c...\n",
              "5  109230  ...  xslt css gener roadmap eclipse project info xm...\n",
              "6  275926  ...  appear addslash stripslash appli properli case...\n",
              "7  208204  ...  submit request refer distribut third parti cod...\n",
              "8  229830  ...  portal allow nomin miss email address fix alex...\n",
              "9  191261  ...  request design peopl role updat organ websit m...\n",
              "\n",
              "[10 rows x 9 columns]"
            ]
          },
          "metadata": {},
          "execution_count": 100
        }
      ]
    },
    {
      "cell_type": "code",
      "metadata": {
        "id": "ZU8olx_TZWlA",
        "colab": {
          "base_uri": "https://localhost:8080/"
        },
        "outputId": "5b6cc996-d207-4785-d0a9-9e1279634702"
      },
      "source": [
        "# Split Dataset\n",
        "X_train, X_test, y_train, y_test = train_test_split(df[['processed']], df.Severity_Level, random_state=42)\n",
        "X_train.shape"
      ],
      "execution_count": 101,
      "outputs": [
        {
          "output_type": "execute_result",
          "data": {
            "text/plain": [
              "(30876, 1)"
            ]
          },
          "metadata": {},
          "execution_count": 101
        }
      ]
    },
    {
      "cell_type": "code",
      "metadata": {
        "id": "KrHj_VyjZWlC",
        "colab": {
          "base_uri": "https://localhost:8080/"
        },
        "outputId": "5185c26b-4a5d-47e3-b127-21e7003e1f8e"
      },
      "source": [
        "# Stop Words\n",
        "\n",
        "nltk.download('stopwords')\n",
        "\n",
        "nltk.download('punkt')\n",
        "\n",
        "stop_words = nltk.corpus.stopwords.words('portuguese')\n",
        "\n",
        "# NLP Pipeline\n",
        "text_clf   = Pipeline([\n",
        "                # Vectorize\n",
        "                ('vect',  TfidfVectorizer(tokenizer=tokenize, \n",
        "                                          stop_words=stop_words, \n",
        "                                          ngram_range=(1,1))),\n",
        "                # Classificador\n",
        "                ('clf',   KNeighborsClassifier(n_jobs=-1)),\n",
        "            ])\n",
        "\n",
        "# Train\n",
        "text_clf = text_clf.fit(X_train.processed, y_train)"
      ],
      "execution_count": 102,
      "outputs": [
        {
          "output_type": "stream",
          "name": "stdout",
          "text": [
            "[nltk_data] Downloading package stopwords to /root/nltk_data...\n",
            "[nltk_data]   Package stopwords is already up-to-date!\n",
            "[nltk_data] Downloading package punkt to /root/nltk_data...\n",
            "[nltk_data]   Package punkt is already up-to-date!\n"
          ]
        }
      ]
    },
    {
      "cell_type": "code",
      "metadata": {
        "id": "39y6FF1gZWlE",
        "colab": {
          "base_uri": "https://localhost:8080/"
        },
        "outputId": "b1e345ef-44c5-4b7f-d4fe-69f979c09f77"
      },
      "source": [
        "# Evaluate\n",
        "text_clf.score(X_test.processed, y_test)"
      ],
      "execution_count": 103,
      "outputs": [
        {
          "output_type": "execute_result",
          "data": {
            "text/plain": [
              "0.6778393082677547"
            ]
          },
          "metadata": {},
          "execution_count": 103
        }
      ]
    },
    {
      "cell_type": "code",
      "metadata": {
        "id": "0EjKaY2zZWlG"
      },
      "source": [
        "\n",
        "predictions = text_clf.predict(X_test.processed)\n",
        "\n",
        "conf_matrix = confusion_matrix(y_test, predictions)"
      ],
      "execution_count": 104,
      "outputs": []
    },
    {
      "cell_type": "code",
      "metadata": {
        "id": "NuKTCrP8ZWlH",
        "colab": {
          "base_uri": "https://localhost:8080/",
          "height": 597
        },
        "outputId": "db2da5bb-7724-4a3f-8150-b8afb17ba865"
      },
      "source": [
        "plt.figure(figsize=(10,10))\n",
        "plt.xticks(np.arange(len(text_clf.classes_)),text_clf.classes_)\n",
        "plt.yticks(np.arange(len(text_clf.classes_)),text_clf.classes_)\n",
        "plt.imshow(conf_matrix,cmap=plt.cm.Blues)\n",
        "plt.colorbar()"
      ],
      "execution_count": 105,
      "outputs": [
        {
          "output_type": "execute_result",
          "data": {
            "text/plain": [
              "<matplotlib.colorbar.Colorbar at 0x7ffa0a9eaf90>"
            ]
          },
          "metadata": {},
          "execution_count": 105
        },
        {
          "output_type": "display_data",
          "data": {
            "image/png": "[encoded data removed]",
            "text/plain": [
              "<Figure size 720x720 with 2 Axes>"
            ]
          },
          "metadata": {
            "needs_background": "light"
          }
        }
      ]
    },
    {
      "cell_type": "code",
      "metadata": {
        "id": "2SjzDogP29Wt",
        "colab": {
          "base_uri": "https://localhost:8080/"
        },
        "outputId": "68862374-891c-4b8e-a0fe-34bd61185418"
      },
      "source": [
        "# Predict\n",
        "\n",
        "text = \"Alimentos naturais fazem bem ao corpo\" #Documento novo nao utilizado no treinamento\n",
        "\n",
        "text_clf.predict([text])"
      ],
      "execution_count": 106,
      "outputs": [
        {
          "output_type": "execute_result",
          "data": {
            "text/plain": [
              "array(['enhancement'], dtype=object)"
            ]
          },
          "metadata": {},
          "execution_count": 106
        }
      ]
    },
    {
      "cell_type": "code",
      "metadata": {
        "id": "qU-PSNX4ZWlL",
        "colab": {
          "base_uri": "https://localhost:8080/"
        },
        "outputId": "93c68b04-0f69-4bac-bac4-aa479f34dcf0"
      },
      "source": [
        "# Predict\n",
        "\n",
        "text = \"Filme 'Star Wars: Os Últimos Jedi'\"\n",
        "\n",
        "text_clf.predict([text])"
      ],
      "execution_count": 107,
      "outputs": [
        {
          "output_type": "execute_result",
          "data": {
            "text/plain": [
              "array(['normal'], dtype=object)"
            ]
          },
          "metadata": {},
          "execution_count": 107
        }
      ]
    }
  ]
}