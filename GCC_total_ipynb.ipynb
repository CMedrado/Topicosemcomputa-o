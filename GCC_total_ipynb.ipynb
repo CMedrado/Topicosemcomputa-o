{
  "nbformat": 4,
  "nbformat_minor": 0,
  "metadata": {
    "kernelspec": {
      "display_name": "Python 3",
      "language": "python",
      "name": "python3"
    },
    "language_info": {
      "codemirror_mode": {
        "name": "ipython",
        "version": 3
      },
      "file_extension": ".py",
      "mimetype": "text/x-python",
      "name": "python",
      "nbconvert_exporter": "python",
      "pygments_lexer": "ipython3",
      "version": "3.7.3"
    },
    "toc": {
      "base_numbering": 1,
      "nav_menu": {},
      "number_sections": true,
      "sideBar": true,
      "skip_h1_title": false,
      "title_cell": "Table of Contents",
      "title_sidebar": "Contents",
      "toc_cell": false,
      "toc_position": {},
      "toc_section_display": true,
      "toc_window_display": false
    },
    "colab": {
      "name": "GCC_total.ipynb.ipynb",
      "provenance": [],
      "collapsed_sections": [],
      "include_colab_link": true
    }
  },
  "cells": [
    {
      "cell_type": "markdown",
      "metadata": {
        "id": "view-in-github",
        "colab_type": "text"
      },
      "source": [
        "<a href=\"https://colab.research.google.com/github/CMedrado/Topicosemcomputa-o/blob/main/GCC_total_ipynb.ipynb\" target=\"_parent\"><img src=\"https://colab.research.google.com/assets/colab-badge.svg\" alt=\"Open In Colab\"/></a>"
      ]
    },
    {
      "cell_type": "markdown",
      "metadata": {
        "id": "YHZA93r5ZWkv"
      },
      "source": [
        "# Classificação de Texto no contexto da Predição de Severidade de Bug Reports\n",
        "\n",
        "Exemplo de classificação de texto com pipeline de NLP e classificador no final"
      ]
    },
    {
      "cell_type": "code",
      "metadata": {
        "id": "Nx_2ZKqmZWk3"
      },
      "source": [
        "import nltk\n",
        "from nltk.tokenize import word_tokenize\n",
        "from nltk.stem.snowball import SnowballStemmer\n",
        "from sklearn.feature_extraction.text import TfidfVectorizer, CountVectorizer\n",
        "import pandas as pd\n",
        "import numpy as np\n",
        "import matplotlib.pyplot as plt\n",
        "%matplotlib inline\n",
        "import warnings\n",
        "warnings.simplefilter(\"ignore\")\n",
        "\n",
        "from sklearn.model_selection import train_test_split\n",
        "from sklearn.pipeline import Pipeline\n",
        "from sklearn.neighbors import KNeighborsClassifier\n",
        "from sklearn.metrics import accuracy_score\n",
        "from sklearn.metrics import f1_score\n",
        "from sklearn.metrics import confusion_matrix\n",
        "from sklearn.metrics import plot_confusion_matrix\n"
      ],
      "execution_count": 1,
      "outputs": []
    },
    {
      "cell_type": "code",
      "metadata": {
        "id": "-sbOi1hdZWk7"
      },
      "source": [
        "# Tokenização\n",
        "def tokenize(text):\n",
        "    # Tokenização\n",
        "    tokens = nltk.word_tokenize(text)\n",
        "    \n",
        "    # Stemização\n",
        "    stems  = []\n",
        "    for item in tokens:\n",
        "        stems.append(SnowballStemmer(\"english\").stem(item))\n",
        "    return stems"
      ],
      "execution_count": 2,
      "outputs": []
    },
    {
      "cell_type": "code",
      "metadata": {
        "colab": {
          "base_uri": "https://localhost:8080/"
        },
        "id": "6zLolLTX0e_U",
        "outputId": "85fd1377-e523-4e71-9420-e275a51e9f95"
      },
      "source": [
        "from google.colab import drive\n",
        "drive.mount('/content/drive')"
      ],
      "execution_count": 3,
      "outputs": [
        {
          "output_type": "stream",
          "name": "stdout",
          "text": [
            "Mounted at /content/drive\n"
          ]
        }
      ]
    },
    {
      "cell_type": "code",
      "metadata": {
        "id": "O2rgEUvzZWk9",
        "colab": {
          "base_uri": "https://localhost:8080/",
          "height": 1000
        },
        "outputId": "33d36b6a-1112-4768-d188-dd088442a178"
      },
      "source": [
        "# Carregando os dados\n",
        "df = pd.read_csv('/content/drive/My Drive/TP/PF/Dataset (1)/GCC_total.csv') # Salvamos com esse nome antes\n",
        "\n",
        "# Dataset\n",
        "df.head(11)"
      ],
      "execution_count": 4,
      "outputs": [
        {
          "output_type": "execute_result",
          "data": {
            "text/html": [
              "<div>\n",
              "<style scoped>\n",
              "    .dataframe tbody tr th:only-of-type {\n",
              "        vertical-align: middle;\n",
              "    }\n",
              "\n",
              "    .dataframe tbody tr th {\n",
              "        vertical-align: top;\n",
              "    }\n",
              "\n",
              "    .dataframe thead th {\n",
              "        text-align: right;\n",
              "    }\n",
              "</style>\n",
              "<table border=\"1\" class=\"dataframe\">\n",
              "  <thead>\n",
              "    <tr style=\"text-align: right;\">\n",
              "      <th></th>\n",
              "      <th>Bug_report_ID</th>\n",
              "      <th>Product_Name</th>\n",
              "      <th>summary</th>\n",
              "      <th>description</th>\n",
              "      <th>component_name</th>\n",
              "      <th>severity_level</th>\n",
              "      <th>priority</th>\n",
              "      <th>assignee_developers</th>\n",
              "      <th>topic_id</th>\n",
              "      <th>status</th>\n",
              "    </tr>\n",
              "  </thead>\n",
              "  <tbody>\n",
              "    <tr>\n",
              "      <th>0</th>\n",
              "      <td>21065</td>\n",
              "      <td>classpath</td>\n",
              "      <td>javax swing event eventlistenerlist getlistene...</td>\n",
              "      <td>custom class wich throw event reli eventlisten...</td>\n",
              "      <td>swing</td>\n",
              "      <td>critical</td>\n",
              "      <td>P1</td>\n",
              "      <td>unassigned</td>\n",
              "      <td>gruni.ca gruni.ca roman konqueror tromey</td>\n",
              "      <td>FIXED</td>\n",
              "    </tr>\n",
              "    <tr>\n",
              "      <th>1</th>\n",
              "      <td>23557</td>\n",
              "      <td>classpath</td>\n",
              "      <td>jcombobox graphics d crash vm gtk</td>\n",
              "      <td>compil run attach testcas graphics d en classp...</td>\n",
              "      <td>swing</td>\n",
              "      <td>critical</td>\n",
              "      <td>P1</td>\n",
              "      <td>langel</td>\n",
              "      <td>hendrich hendrich fitzsim cvs-commit hendrich ...</td>\n",
              "      <td>FIXED</td>\n",
              "    </tr>\n",
              "    <tr>\n",
              "      <th>2</th>\n",
              "      <td>27833</td>\n",
              "      <td>classpath</td>\n",
              "      <td>strang repaint bug graphics d updat</td>\n",
              "      <td>built classpath cv linux suse upgrad gtk exper...</td>\n",
              "      <td>swing</td>\n",
              "      <td>critical</td>\n",
              "      <td>P2</td>\n",
              "      <td>roman</td>\n",
              "      <td>hendrich hendrich hendrich hendrich hendrich a...</td>\n",
              "      <td>FIXED</td>\n",
              "    </tr>\n",
              "    <tr>\n",
              "      <th>3</th>\n",
              "      <td>23795</td>\n",
              "      <td>classpath</td>\n",
              "      <td>implement miss function basictreeui metaltreeu...</td>\n",
              "      <td>implement miss</td>\n",
              "      <td>swing</td>\n",
              "      <td>normal</td>\n",
              "      <td>P2</td>\n",
              "      <td>langel</td>\n",
              "      <td>langel langel cvs-commit</td>\n",
              "      <td>FIXED</td>\n",
              "    </tr>\n",
              "    <tr>\n",
              "      <th>4</th>\n",
              "      <td>23966</td>\n",
              "      <td>classpath</td>\n",
              "      <td>jinternalfram mous move infinit loop</td>\n",
              "      <td>run testcas move mous main section jinternalfr...</td>\n",
              "      <td>swing</td>\n",
              "      <td>normal</td>\n",
              "      <td>P2</td>\n",
              "      <td>abalkiss</td>\n",
              "      <td>abalkiss abalkiss</td>\n",
              "      <td>FIXED</td>\n",
              "    </tr>\n",
              "    <tr>\n",
              "      <th>5</th>\n",
              "      <td>16774</td>\n",
              "      <td>classpath</td>\n",
              "      <td>box layout resiz compon fill entir space contain</td>\n",
              "      <td>bugzilla helper user ag mozilla x linux i en u...</td>\n",
              "      <td>swing</td>\n",
              "      <td>normal</td>\n",
              "      <td>P2</td>\n",
              "      <td>graydon</td>\n",
              "      <td>rodimina rodimina fitzsim fitzsim</td>\n",
              "      <td>FIXED</td>\n",
              "    </tr>\n",
              "    <tr>\n",
              "      <th>6</th>\n",
              "      <td>24105</td>\n",
              "      <td>classpath</td>\n",
              "      <td>gapcont properli updat posit</td>\n",
              "      <td>border case posit implement run testcas insert...</td>\n",
              "      <td>swing</td>\n",
              "      <td>normal</td>\n",
              "      <td>P2</td>\n",
              "      <td>roman</td>\n",
              "      <td>abalkiss roman roman cvs-commit</td>\n",
              "      <td>FIXED</td>\n",
              "    </tr>\n",
              "    <tr>\n",
              "      <th>7</th>\n",
              "      <td>20015</td>\n",
              "      <td>classpath</td>\n",
              "      <td>jmenu stay open</td>\n",
              "      <td>show jmenu work click jmenu close menu jmenu p...</td>\n",
              "      <td>swing</td>\n",
              "      <td>normal</td>\n",
              "      <td>P2</td>\n",
              "      <td>langel</td>\n",
              "      <td>hendrich hendrich fitzsim langel</td>\n",
              "      <td>FIXED</td>\n",
              "    </tr>\n",
              "    <tr>\n",
              "      <th>8</th>\n",
              "      <td>24316</td>\n",
              "      <td>classpath</td>\n",
              "      <td>utilities gettabbedtextoffset problem</td>\n",
              "      <td>method input point charact run testcas click t...</td>\n",
              "      <td>swing</td>\n",
              "      <td>normal</td>\n",
              "      <td>P2</td>\n",
              "      <td>abalkiss</td>\n",
              "      <td>abalkiss abalkiss abalkiss abalkiss abalkiss a...</td>\n",
              "      <td>FIXED</td>\n",
              "    </tr>\n",
              "    <tr>\n",
              "      <th>9</th>\n",
              "      <td>23203</td>\n",
              "      <td>classpath</td>\n",
              "      <td>jlist getlastvisibleindex incorrect</td>\n",
              "      <td>jlist getlastvisibleindex return display area ...</td>\n",
              "      <td>swing</td>\n",
              "      <td>normal</td>\n",
              "      <td>P2</td>\n",
              "      <td>abalkiss</td>\n",
              "      <td>abalkiss abalkiss</td>\n",
              "      <td>FIXED</td>\n",
              "    </tr>\n",
              "    <tr>\n",
              "      <th>10</th>\n",
              "      <td>23796</td>\n",
              "      <td>classpath</td>\n",
              "      <td>undecor frame paint decor frame</td>\n",
              "      <td>titl bar border jframe drawn testcas import ja...</td>\n",
              "      <td>swing</td>\n",
              "      <td>normal</td>\n",
              "      <td>P2</td>\n",
              "      <td>fitzsim</td>\n",
              "      <td>langel fitzsim cvs-commit cvs-commit</td>\n",
              "      <td>FIXED</td>\n",
              "    </tr>\n",
              "  </tbody>\n",
              "</table>\n",
              "</div>"
            ],
            "text/plain": [
              "    Bug_report_ID  ... status\n",
              "0           21065  ...  FIXED\n",
              "1           23557  ...  FIXED\n",
              "2           27833  ...  FIXED\n",
              "3           23795  ...  FIXED\n",
              "4           23966  ...  FIXED\n",
              "5           16774  ...  FIXED\n",
              "6           24105  ...  FIXED\n",
              "7           20015  ...  FIXED\n",
              "8           24316  ...  FIXED\n",
              "9           23203  ...  FIXED\n",
              "10          23796  ...  FIXED\n",
              "\n",
              "[11 rows x 10 columns]"
            ]
          },
          "metadata": {},
          "execution_count": 4
        }
      ]
    },
    {
      "cell_type": "code",
      "metadata": {
        "colab": {
          "base_uri": "https://localhost:8080/"
        },
        "id": "cmqYBbKPhvKW",
        "outputId": "681930d2-9731-4fb6-af3e-b2c0ced2aa88"
      },
      "source": [
        "df['severity_level'].value_counts()"
      ],
      "execution_count": 5,
      "outputs": [
        {
          "output_type": "execute_result",
          "data": {
            "text/plain": [
              "normal         10137\n",
              "critical        1664\n",
              "enhancement     1141\n",
              "minor            498\n",
              "major            270\n",
              "blocker          229\n",
              "trivial           87\n",
              "Name: severity_level, dtype: int64"
            ]
          },
          "metadata": {},
          "execution_count": 5
        }
      ]
    },
    {
      "cell_type": "code",
      "metadata": {
        "colab": {
          "base_uri": "https://localhost:8080/"
        },
        "id": "vjKFYlSFfKTP",
        "outputId": "ae7b6e4b-4002-4129-e882-710516d5447a"
      },
      "source": [
        "class_names = df['severity_level'].unique()\n",
        "class_names"
      ],
      "execution_count": 6,
      "outputs": [
        {
          "output_type": "execute_result",
          "data": {
            "text/plain": [
              "array(['critical', 'normal', 'minor', 'enhancement', 'blocker', 'major',\n",
              "       'trivial'], dtype=object)"
            ]
          },
          "metadata": {},
          "execution_count": 6
        }
      ]
    },
    {
      "cell_type": "code",
      "metadata": {
        "colab": {
          "base_uri": "https://localhost:8080/"
        },
        "id": "bAkUcshz_X6_",
        "outputId": "3449ff6a-d7e2-40a8-ccc7-d5bcafa5035c"
      },
      "source": [
        "status_names = df['status'].unique() \n",
        "status_names"
      ],
      "execution_count": 7,
      "outputs": [
        {
          "output_type": "execute_result",
          "data": {
            "text/plain": [
              "array(['FIXED'], dtype=object)"
            ]
          },
          "metadata": {},
          "execution_count": 7
        }
      ]
    },
    {
      "cell_type": "code",
      "metadata": {
        "id": "Fp1Uv4L0qKaG"
      },
      "source": [
        "#Convertendo 'summary' e 'description' para string\n",
        "df = df.astype({'summary':'str', 'description':'str'})"
      ],
      "execution_count": 8,
      "outputs": []
    },
    {
      "cell_type": "code",
      "metadata": {
        "id": "G0Nm3A_TvctI"
      },
      "source": [
        "#Filtrando severidades confiaveis\n",
        "df = df.loc[(df['severity_level'] != 'enhancement') & (df['severity_level'] != 'normal')]"
      ],
      "execution_count": 9,
      "outputs": []
    },
    {
      "cell_type": "code",
      "metadata": {
        "id": "Kzq3C3QS800G"
      },
      "source": [
        "#Modificando severidade diferente de blocker (Classificação binaria)\n",
        "df.loc[(df['severity_level'] != 'blocker'), 'severity_level'] = \"no-blocker\" "
      ],
      "execution_count": 11,
      "outputs": []
    },
    {
      "cell_type": "code",
      "metadata": {
        "colab": {
          "base_uri": "https://localhost:8080/"
        },
        "id": "dz-C_juw2jNL",
        "outputId": "499664c4-97d6-423e-a499-ebb21f7f3a6e"
      },
      "source": [
        "df['severity_level'].value_counts()"
      ],
      "execution_count": 12,
      "outputs": [
        {
          "output_type": "execute_result",
          "data": {
            "text/plain": [
              "no-blocker    2519\n",
              "blocker        229\n",
              "Name: severity_level, dtype: int64"
            ]
          },
          "metadata": {},
          "execution_count": 12
        }
      ]
    },
    {
      "cell_type": "code",
      "metadata": {
        "colab": {
          "base_uri": "https://localhost:8080/",
          "height": 1000
        },
        "id": "dU31wUm5tY9S",
        "outputId": "c194e673-1e3a-4d4d-db34-6516add6ae3d"
      },
      "source": [
        "df.head(11)"
      ],
      "execution_count": 13,
      "outputs": [
        {
          "output_type": "execute_result",
          "data": {
            "text/html": [
              "<div>\n",
              "<style scoped>\n",
              "    .dataframe tbody tr th:only-of-type {\n",
              "        vertical-align: middle;\n",
              "    }\n",
              "\n",
              "    .dataframe tbody tr th {\n",
              "        vertical-align: top;\n",
              "    }\n",
              "\n",
              "    .dataframe thead th {\n",
              "        text-align: right;\n",
              "    }\n",
              "</style>\n",
              "<table border=\"1\" class=\"dataframe\">\n",
              "  <thead>\n",
              "    <tr style=\"text-align: right;\">\n",
              "      <th></th>\n",
              "      <th>Bug_report_ID</th>\n",
              "      <th>Product_Name</th>\n",
              "      <th>summary</th>\n",
              "      <th>description</th>\n",
              "      <th>component_name</th>\n",
              "      <th>severity_level</th>\n",
              "      <th>priority</th>\n",
              "      <th>assignee_developers</th>\n",
              "      <th>topic_id</th>\n",
              "      <th>status</th>\n",
              "    </tr>\n",
              "  </thead>\n",
              "  <tbody>\n",
              "    <tr>\n",
              "      <th>0</th>\n",
              "      <td>21065</td>\n",
              "      <td>classpath</td>\n",
              "      <td>javax swing event eventlistenerlist getlistene...</td>\n",
              "      <td>custom class wich throw event reli eventlisten...</td>\n",
              "      <td>swing</td>\n",
              "      <td>no-blocker</td>\n",
              "      <td>P1</td>\n",
              "      <td>unassigned</td>\n",
              "      <td>gruni.ca gruni.ca roman konqueror tromey</td>\n",
              "      <td>FIXED</td>\n",
              "    </tr>\n",
              "    <tr>\n",
              "      <th>1</th>\n",
              "      <td>23557</td>\n",
              "      <td>classpath</td>\n",
              "      <td>jcombobox graphics d crash vm gtk</td>\n",
              "      <td>compil run attach testcas graphics d en classp...</td>\n",
              "      <td>swing</td>\n",
              "      <td>no-blocker</td>\n",
              "      <td>P1</td>\n",
              "      <td>langel</td>\n",
              "      <td>hendrich hendrich fitzsim cvs-commit hendrich ...</td>\n",
              "      <td>FIXED</td>\n",
              "    </tr>\n",
              "    <tr>\n",
              "      <th>2</th>\n",
              "      <td>27833</td>\n",
              "      <td>classpath</td>\n",
              "      <td>strang repaint bug graphics d updat</td>\n",
              "      <td>built classpath cv linux suse upgrad gtk exper...</td>\n",
              "      <td>swing</td>\n",
              "      <td>no-blocker</td>\n",
              "      <td>P2</td>\n",
              "      <td>roman</td>\n",
              "      <td>hendrich hendrich hendrich hendrich hendrich a...</td>\n",
              "      <td>FIXED</td>\n",
              "    </tr>\n",
              "    <tr>\n",
              "      <th>111</th>\n",
              "      <td>22616</td>\n",
              "      <td>classpath</td>\n",
              "      <td>imageicon geticonheight throw npe</td>\n",
              "      <td>step reproduc compil run attach testcas expect...</td>\n",
              "      <td>swing</td>\n",
              "      <td>no-blocker</td>\n",
              "      <td>P2</td>\n",
              "      <td>graydon</td>\n",
              "      <td>timo.lindfors timo.lindfors pinskia fitzsim</td>\n",
              "      <td>FIXED</td>\n",
              "    </tr>\n",
              "    <tr>\n",
              "      <th>112</th>\n",
              "      <td>24099</td>\n",
              "      <td>classpath</td>\n",
              "      <td>gdkgraphics d copyarea implement</td>\n",
              "      <td>recent swing repaint mechan reli graphics copy...</td>\n",
              "      <td>swing</td>\n",
              "      <td>no-blocker</td>\n",
              "      <td>P2</td>\n",
              "      <td>fitzsim</td>\n",
              "      <td>hendrich mark hendrich langel hendrich langel ...</td>\n",
              "      <td>FIXED</td>\n",
              "    </tr>\n",
              "    <tr>\n",
              "      <th>114</th>\n",
              "      <td>27297</td>\n",
              "      <td>classpath</td>\n",
              "      <td>subsequ intern frame close</td>\n",
              "      <td>th intern frame swing demo close click close i...</td>\n",
              "      <td>swing</td>\n",
              "      <td>blocker</td>\n",
              "      <td>P3</td>\n",
              "      <td>audriusa</td>\n",
              "      <td>audriusa audriusa audriusa roman audriusa audr...</td>\n",
              "      <td>FIXED</td>\n",
              "    </tr>\n",
              "    <tr>\n",
              "      <th>115</th>\n",
              "      <td>27326</td>\n",
              "      <td>classpath</td>\n",
              "      <td>jpopupmenu broken</td>\n",
              "      <td>download built classpath cv linux x test jamvm...</td>\n",
              "      <td>swing</td>\n",
              "      <td>blocker</td>\n",
              "      <td>P3</td>\n",
              "      <td>roman</td>\n",
              "      <td>hendrich roman cvs-commit roman hendrich</td>\n",
              "      <td>FIXED</td>\n",
              "    </tr>\n",
              "    <tr>\n",
              "      <th>116</th>\n",
              "      <td>29448</td>\n",
              "      <td>classpath</td>\n",
              "      <td>swing demo content resiz</td>\n",
              "      <td>run swing demo maxim frame content frame stay ...</td>\n",
              "      <td>swing</td>\n",
              "      <td>blocker</td>\n",
              "      <td>P3</td>\n",
              "      <td>roman</td>\n",
              "      <td>david.gilbert roman roman cvs-commit roman twi...</td>\n",
              "      <td>FIXED</td>\n",
              "    </tr>\n",
              "    <tr>\n",
              "      <th>117</th>\n",
              "      <td>24987</td>\n",
              "      <td>classpath</td>\n",
              "      <td>dialog broken</td>\n",
              "      <td>strang start dialog swing activ board dialog w...</td>\n",
              "      <td>swing</td>\n",
              "      <td>blocker</td>\n",
              "      <td>P3</td>\n",
              "      <td>roman</td>\n",
              "      <td>audriusa audriusa langel roman</td>\n",
              "      <td>FIXED</td>\n",
              "    </tr>\n",
              "    <tr>\n",
              "      <th>118</th>\n",
              "      <td>27973</td>\n",
              "      <td>classpath</td>\n",
              "      <td>defaultstyleddocu interoper html support imple...</td>\n",
              "      <td>code implement function htmldocument complet f...</td>\n",
              "      <td>swing</td>\n",
              "      <td>blocker</td>\n",
              "      <td>P3</td>\n",
              "      <td>roman</td>\n",
              "      <td>audriusa audriusa audriusa audriusa roman audr...</td>\n",
              "      <td>FIXED</td>\n",
              "    </tr>\n",
              "    <tr>\n",
              "      <th>119</th>\n",
              "      <td>28534</td>\n",
              "      <td>classpath</td>\n",
              "      <td>regress javax swing jtre</td>\n",
              "      <td>attach code snippet return null current cv hea...</td>\n",
              "      <td>swing</td>\n",
              "      <td>no-blocker</td>\n",
              "      <td>P3</td>\n",
              "      <td>roman</td>\n",
              "      <td>gnu_andrew gnu_andrew cvs-commit roman cvs-com...</td>\n",
              "      <td>FIXED</td>\n",
              "    </tr>\n",
              "  </tbody>\n",
              "</table>\n",
              "</div>"
            ],
            "text/plain": [
              "     Bug_report_ID  ... status\n",
              "0            21065  ...  FIXED\n",
              "1            23557  ...  FIXED\n",
              "2            27833  ...  FIXED\n",
              "111          22616  ...  FIXED\n",
              "112          24099  ...  FIXED\n",
              "114          27297  ...  FIXED\n",
              "115          27326  ...  FIXED\n",
              "116          29448  ...  FIXED\n",
              "117          24987  ...  FIXED\n",
              "118          27973  ...  FIXED\n",
              "119          28534  ...  FIXED\n",
              "\n",
              "[11 rows x 10 columns]"
            ]
          },
          "metadata": {},
          "execution_count": 13
        }
      ]
    },
    {
      "cell_type": "code",
      "metadata": {
        "id": "ZU8olx_TZWlA",
        "colab": {
          "base_uri": "https://localhost:8080/"
        },
        "outputId": "cc31e49c-65b6-4755-b8b7-a2ae2a8c5ab7"
      },
      "source": [
        "df.shape[0]"
      ],
      "execution_count": 14,
      "outputs": [
        {
          "output_type": "execute_result",
          "data": {
            "text/plain": [
              "2748"
            ]
          },
          "metadata": {},
          "execution_count": 14
        }
      ]
    },
    {
      "cell_type": "code",
      "metadata": {
        "colab": {
          "base_uri": "https://localhost:8080/"
        },
        "id": "LHkKHvlzTKho",
        "outputId": "e98d03d8-8479-4fb9-ebdc-6f45f6cf0369"
      },
      "source": [
        "# Stop Words\n",
        "\n",
        "nltk.download('stopwords')\n",
        "\n",
        "nltk.download('punkt')\n",
        "\n",
        "stop_words = nltk.corpus.stopwords.words('english')\n",
        "\n",
        "text_clf   = Pipeline([\n",
        "                # Vectorize\n",
        "                ('vect',  TfidfVectorizer(tokenizer=tokenize, \n",
        "                                          stop_words=stop_words, \n",
        "                                          ngram_range=(1,1))),\n",
        "                # Classificador\n",
        "                ('clf',   KNeighborsClassifier(n_jobs=-5)),\n",
        "            ])"
      ],
      "execution_count": 15,
      "outputs": [
        {
          "output_type": "stream",
          "name": "stdout",
          "text": [
            "[nltk_data] Downloading package stopwords to /root/nltk_data...\n",
            "[nltk_data]   Unzipping corpora/stopwords.zip.\n",
            "[nltk_data] Downloading package punkt to /root/nltk_data...\n",
            "[nltk_data]   Unzipping tokenizers/punkt.zip.\n"
          ]
        }
      ]
    },
    {
      "cell_type": "markdown",
      "metadata": {
        "id": "E6DXq9HQKc_n"
      },
      "source": [
        "Divididos em 11 quadros não sobrepostos de tamanhos iguais."
      ]
    },
    {
      "cell_type": "code",
      "metadata": {
        "colab": {
          "base_uri": "https://localhost:8080/"
        },
        "id": "9EzrCZlgzs4A",
        "outputId": "09f757f9-72fb-4014-dbfd-e8bd5c998ebb"
      },
      "source": [
        "df_set = []\n",
        "k = 249\n",
        "for i in range(0,10):\n",
        "  df_set.append(df.iloc[i*249:k])\n",
        "  k += 249\n",
        "  print(\"Quadro {}\".format(i), \"possui {} entradas.\".format(df_set[i].shape[0]))\n",
        "\n",
        "df_set.append(df.iloc[2490:2748])\n",
        "\n",
        "print(\"Quadro 10 possui {} entradas.\".format(df_set[10].shape[0]))"
      ],
      "execution_count": 17,
      "outputs": [
        {
          "output_type": "stream",
          "name": "stdout",
          "text": [
            "Quadro 0 possui 249 entradas.\n",
            "Quadro 1 possui 249 entradas.\n",
            "Quadro 2 possui 249 entradas.\n",
            "Quadro 3 possui 249 entradas.\n",
            "Quadro 4 possui 249 entradas.\n",
            "Quadro 5 possui 249 entradas.\n",
            "Quadro 6 possui 249 entradas.\n",
            "Quadro 7 possui 249 entradas.\n",
            "Quadro 8 possui 249 entradas.\n",
            "Quadro 9 possui 249 entradas.\n",
            "Quadro 10 possui 258 entradas.\n"
          ]
        }
      ]
    },
    {
      "cell_type": "code",
      "metadata": {
        "id": "4fmguTH8ua9v"
      },
      "source": [
        "X_test = []\n",
        "\n",
        "for i in range(0, 10):\n",
        "  new_df = df_set[0]\n",
        "  for j in range(0, i):\n",
        "    new_df = pd.merge(new_df, df_set[j+1], how = 'outer')\n",
        "  X_test.append(new_df)"
      ],
      "execution_count": 18,
      "outputs": []
    },
    {
      "cell_type": "code",
      "metadata": {
        "colab": {
          "base_uri": "https://localhost:8080/"
        },
        "id": "H-hLFCzmvCSV",
        "outputId": "3eb2b31d-6370-49d6-b317-2451449dc1e3"
      },
      "source": [
        "for i in range(0, len(X_test)):\n",
        "  print(\"Treinamento {}, possui {} entradas.\". format(i+1, X_test[i].shape[0]))"
      ],
      "execution_count": 19,
      "outputs": [
        {
          "output_type": "stream",
          "name": "stdout",
          "text": [
            "Treinamento 1, possui 249 entradas.\n",
            "Treinamento 2, possui 498 entradas.\n",
            "Treinamento 3, possui 747 entradas.\n",
            "Treinamento 4, possui 996 entradas.\n",
            "Treinamento 5, possui 1245 entradas.\n",
            "Treinamento 6, possui 1494 entradas.\n",
            "Treinamento 7, possui 1743 entradas.\n",
            "Treinamento 8, possui 1992 entradas.\n",
            "Treinamento 9, possui 2241 entradas.\n",
            "Treinamento 10, possui 2490 entradas.\n"
          ]
        }
      ]
    },
    {
      "cell_type": "code",
      "metadata": {
        "id": "39y6FF1gZWlE"
      },
      "source": [
        "# Evaluate\n",
        "for i in range(0, len(X_test)):\n",
        "  text_clf = text_clf.fit(X_test[i].description, X_test[i].assignee_developers)\n",
        "  pred = text_clf.predict(df_set[i+1].description)\n",
        "  accuracy_scoreMLP_TFIDF = f1_score(df_set[i+1].assignee_developers, pred, average='micro')\n",
        "  accuracy_scoreMLP_TFIDF"
      ],
      "execution_count": 20,
      "outputs": []
    },
    {
      "cell_type": "code",
      "metadata": {
        "id": "0EjKaY2zZWlG"
      },
      "source": [
        "\n",
        "predictions = text_clf.predict(df_set[10].description)\n",
        "\n",
        "conf_matrix = confusion_matrix(df_set[10].assignee_developers, predictions)"
      ],
      "execution_count": null,
      "outputs": []
    },
    {
      "cell_type": "code",
      "metadata": {
        "id": "NuKTCrP8ZWlH",
        "colab": {
          "base_uri": "https://localhost:8080/",
          "height": 592
        },
        "outputId": "4f86f5ad-cd1c-4510-8d19-856ad6b7eb90"
      },
      "source": [
        "plt.figure(figsize=(10,10))\n",
        "plt.xticks(np.arange(len(text_clf.classes_)),text_clf.classes_)\n",
        "plt.yticks(np.arange(len(text_clf.classes_)),text_clf.classes_)\n",
        "plt.imshow(conf_matrix,cmap=plt.cm.Blues)\n",
        "plt.colorbar()"
      ],
      "execution_count": null,
      "outputs": [
        {
          "output_type": "execute_result",
          "data": {
            "text/plain": [
              "<matplotlib.colorbar.Colorbar at 0x7f080db03450>"
            ]
          },
          "metadata": {},
          "execution_count": 37
        },
        {
          "output_type": "display_data",
          "data": {
            "image/png": "[encoded data removed]",
            "text/plain": [
              "<Figure size 720x720 with 2 Axes>"
            ]
          },
          "metadata": {
            "needs_background": "light"
          }
        }
      ]
    }
  ]
}