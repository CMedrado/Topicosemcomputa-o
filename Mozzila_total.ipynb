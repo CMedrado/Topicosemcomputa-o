{
  "nbformat": 4,
  "nbformat_minor": 0,
  "metadata": {
    "kernelspec": {
      "display_name": "Python 3",
      "language": "python",
      "name": "python3"
    },
    "language_info": {
      "codemirror_mode": {
        "name": "ipython",
        "version": 3
      },
      "file_extension": ".py",
      "mimetype": "text/x-python",
      "name": "python",
      "nbconvert_exporter": "python",
      "pygments_lexer": "ipython3",
      "version": "3.7.3"
    },
    "toc": {
      "base_numbering": 1,
      "nav_menu": {},
      "number_sections": true,
      "sideBar": true,
      "skip_h1_title": false,
      "title_cell": "Table of Contents",
      "title_sidebar": "Contents",
      "toc_cell": false,
      "toc_position": {},
      "toc_section_display": true,
      "toc_window_display": false
    },
    "colab": {
      "name": "Mozzila_total.ipynb",
      "provenance": [],
      "collapsed_sections": [],
      "include_colab_link": true
    }
  },
  "cells": [
    {
      "cell_type": "markdown",
      "metadata": {
        "id": "view-in-github",
        "colab_type": "text"
      },
      "source": [
        "<a href=\"https://colab.research.google.com/github/CMedrado/Topicosemcomputa-o/blob/main/Mozzila_total.ipynb\" target=\"_parent\"><img src=\"https://colab.research.google.com/assets/colab-badge.svg\" alt=\"Open In Colab\"/></a>"
      ]
    },
    {
      "cell_type": "markdown",
      "metadata": {
        "id": "YHZA93r5ZWkv"
      },
      "source": [
        "# Classificação de Texto no contexto da Predição de Severidade de Bug Reports\n",
        "\n",
        "Exemplo de classificação de texto com pipeline de NLP e classificador no final"
      ]
    },
    {
      "cell_type": "code",
      "metadata": {
        "id": "Nx_2ZKqmZWk3"
      },
      "source": [
        "import nltk\n",
        "from nltk.tokenize import word_tokenize\n",
        "from nltk.stem.snowball import SnowballStemmer\n",
        "from sklearn.feature_extraction.text import TfidfVectorizer, CountVectorizer\n",
        "import pandas as pd\n",
        "import numpy as np\n",
        "import matplotlib.pyplot as plt\n",
        "%matplotlib inline\n",
        "import warnings\n",
        "warnings.simplefilter(\"ignore\")\n",
        "\n",
        "from sklearn.model_selection import train_test_split\n",
        "from sklearn.pipeline import Pipeline\n",
        "from sklearn.neighbors import KNeighborsClassifier\n",
        "from sklearn.metrics import accuracy_score\n",
        "from sklearn.metrics import f1_score\n",
        "from sklearn.metrics import confusion_matrix\n",
        "from sklearn.metrics import plot_confusion_matrix\n"
      ],
      "execution_count": 1,
      "outputs": []
    },
    {
      "cell_type": "code",
      "metadata": {
        "id": "-sbOi1hdZWk7"
      },
      "source": [
        "# Tokenização\n",
        "def tokenize(text):\n",
        "    # Tokenização\n",
        "    tokens = nltk.word_tokenize(text)\n",
        "    \n",
        "    # Stemização\n",
        "    stems  = []\n",
        "    for item in tokens:\n",
        "        stems.append(SnowballStemmer(\"english\").stem(item))\n",
        "    return stems"
      ],
      "execution_count": 2,
      "outputs": []
    },
    {
      "cell_type": "code",
      "metadata": {
        "colab": {
          "base_uri": "https://localhost:8080/"
        },
        "id": "6zLolLTX0e_U",
        "outputId": "5522e459-f618-4885-ab09-9ca3ab56cb9c"
      },
      "source": [
        "from google.colab import drive\n",
        "drive.mount('/content/drive')"
      ],
      "execution_count": 3,
      "outputs": [
        {
          "output_type": "stream",
          "name": "stdout",
          "text": [
            "Mounted at /content/drive\n"
          ]
        }
      ]
    },
    {
      "cell_type": "code",
      "metadata": {
        "id": "O2rgEUvzZWk9",
        "colab": {
          "base_uri": "https://localhost:8080/",
          "height": 1000
        },
        "outputId": "3a9f2305-fae1-411e-92b0-2ba116c67dc0"
      },
      "source": [
        "# Carregando os dados\n",
        "df = pd.read_csv('/content/drive/My Drive/TP/PF/Dataset (1)/Mozilla_total.csv') # Salvamos com esse nome antes\n",
        "\n",
        "# Dataset\n",
        "df.head(11)"
      ],
      "execution_count": 4,
      "outputs": [
        {
          "output_type": "execute_result",
          "data": {
            "text/html": [
              "<div>\n",
              "<style scoped>\n",
              "    .dataframe tbody tr th:only-of-type {\n",
              "        vertical-align: middle;\n",
              "    }\n",
              "\n",
              "    .dataframe tbody tr th {\n",
              "        vertical-align: top;\n",
              "    }\n",
              "\n",
              "    .dataframe thead th {\n",
              "        text-align: right;\n",
              "    }\n",
              "</style>\n",
              "<table border=\"1\" class=\"dataframe\">\n",
              "  <thead>\n",
              "    <tr style=\"text-align: right;\">\n",
              "      <th></th>\n",
              "      <th>Bug_report_ID</th>\n",
              "      <th>Product_Name</th>\n",
              "      <th>summary</th>\n",
              "      <th>description</th>\n",
              "      <th>component_name</th>\n",
              "      <th>severity_level</th>\n",
              "      <th>priority</th>\n",
              "      <th>assignee_developers</th>\n",
              "      <th>topic_id</th>\n",
              "      <th>status</th>\n",
              "    </tr>\n",
              "  </thead>\n",
              "  <tbody>\n",
              "    <tr>\n",
              "      <th>0</th>\n",
              "      <td>1077381</td>\n",
              "      <td>Firefox for Android</td>\n",
              "      <td>android nightli fail unicodeencodeerror ascii ...</td>\n",
              "      <td>http treeherder mozilla org ui logviewer html ...</td>\n",
              "      <td>Build Config &amp; IDE Support</td>\n",
              "      <td>blocker</td>\n",
              "      <td>--</td>\n",
              "      <td>nalexander</td>\n",
              "      <td>emorley tbplbot tbplbot l10n nalexander l10n n...</td>\n",
              "      <td>FIXED</td>\n",
              "    </tr>\n",
              "    <tr>\n",
              "      <th>1</th>\n",
              "      <td>843997</td>\n",
              "      <td>Firefox for Android</td>\n",
              "      <td>mobil websit correctli display</td>\n",
              "      <td>creat attach log firefox mobil beta aurora a s...</td>\n",
              "      <td>Graphics, Panning and Zooming</td>\n",
              "      <td>blocker</td>\n",
              "      <td>--</td>\n",
              "      <td>nobody</td>\n",
              "      <td>adriant.mozilla adriant.mozilla catalin.suciu ...</td>\n",
              "      <td>FIXED</td>\n",
              "    </tr>\n",
              "    <tr>\n",
              "      <th>2</th>\n",
              "      <td>854289</td>\n",
              "      <td>Firefox for Android</td>\n",
              "      <td>dynam toolbar activ html element map shift aff...</td>\n",
              "      <td>creat attach annot screenshot dynam toolbar en...</td>\n",
              "      <td>Graphics, Panning and Zooming</td>\n",
              "      <td>blocker</td>\n",
              "      <td>--</td>\n",
              "      <td>chrislord.net</td>\n",
              "      <td>nirvn.asia nirvn.asia gpascutto aaron.train aa...</td>\n",
              "      <td>FIXED</td>\n",
              "    </tr>\n",
              "    <tr>\n",
              "      <th>3</th>\n",
              "      <td>844020</td>\n",
              "      <td>Firefox for Android</td>\n",
              "      <td>swiftkey keyboard firefox android hang firefox...</td>\n",
              "      <td>user agent mozilla window nt wow rv gecko fire...</td>\n",
              "      <td>Keyboards and IME</td>\n",
              "      <td>critical</td>\n",
              "      <td>--</td>\n",
              "      <td>bugmail.mozilla</td>\n",
              "      <td>EddyCarr EddyCarr aaron.train bugmail.mozilla ...</td>\n",
              "      <td>FIXED</td>\n",
              "    </tr>\n",
              "    <tr>\n",
              "      <th>4</th>\n",
              "      <td>912173</td>\n",
              "      <td>Firefox for Android</td>\n",
              "      <td>crash mozilla refptr mozilla gl glcontext refptr</td>\n",
              "      <td>bug file socorro interfac report bp f a b a f ...</td>\n",
              "      <td>Graphics, Panning and Zooming</td>\n",
              "      <td>critical</td>\n",
              "      <td>--</td>\n",
              "      <td>matt.woodrow</td>\n",
              "      <td>nchen jacob.benoit.1 milan nchen nchen matt.wo...</td>\n",
              "      <td>FIXED</td>\n",
              "    </tr>\n",
              "    <tr>\n",
              "      <th>5</th>\n",
              "      <td>870333</td>\n",
              "      <td>Firefox for Android</td>\n",
              "      <td>java lang nullpointerexcept android view input...</td>\n",
              "      <td>crash a bp c bc b ec a c ff b java lang nullpo...</td>\n",
              "      <td>Keyboards and IME</td>\n",
              "      <td>critical</td>\n",
              "      <td>--</td>\n",
              "      <td>briancecker</td>\n",
              "      <td>scoobidiver cpeterson briancecker cpeterson br...</td>\n",
              "      <td>FIXED</td>\n",
              "    </tr>\n",
              "    <tr>\n",
              "      <th>6</th>\n",
              "      <td>970096</td>\n",
              "      <td>Firefox for Android</td>\n",
              "      <td>crash mozilla gl glcontextprovideregl createfo...</td>\n",
              "      <td>bug file socorro interfac report bp b e eae aa...</td>\n",
              "      <td>Graphics, Panning and Zooming</td>\n",
              "      <td>critical</td>\n",
              "      <td>--</td>\n",
              "      <td>snorp</td>\n",
              "      <td>kbrosnan snorp kbrosnan snorp snorp jacob.beno...</td>\n",
              "      <td>FIXED</td>\n",
              "    </tr>\n",
              "    <tr>\n",
              "      <th>7</th>\n",
              "      <td>1102946</td>\n",
              "      <td>Firefox for Android</td>\n",
              "      <td>crash java lang nullpointerexcept org mozilla ...</td>\n",
              "      <td>bug file socorro interfac report bp b f d f a ...</td>\n",
              "      <td>Data Providers</td>\n",
              "      <td>critical</td>\n",
              "      <td>--</td>\n",
              "      <td>rnewman</td>\n",
              "      <td>aaron.train rnewman kbrosnan rnewman</td>\n",
              "      <td>FIXED</td>\n",
              "    </tr>\n",
              "    <tr>\n",
              "      <th>8</th>\n",
              "      <td>827176</td>\n",
              "      <td>Firefox for Android</td>\n",
              "      <td>java lang nullpointerexcept org mozilla gecko ...</td>\n",
              "      <td>crash a a crash report bp fa a eaf b java lang...</td>\n",
              "      <td>Keyboards and IME</td>\n",
              "      <td>critical</td>\n",
              "      <td>--</td>\n",
              "      <td>nchen</td>\n",
              "      <td>scoobidiver nchen cpeterson nchen ryanvm nchen...</td>\n",
              "      <td>FIXED</td>\n",
              "    </tr>\n",
              "    <tr>\n",
              "      <th>9</th>\n",
              "      <td>866032</td>\n",
              "      <td>Firefox for Android</td>\n",
              "      <td>java lang nullpointerexcept org mozilla gecko ...</td>\n",
              "      <td>s crash a bp bffe b d dc a a java lang nullpoi...</td>\n",
              "      <td>Graphics, Panning and Zooming</td>\n",
              "      <td>critical</td>\n",
              "      <td>--</td>\n",
              "      <td>nobody</td>\n",
              "      <td>scoobidiver bugmail.mozilla</td>\n",
              "      <td>FIXED</td>\n",
              "    </tr>\n",
              "    <tr>\n",
              "      <th>10</th>\n",
              "      <td>846660</td>\n",
              "      <td>Firefox for Android</td>\n",
              "      <td>java lang instantiationexcept instanti class c...</td>\n",
              "      <td>s crasher affect devic day februari samsung gt...</td>\n",
              "      <td>Keyboards and IME</td>\n",
              "      <td>critical</td>\n",
              "      <td>--</td>\n",
              "      <td>nchen</td>\n",
              "      <td>scoobidiver cpeterson nchen nchen cpeterson nc...</td>\n",
              "      <td>FIXED</td>\n",
              "    </tr>\n",
              "  </tbody>\n",
              "</table>\n",
              "</div>"
            ],
            "text/plain": [
              "    Bug_report_ID  ... status\n",
              "0         1077381  ...  FIXED\n",
              "1          843997  ...  FIXED\n",
              "2          854289  ...  FIXED\n",
              "3          844020  ...  FIXED\n",
              "4          912173  ...  FIXED\n",
              "5          870333  ...  FIXED\n",
              "6          970096  ...  FIXED\n",
              "7         1102946  ...  FIXED\n",
              "8          827176  ...  FIXED\n",
              "9          866032  ...  FIXED\n",
              "10         846660  ...  FIXED\n",
              "\n",
              "[11 rows x 10 columns]"
            ]
          },
          "metadata": {},
          "execution_count": 4
        }
      ]
    },
    {
      "cell_type": "code",
      "metadata": {
        "colab": {
          "base_uri": "https://localhost:8080/"
        },
        "id": "cmqYBbKPhvKW",
        "outputId": "9228eb08-2202-40c1-99d1-bf63b04166b1"
      },
      "source": [
        "df['severity_level'].value_counts()"
      ],
      "execution_count": 5,
      "outputs": [
        {
          "output_type": "execute_result",
          "data": {
            "text/plain": [
              "normal         15226\n",
              "enhancement      865\n",
              "minor            711\n",
              "major            705\n",
              "critical         532\n",
              "trivial          463\n",
              "blocker          291\n",
              "Name: severity_level, dtype: int64"
            ]
          },
          "metadata": {},
          "execution_count": 5
        }
      ]
    },
    {
      "cell_type": "code",
      "metadata": {
        "colab": {
          "base_uri": "https://localhost:8080/"
        },
        "id": "vjKFYlSFfKTP",
        "outputId": "fe6c23a8-d771-49bd-8eb6-ec2a0752aa9e"
      },
      "source": [
        "class_names = df['severity_level'].unique()\n",
        "class_names"
      ],
      "execution_count": 6,
      "outputs": [
        {
          "output_type": "execute_result",
          "data": {
            "text/plain": [
              "array(['blocker', 'critical', 'major', 'normal', 'minor', 'trivial',\n",
              "       'enhancement'], dtype=object)"
            ]
          },
          "metadata": {},
          "execution_count": 6
        }
      ]
    },
    {
      "cell_type": "code",
      "metadata": {
        "colab": {
          "base_uri": "https://localhost:8080/"
        },
        "id": "bAkUcshz_X6_",
        "outputId": "64390c7a-7fe4-4dc3-eb0c-dd6bec1a915d"
      },
      "source": [
        "status_names = df['status'].unique() \n",
        "status_names"
      ],
      "execution_count": 7,
      "outputs": [
        {
          "output_type": "execute_result",
          "data": {
            "text/plain": [
              "array(['FIXED'], dtype=object)"
            ]
          },
          "metadata": {},
          "execution_count": 7
        }
      ]
    },
    {
      "cell_type": "code",
      "metadata": {
        "id": "Fp1Uv4L0qKaG"
      },
      "source": [
        "#Convertendo 'summary' e 'description' para string\n",
        "df = df.astype({'summary':'str', 'description':'str'})"
      ],
      "execution_count": 8,
      "outputs": []
    },
    {
      "cell_type": "code",
      "metadata": {
        "id": "G0Nm3A_TvctI"
      },
      "source": [
        "#Filtrando severidades confiaveis\n",
        "df = df.loc[(df['severity_level'] != 'enhancement') & (df['severity_level'] != 'normal')]"
      ],
      "execution_count": 9,
      "outputs": []
    },
    {
      "cell_type": "code",
      "metadata": {
        "id": "Kzq3C3QS800G"
      },
      "source": [
        "#Modificando severidade diferente de blocker (Classificação binaria)\n",
        "df.loc[(df['severity_level'] != 'blocker'), 'severity_level'] = \"no-blocker\""
      ],
      "execution_count": 11,
      "outputs": []
    },
    {
      "cell_type": "code",
      "metadata": {
        "colab": {
          "base_uri": "https://localhost:8080/"
        },
        "id": "dz-C_juw2jNL",
        "outputId": "0198c203-fa7b-4596-fe07-4928d2c04160"
      },
      "source": [
        "df['severity_level'].value_counts()"
      ],
      "execution_count": 12,
      "outputs": [
        {
          "output_type": "execute_result",
          "data": {
            "text/plain": [
              "no-blocker    2411\n",
              "blocker        291\n",
              "Name: severity_level, dtype: int64"
            ]
          },
          "metadata": {},
          "execution_count": 12
        }
      ]
    },
    {
      "cell_type": "code",
      "metadata": {
        "colab": {
          "base_uri": "https://localhost:8080/",
          "height": 1000
        },
        "id": "dU31wUm5tY9S",
        "outputId": "90d1b610-df00-45ac-e7a2-1ee4d7fd025e"
      },
      "source": [
        "df.head(11)"
      ],
      "execution_count": 13,
      "outputs": [
        {
          "output_type": "execute_result",
          "data": {
            "text/html": [
              "<div>\n",
              "<style scoped>\n",
              "    .dataframe tbody tr th:only-of-type {\n",
              "        vertical-align: middle;\n",
              "    }\n",
              "\n",
              "    .dataframe tbody tr th {\n",
              "        vertical-align: top;\n",
              "    }\n",
              "\n",
              "    .dataframe thead th {\n",
              "        text-align: right;\n",
              "    }\n",
              "</style>\n",
              "<table border=\"1\" class=\"dataframe\">\n",
              "  <thead>\n",
              "    <tr style=\"text-align: right;\">\n",
              "      <th></th>\n",
              "      <th>Bug_report_ID</th>\n",
              "      <th>Product_Name</th>\n",
              "      <th>summary</th>\n",
              "      <th>description</th>\n",
              "      <th>component_name</th>\n",
              "      <th>severity_level</th>\n",
              "      <th>priority</th>\n",
              "      <th>assignee_developers</th>\n",
              "      <th>topic_id</th>\n",
              "      <th>status</th>\n",
              "    </tr>\n",
              "  </thead>\n",
              "  <tbody>\n",
              "    <tr>\n",
              "      <th>0</th>\n",
              "      <td>1077381</td>\n",
              "      <td>Firefox for Android</td>\n",
              "      <td>android nightli fail unicodeencodeerror ascii ...</td>\n",
              "      <td>http treeherder mozilla org ui logviewer html ...</td>\n",
              "      <td>Build Config &amp; IDE Support</td>\n",
              "      <td>blocker</td>\n",
              "      <td>--</td>\n",
              "      <td>nalexander</td>\n",
              "      <td>emorley tbplbot tbplbot l10n nalexander l10n n...</td>\n",
              "      <td>FIXED</td>\n",
              "    </tr>\n",
              "    <tr>\n",
              "      <th>1</th>\n",
              "      <td>843997</td>\n",
              "      <td>Firefox for Android</td>\n",
              "      <td>mobil websit correctli display</td>\n",
              "      <td>creat attach log firefox mobil beta aurora a s...</td>\n",
              "      <td>Graphics, Panning and Zooming</td>\n",
              "      <td>blocker</td>\n",
              "      <td>--</td>\n",
              "      <td>nobody</td>\n",
              "      <td>adriant.mozilla adriant.mozilla catalin.suciu ...</td>\n",
              "      <td>FIXED</td>\n",
              "    </tr>\n",
              "    <tr>\n",
              "      <th>2</th>\n",
              "      <td>854289</td>\n",
              "      <td>Firefox for Android</td>\n",
              "      <td>dynam toolbar activ html element map shift aff...</td>\n",
              "      <td>creat attach annot screenshot dynam toolbar en...</td>\n",
              "      <td>Graphics, Panning and Zooming</td>\n",
              "      <td>blocker</td>\n",
              "      <td>--</td>\n",
              "      <td>chrislord.net</td>\n",
              "      <td>nirvn.asia nirvn.asia gpascutto aaron.train aa...</td>\n",
              "      <td>FIXED</td>\n",
              "    </tr>\n",
              "    <tr>\n",
              "      <th>3</th>\n",
              "      <td>844020</td>\n",
              "      <td>Firefox for Android</td>\n",
              "      <td>swiftkey keyboard firefox android hang firefox...</td>\n",
              "      <td>user agent mozilla window nt wow rv gecko fire...</td>\n",
              "      <td>Keyboards and IME</td>\n",
              "      <td>no-blocker</td>\n",
              "      <td>--</td>\n",
              "      <td>bugmail.mozilla</td>\n",
              "      <td>EddyCarr EddyCarr aaron.train bugmail.mozilla ...</td>\n",
              "      <td>FIXED</td>\n",
              "    </tr>\n",
              "    <tr>\n",
              "      <th>4</th>\n",
              "      <td>912173</td>\n",
              "      <td>Firefox for Android</td>\n",
              "      <td>crash mozilla refptr mozilla gl glcontext refptr</td>\n",
              "      <td>bug file socorro interfac report bp f a b a f ...</td>\n",
              "      <td>Graphics, Panning and Zooming</td>\n",
              "      <td>no-blocker</td>\n",
              "      <td>--</td>\n",
              "      <td>matt.woodrow</td>\n",
              "      <td>nchen jacob.benoit.1 milan nchen nchen matt.wo...</td>\n",
              "      <td>FIXED</td>\n",
              "    </tr>\n",
              "    <tr>\n",
              "      <th>5</th>\n",
              "      <td>870333</td>\n",
              "      <td>Firefox for Android</td>\n",
              "      <td>java lang nullpointerexcept android view input...</td>\n",
              "      <td>crash a bp c bc b ec a c ff b java lang nullpo...</td>\n",
              "      <td>Keyboards and IME</td>\n",
              "      <td>no-blocker</td>\n",
              "      <td>--</td>\n",
              "      <td>briancecker</td>\n",
              "      <td>scoobidiver cpeterson briancecker cpeterson br...</td>\n",
              "      <td>FIXED</td>\n",
              "    </tr>\n",
              "    <tr>\n",
              "      <th>6</th>\n",
              "      <td>970096</td>\n",
              "      <td>Firefox for Android</td>\n",
              "      <td>crash mozilla gl glcontextprovideregl createfo...</td>\n",
              "      <td>bug file socorro interfac report bp b e eae aa...</td>\n",
              "      <td>Graphics, Panning and Zooming</td>\n",
              "      <td>no-blocker</td>\n",
              "      <td>--</td>\n",
              "      <td>snorp</td>\n",
              "      <td>kbrosnan snorp kbrosnan snorp snorp jacob.beno...</td>\n",
              "      <td>FIXED</td>\n",
              "    </tr>\n",
              "    <tr>\n",
              "      <th>7</th>\n",
              "      <td>1102946</td>\n",
              "      <td>Firefox for Android</td>\n",
              "      <td>crash java lang nullpointerexcept org mozilla ...</td>\n",
              "      <td>bug file socorro interfac report bp b f d f a ...</td>\n",
              "      <td>Data Providers</td>\n",
              "      <td>no-blocker</td>\n",
              "      <td>--</td>\n",
              "      <td>rnewman</td>\n",
              "      <td>aaron.train rnewman kbrosnan rnewman</td>\n",
              "      <td>FIXED</td>\n",
              "    </tr>\n",
              "    <tr>\n",
              "      <th>8</th>\n",
              "      <td>827176</td>\n",
              "      <td>Firefox for Android</td>\n",
              "      <td>java lang nullpointerexcept org mozilla gecko ...</td>\n",
              "      <td>crash a a crash report bp fa a eaf b java lang...</td>\n",
              "      <td>Keyboards and IME</td>\n",
              "      <td>no-blocker</td>\n",
              "      <td>--</td>\n",
              "      <td>nchen</td>\n",
              "      <td>scoobidiver nchen cpeterson nchen ryanvm nchen...</td>\n",
              "      <td>FIXED</td>\n",
              "    </tr>\n",
              "    <tr>\n",
              "      <th>9</th>\n",
              "      <td>866032</td>\n",
              "      <td>Firefox for Android</td>\n",
              "      <td>java lang nullpointerexcept org mozilla gecko ...</td>\n",
              "      <td>s crash a bp bffe b d dc a a java lang nullpoi...</td>\n",
              "      <td>Graphics, Panning and Zooming</td>\n",
              "      <td>no-blocker</td>\n",
              "      <td>--</td>\n",
              "      <td>nobody</td>\n",
              "      <td>scoobidiver bugmail.mozilla</td>\n",
              "      <td>FIXED</td>\n",
              "    </tr>\n",
              "    <tr>\n",
              "      <th>10</th>\n",
              "      <td>846660</td>\n",
              "      <td>Firefox for Android</td>\n",
              "      <td>java lang instantiationexcept instanti class c...</td>\n",
              "      <td>s crasher affect devic day februari samsung gt...</td>\n",
              "      <td>Keyboards and IME</td>\n",
              "      <td>no-blocker</td>\n",
              "      <td>--</td>\n",
              "      <td>nchen</td>\n",
              "      <td>scoobidiver cpeterson nchen nchen cpeterson nc...</td>\n",
              "      <td>FIXED</td>\n",
              "    </tr>\n",
              "  </tbody>\n",
              "</table>\n",
              "</div>"
            ],
            "text/plain": [
              "    Bug_report_ID  ... status\n",
              "0         1077381  ...  FIXED\n",
              "1          843997  ...  FIXED\n",
              "2          854289  ...  FIXED\n",
              "3          844020  ...  FIXED\n",
              "4          912173  ...  FIXED\n",
              "5          870333  ...  FIXED\n",
              "6          970096  ...  FIXED\n",
              "7         1102946  ...  FIXED\n",
              "8          827176  ...  FIXED\n",
              "9          866032  ...  FIXED\n",
              "10         846660  ...  FIXED\n",
              "\n",
              "[11 rows x 10 columns]"
            ]
          },
          "metadata": {},
          "execution_count": 13
        }
      ]
    },
    {
      "cell_type": "code",
      "metadata": {
        "id": "ZU8olx_TZWlA",
        "colab": {
          "base_uri": "https://localhost:8080/"
        },
        "outputId": "5dd4238d-9f3c-4974-fbd7-58fdd5856178"
      },
      "source": [
        "df.shape[0]"
      ],
      "execution_count": 14,
      "outputs": [
        {
          "output_type": "execute_result",
          "data": {
            "text/plain": [
              "2702"
            ]
          },
          "metadata": {},
          "execution_count": 14
        }
      ]
    },
    {
      "cell_type": "code",
      "metadata": {
        "colab": {
          "base_uri": "https://localhost:8080/"
        },
        "id": "LHkKHvlzTKho",
        "outputId": "780b996c-4a36-4c8e-f562-db1643fb8012"
      },
      "source": [
        "# Stop Words\n",
        "\n",
        "nltk.download('stopwords')\n",
        "\n",
        "nltk.download('punkt')\n",
        "\n",
        "stop_words = nltk.corpus.stopwords.words('english')\n",
        "\n",
        "text_clf   = Pipeline([\n",
        "                # Vectorize\n",
        "                ('vect',  TfidfVectorizer(tokenizer=tokenize, \n",
        "                                          stop_words=stop_words, \n",
        "                                          ngram_range=(1,1))),\n",
        "                # Classificador\n",
        "                ('clf',   KNeighborsClassifier(n_jobs=-5)),\n",
        "            ])"
      ],
      "execution_count": 15,
      "outputs": [
        {
          "output_type": "stream",
          "name": "stdout",
          "text": [
            "[nltk_data] Downloading package stopwords to /root/nltk_data...\n",
            "[nltk_data]   Unzipping corpora/stopwords.zip.\n",
            "[nltk_data] Downloading package punkt to /root/nltk_data...\n",
            "[nltk_data]   Unzipping tokenizers/punkt.zip.\n"
          ]
        }
      ]
    },
    {
      "cell_type": "markdown",
      "metadata": {
        "id": "E6DXq9HQKc_n"
      },
      "source": [
        "Divididos em 11 quadros não sobrepostos de tamanhos iguais."
      ]
    },
    {
      "cell_type": "code",
      "metadata": {
        "colab": {
          "base_uri": "https://localhost:8080/"
        },
        "id": "9EzrCZlgzs4A",
        "outputId": "1bff72cb-49c7-4592-a7a4-560b7dc4377d"
      },
      "source": [
        "df_set = []\n",
        "k = 245\n",
        "for i in range(0,10):\n",
        "  df_set.append(df.iloc[i*245:k])\n",
        "  k += 245\n",
        "  print(\"Quadro {}\".format(i), \"possui {} entradas.\".format(df_set[i].shape[0]))\n",
        "\n",
        "df_set.append(df.iloc[2450:2702])\n",
        "\n",
        "print(\"Quadro 10 possui {} entradas.\".format(df_set[10].shape[0]))"
      ],
      "execution_count": 16,
      "outputs": [
        {
          "output_type": "stream",
          "name": "stdout",
          "text": [
            "Quadro 0 possui 245 entradas.\n",
            "Quadro 1 possui 245 entradas.\n",
            "Quadro 2 possui 245 entradas.\n",
            "Quadro 3 possui 245 entradas.\n",
            "Quadro 4 possui 245 entradas.\n",
            "Quadro 5 possui 245 entradas.\n",
            "Quadro 6 possui 245 entradas.\n",
            "Quadro 7 possui 245 entradas.\n",
            "Quadro 8 possui 245 entradas.\n",
            "Quadro 9 possui 245 entradas.\n",
            "Quadro 10 possui 252 entradas.\n"
          ]
        }
      ]
    },
    {
      "cell_type": "code",
      "metadata": {
        "id": "4fmguTH8ua9v"
      },
      "source": [
        "X_test = []\n",
        "\n",
        "for i in range(0, 10):\n",
        "  new_df = df_set[0]\n",
        "  for j in range(0, i):\n",
        "    new_df = pd.merge(new_df, df_set[j+1], how = 'outer')\n",
        "  X_test.append(new_df)"
      ],
      "execution_count": 17,
      "outputs": []
    },
    {
      "cell_type": "code",
      "metadata": {
        "colab": {
          "base_uri": "https://localhost:8080/"
        },
        "id": "H-hLFCzmvCSV",
        "outputId": "cc33f7f3-c60c-4816-aa74-011cc0ddd8c1"
      },
      "source": [
        "for i in range(0, len(X_test)):\n",
        "  print(\"Treinamento {}, possui {} entradas.\". format(i+1, X_test[i].shape[0]))"
      ],
      "execution_count": 18,
      "outputs": [
        {
          "output_type": "stream",
          "name": "stdout",
          "text": [
            "Treinamento 1, possui 245 entradas.\n",
            "Treinamento 2, possui 490 entradas.\n",
            "Treinamento 3, possui 735 entradas.\n",
            "Treinamento 4, possui 980 entradas.\n",
            "Treinamento 5, possui 1225 entradas.\n",
            "Treinamento 6, possui 1470 entradas.\n",
            "Treinamento 7, possui 1715 entradas.\n",
            "Treinamento 8, possui 1960 entradas.\n",
            "Treinamento 9, possui 2205 entradas.\n",
            "Treinamento 10, possui 2450 entradas.\n"
          ]
        }
      ]
    },
    {
      "cell_type": "code",
      "metadata": {
        "id": "39y6FF1gZWlE"
      },
      "source": [
        "# Evaluate\n",
        "for i in range(0, len(X_test)):\n",
        "  text_clf = text_clf.fit(X_test[i].description, X_test[i].assignee_developers)\n",
        "  pred = text_clf.predict(df_set[i+1].description)\n",
        "  accuracy_scoreMLP_TFIDF = f1_score(df_set[i+1].assignee_developers, pred, average='micro')\n",
        "  accuracy_scoreMLP_TFIDF"
      ],
      "execution_count": 19,
      "outputs": []
    },
    {
      "cell_type": "code",
      "metadata": {
        "id": "0EjKaY2zZWlG"
      },
      "source": [
        "\n",
        "predictions = text_clf.predict(df_set[10].description)\n",
        "\n",
        "conf_matrix = confusion_matrix(df_set[10].assignee_developers, predictions)"
      ],
      "execution_count": 20,
      "outputs": []
    },
    {
      "cell_type": "code",
      "metadata": {
        "id": "NuKTCrP8ZWlH",
        "colab": {
          "base_uri": "https://localhost:8080/",
          "height": 601
        },
        "outputId": "f58806e8-54d6-4a8e-87ba-8db9028efde5"
      },
      "source": [
        "plt.figure(figsize=(10,10))\n",
        "plt.xticks(np.arange(len(text_clf.classes_)),text_clf.classes_)\n",
        "plt.yticks(np.arange(len(text_clf.classes_)),text_clf.classes_)\n",
        "plt.imshow(conf_matrix,cmap=plt.cm.Blues)\n",
        "plt.colorbar()"
      ],
      "execution_count": 21,
      "outputs": [
        {
          "output_type": "execute_result",
          "data": {
            "text/plain": [
              "<matplotlib.colorbar.Colorbar at 0x7f59cff50b90>"
            ]
          },
          "metadata": {},
          "execution_count": 21
        },
        {
          "output_type": "display_data",
          "data": {
            "image/png": "[encoded data removed]",
            "text/plain": [
              "<Figure size 720x720 with 2 Axes>"
            ]
          },
          "metadata": {
            "needs_background": "light"
          }
        }
      ]
    }
  ]
}