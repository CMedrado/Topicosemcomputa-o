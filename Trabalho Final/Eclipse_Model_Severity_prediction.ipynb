{
  "nbformat": 4,
  "nbformat_minor": 0,
  "metadata": {
    "kernelspec": {
      "display_name": "Python 3",
      "language": "python",
      "name": "python3"
    },
    "language_info": {
      "codemirror_mode": {
        "name": "ipython",
        "version": 3
      },
      "file_extension": ".py",
      "mimetype": "text/x-python",
      "name": "python",
      "nbconvert_exporter": "python",
      "pygments_lexer": "ipython3",
      "version": "3.7.3"
    },
    "toc": {
      "base_numbering": 1,
      "nav_menu": {},
      "number_sections": true,
      "sideBar": true,
      "skip_h1_title": false,
      "title_cell": "Table of Contents",
      "title_sidebar": "Contents",
      "toc_cell": false,
      "toc_position": {},
      "toc_section_display": true,
      "toc_window_display": false
    },
    "colab": {
      "name": "Eclipse_Model_Severity_prediction.ipynb",
      "provenance": [],
      "collapsed_sections": [],
      "include_colab_link": true
    }
  },
  "cells": [
    {
      "cell_type": "markdown",
      "metadata": {
        "id": "view-in-github",
        "colab_type": "text"
      },
      "source": [
        "<a href=\"https://colab.research.google.com/github/CMedrado/Topicosemcomputa-o/blob/main/Eclipse_Model_Severity_prediction.ipynb\" target=\"_parent\"><img src=\"https://colab.research.google.com/assets/colab-badge.svg\" alt=\"Open In Colab\"/></a>"
      ]
    },
    {
      "cell_type": "markdown",
      "metadata": {
        "id": "YHZA93r5ZWkv"
      },
      "source": [
        "# Classificação de Texto no contexto da Predição de Severidade de Bug Reports\n",
        "\n",
        "Exemplo de classificação de texto com pipeline de NLP e classificador no final"
      ]
    },
    {
      "cell_type": "code",
      "metadata": {
        "id": "Nx_2ZKqmZWk3"
      },
      "source": [
        "import nltk\n",
        "from nltk.tokenize import word_tokenize\n",
        "from nltk.stem.snowball import SnowballStemmer\n",
        "from sklearn.feature_extraction.text import TfidfVectorizer, CountVectorizer\n",
        "import pandas as pd\n",
        "import numpy as np\n",
        "import matplotlib.pyplot as plt\n",
        "%matplotlib inline\n",
        "import warnings\n",
        "warnings.simplefilter(\"ignore\")\n",
        "\n",
        "from sklearn.model_selection import train_test_split\n",
        "from sklearn.pipeline import Pipeline\n",
        "from sklearn.neighbors import KNeighborsClassifier\n",
        "from sklearn.metrics import accuracy_score\n",
        "from sklearn.metrics import f1_score\n",
        "from sklearn.metrics import confusion_matrix\n",
        "from sklearn.metrics import plot_confusion_matrix\n"
      ],
      "execution_count": 2,
      "outputs": []
    },
    {
      "cell_type": "code",
      "metadata": {
        "id": "-sbOi1hdZWk7"
      },
      "source": [
        "# Tokenização\n",
        "def tokenize(text):\n",
        "    # Tokenização\n",
        "    tokens = nltk.word_tokenize(text)\n",
        "    \n",
        "    # Stemização\n",
        "    stems  = []\n",
        "    for item in tokens:\n",
        "        stems.append(SnowballStemmer(\"english\").stem(item))\n",
        "    return stems"
      ],
      "execution_count": 3,
      "outputs": []
    },
    {
      "cell_type": "code",
      "metadata": {
        "colab": {
          "base_uri": "https://localhost:8080/"
        },
        "id": "6zLolLTX0e_U",
        "outputId": "6cc9a022-38a4-4f27-d435-1f7a9e4142fa"
      },
      "source": [
        "from google.colab import drive\n",
        "drive.mount('/content/drive')"
      ],
      "execution_count": 4,
      "outputs": [
        {
          "output_type": "stream",
          "name": "stdout",
          "text": [
            "Mounted at /content/drive\n"
          ]
        }
      ]
    },
    {
      "cell_type": "code",
      "metadata": {
        "id": "O2rgEUvzZWk9",
        "colab": {
          "base_uri": "https://localhost:8080/",
          "height": 577
        },
        "outputId": "aa2d4561-1139-4ca6-81f9-04a60bffe606"
      },
      "source": [
        "# Carregando os dados\n",
        "df = pd.read_csv('/content/drive/My Drive/TP/PF/Dataset (1)/Eclipse_total.csv') # Salvamos com esse nome antes\n",
        "\n",
        "# Dataset\n",
        "df.head(11)"
      ],
      "execution_count": 5,
      "outputs": [
        {
          "output_type": "execute_result",
          "data": {
            "text/html": [
              "<div>\n",
              "<style scoped>\n",
              "    .dataframe tbody tr th:only-of-type {\n",
              "        vertical-align: middle;\n",
              "    }\n",
              "\n",
              "    .dataframe tbody tr th {\n",
              "        vertical-align: top;\n",
              "    }\n",
              "\n",
              "    .dataframe thead th {\n",
              "        text-align: right;\n",
              "    }\n",
              "</style>\n",
              "<table border=\"1\" class=\"dataframe\">\n",
              "  <thead>\n",
              "    <tr style=\"text-align: right;\">\n",
              "      <th></th>\n",
              "      <th>Bug_report_ID</th>\n",
              "      <th>Product_Name</th>\n",
              "      <th>summary</th>\n",
              "      <th>description</th>\n",
              "      <th>component_name</th>\n",
              "      <th>severity_level</th>\n",
              "      <th>priority</th>\n",
              "      <th>assignee_developers</th>\n",
              "      <th>topic_id</th>\n",
              "      <th>status</th>\n",
              "    </tr>\n",
              "  </thead>\n",
              "  <tbody>\n",
              "    <tr>\n",
              "      <th>0</th>\n",
              "      <td>221036</td>\n",
              "      <td>Community</td>\n",
              "      <td>unabl enter request parti code cq</td>\n",
              "      <td>report enter request parti librari submit java...</td>\n",
              "      <td>Project Management &amp; Portal</td>\n",
              "      <td>blocker</td>\n",
              "      <td>P1</td>\n",
              "      <td>bjorn.freeman-benson</td>\n",
              "      <td>d_a_carver bjorn.freeman-benson karl.matthias</td>\n",
              "      <td>FIXED</td>\n",
              "    </tr>\n",
              "    <tr>\n",
              "      <th>1</th>\n",
              "      <td>221203</td>\n",
              "      <td>Community</td>\n",
              "      <td>submit request cq cq submit</td>\n",
              "      <td>submit request cq cq submit creat screen retur...</td>\n",
              "      <td>Project Management &amp; Portal</td>\n",
              "      <td>blocker</td>\n",
              "      <td>P1</td>\n",
              "      <td>bjorn.freeman-benson</td>\n",
              "      <td>d_a_carver d_a_carver bjorn.freeman-benson kar...</td>\n",
              "      <td>FIXED</td>\n",
              "    </tr>\n",
              "    <tr>\n",
              "      <th>2</th>\n",
              "      <td>243952</td>\n",
              "      <td>Community</td>\n",
              "      <td>ca submit cq rd parti contribut develop apach</td>\n",
              "      <td>valid apach url enter url project page apach p...</td>\n",
              "      <td>Project Management &amp; Portal</td>\n",
              "      <td>blocker</td>\n",
              "      <td>P1</td>\n",
              "      <td>bjorn.freeman-benson</td>\n",
              "      <td>ekuleshov ekuleshov bjorn.freeman-benson ekule...</td>\n",
              "      <td>FIXED</td>\n",
              "    </tr>\n",
              "    <tr>\n",
              "      <th>3</th>\n",
              "      <td>230229</td>\n",
              "      <td>Community</td>\n",
              "      <td>tool link fail ie</td>\n",
              "      <td>webmast email tool link respond js error error...</td>\n",
              "      <td>Project Management &amp; Portal</td>\n",
              "      <td>blocker</td>\n",
              "      <td>P1</td>\n",
              "      <td>gabe.obrien</td>\n",
              "      <td>webmaster webmaster bjorn.freeman-benson karl....</td>\n",
              "      <td>FIXED</td>\n",
              "    </tr>\n",
              "    <tr>\n",
              "      <th>4</th>\n",
              "      <td>229095</td>\n",
              "      <td>Community</td>\n",
              "      <td>cron total broken</td>\n",
              "      <td>portal cron job broken friday gabe debug fix c...</td>\n",
              "      <td>Project Management &amp; Portal</td>\n",
              "      <td>blocker</td>\n",
              "      <td>P1</td>\n",
              "      <td>portal-inbox</td>\n",
              "      <td>karl.matthias karl.matthias karl.matthias karl...</td>\n",
              "      <td>FIXED</td>\n",
              "    </tr>\n",
              "    <tr>\n",
              "      <th>5</th>\n",
              "      <td>109230</td>\n",
              "      <td>Community</td>\n",
              "      <td>gener roadmap project inform file</td>\n",
              "      <td>xslt css gener roadmap eclipse project info xm...</td>\n",
              "      <td>Process</td>\n",
              "      <td>critical</td>\n",
              "      <td>P1</td>\n",
              "      <td>eromero</td>\n",
              "      <td>bjorn.freeman-benson techtonik bjorn.freeman-b...</td>\n",
              "      <td>FIXED</td>\n",
              "    </tr>\n",
              "    <tr>\n",
              "      <th>6</th>\n",
              "      <td>275926</td>\n",
              "      <td>Community</td>\n",
              "      <td>cq for record blow address charact</td>\n",
              "      <td>appear addslash stripslash appli properli case...</td>\n",
              "      <td>Project Management &amp; Portal</td>\n",
              "      <td>critical</td>\n",
              "      <td>P1</td>\n",
              "      <td>portal-inbox</td>\n",
              "      <td>karl.matthias karl.matthias karl.matthias</td>\n",
              "      <td>FIXED</td>\n",
              "    </tr>\n",
              "    <tr>\n",
              "      <th>7</th>\n",
              "      <td>208204</td>\n",
              "      <td>Community</td>\n",
              "      <td>javascript error submit cq</td>\n",
              "      <td>submit request refer distribut third parti cod...</td>\n",
              "      <td>Project Management &amp; Portal</td>\n",
              "      <td>critical</td>\n",
              "      <td>P1</td>\n",
              "      <td>gabe.obrien</td>\n",
              "      <td>aldo_eisma bjorn.freeman-benson gabe.obrien ka...</td>\n",
              "      <td>FIXED</td>\n",
              "    </tr>\n",
              "    <tr>\n",
              "      <th>8</th>\n",
              "      <td>229830</td>\n",
              "      <td>Community</td>\n",
              "      <td>alexey pavlov nomin email address</td>\n",
              "      <td>portal allow nomin miss email address fix</td>\n",
              "      <td>Project Management &amp; Portal</td>\n",
              "      <td>critical</td>\n",
              "      <td>P1</td>\n",
              "      <td>portal-inbox</td>\n",
              "      <td>karl.matthias bjorn.freeman-benson karl.matthi...</td>\n",
              "      <td>FIXED</td>\n",
              "    </tr>\n",
              "    <tr>\n",
              "      <th>9</th>\n",
              "      <td>191261</td>\n",
              "      <td>Community</td>\n",
              "      <td>role upload imag inconsist role edit web page</td>\n",
              "      <td>request design peopl role updat organ websit m...</td>\n",
              "      <td>Project Management &amp; Portal</td>\n",
              "      <td>critical</td>\n",
              "      <td>P1</td>\n",
              "      <td>portal-inbox</td>\n",
              "      <td>donald.smith donald.smith bjorn.freeman-benson...</td>\n",
              "      <td>FIXED</td>\n",
              "    </tr>\n",
              "    <tr>\n",
              "      <th>10</th>\n",
              "      <td>243337</td>\n",
              "      <td>Community</td>\n",
              "      <td>portal remind send incorrect remind datatool p...</td>\n",
              "      <td>remind send project requir meta data date myfo...</td>\n",
              "      <td>Project Management &amp; Portal</td>\n",
              "      <td>major</td>\n",
              "      <td>P1</td>\n",
              "      <td>bjorn.freeman-benson</td>\n",
              "      <td>bjorn.freeman-benson bfitzpat bjorn.freeman-be...</td>\n",
              "      <td>FIXED</td>\n",
              "    </tr>\n",
              "  </tbody>\n",
              "</table>\n",
              "</div>"
            ],
            "text/plain": [
              "    Bug_report_ID  ... status\n",
              "0          221036  ...  FIXED\n",
              "1          221203  ...  FIXED\n",
              "2          243952  ...  FIXED\n",
              "3          230229  ...  FIXED\n",
              "4          229095  ...  FIXED\n",
              "5          109230  ...  FIXED\n",
              "6          275926  ...  FIXED\n",
              "7          208204  ...  FIXED\n",
              "8          229830  ...  FIXED\n",
              "9          191261  ...  FIXED\n",
              "10         243337  ...  FIXED\n",
              "\n",
              "[11 rows x 10 columns]"
            ]
          },
          "metadata": {},
          "execution_count": 5
        }
      ]
    },
    {
      "cell_type": "code",
      "metadata": {
        "colab": {
          "base_uri": "https://localhost:8080/"
        },
        "id": "cmqYBbKPhvKW",
        "outputId": "e1a4381f-bd93-4fd7-95d0-772dc29566ee"
      },
      "source": [
        "df['severity_level'].value_counts()"
      ],
      "execution_count": 6,
      "outputs": [
        {
          "output_type": "execute_result",
          "data": {
            "text/plain": [
              "normal         30000\n",
              "enhancement     4357\n",
              "major           3004\n",
              "critical        1456\n",
              "minor           1398\n",
              "trivial          849\n",
              "blocker          735\n",
              "Name: severity_level, dtype: int64"
            ]
          },
          "metadata": {},
          "execution_count": 6
        }
      ]
    },
    {
      "cell_type": "code",
      "metadata": {
        "colab": {
          "base_uri": "https://localhost:8080/"
        },
        "id": "vjKFYlSFfKTP",
        "outputId": "be2a5933-0cae-4cac-dcdb-670e0a8744ed"
      },
      "source": [
        "class_names = df['severity_level'].unique()\n",
        "class_names"
      ],
      "execution_count": 7,
      "outputs": [
        {
          "output_type": "execute_result",
          "data": {
            "text/plain": [
              "array(['blocker', 'critical', 'major', 'normal', 'enhancement', 'minor',\n",
              "       'trivial'], dtype=object)"
            ]
          },
          "metadata": {},
          "execution_count": 7
        }
      ]
    },
    {
      "cell_type": "code",
      "metadata": {
        "colab": {
          "base_uri": "https://localhost:8080/"
        },
        "id": "bAkUcshz_X6_",
        "outputId": "2c0800af-a67e-488c-8ded-3a60828e36e7"
      },
      "source": [
        "status_names = df['status'].unique() \n",
        "status_names"
      ],
      "execution_count": 8,
      "outputs": [
        {
          "output_type": "execute_result",
          "data": {
            "text/plain": [
              "array(['FIXED'], dtype=object)"
            ]
          },
          "metadata": {},
          "execution_count": 8
        }
      ]
    },
    {
      "cell_type": "code",
      "metadata": {
        "id": "Fp1Uv4L0qKaG"
      },
      "source": [
        "#Convertendo 'summary' e 'description' para string\n",
        "df = df.astype({'summary':'str', 'description':'str'})"
      ],
      "execution_count": 9,
      "outputs": []
    },
    {
      "cell_type": "code",
      "metadata": {
        "id": "G0Nm3A_TvctI"
      },
      "source": [
        "#Filtrando severidades confiaveis\n",
        "df = df.loc[(df['severity_level'] != 'enhancement') & (df['severity_level'] != 'normal')]"
      ],
      "execution_count": 10,
      "outputs": []
    },
    {
      "cell_type": "code",
      "metadata": {
        "id": "Kzq3C3QS800G"
      },
      "source": [
        "#Modificando severidade diferente de blocker (Classificação binaria)\n",
        "df.loc[(df['severity_level'] != 'blocker'), 'severity_level'] = \"no-blocker\""
      ],
      "execution_count": 13,
      "outputs": []
    },
    {
      "cell_type": "code",
      "metadata": {
        "colab": {
          "base_uri": "https://localhost:8080/"
        },
        "id": "dz-C_juw2jNL",
        "outputId": "d8e441f7-9bae-4e20-82c4-60625165895c"
      },
      "source": [
        "df['severity_level'].value_counts()"
      ],
      "execution_count": 14,
      "outputs": [
        {
          "output_type": "execute_result",
          "data": {
            "text/plain": [
              "no-blocker    6707\n",
              "blocker        735\n",
              "Name: severity_level, dtype: int64"
            ]
          },
          "metadata": {},
          "execution_count": 14
        }
      ]
    },
    {
      "cell_type": "code",
      "metadata": {
        "colab": {
          "base_uri": "https://localhost:8080/",
          "height": 577
        },
        "id": "dU31wUm5tY9S",
        "outputId": "9f408b0d-afc6-47c5-993c-5fd63128cf3b"
      },
      "source": [
        "df.head(11)"
      ],
      "execution_count": 15,
      "outputs": [
        {
          "output_type": "execute_result",
          "data": {
            "text/html": [
              "<div>\n",
              "<style scoped>\n",
              "    .dataframe tbody tr th:only-of-type {\n",
              "        vertical-align: middle;\n",
              "    }\n",
              "\n",
              "    .dataframe tbody tr th {\n",
              "        vertical-align: top;\n",
              "    }\n",
              "\n",
              "    .dataframe thead th {\n",
              "        text-align: right;\n",
              "    }\n",
              "</style>\n",
              "<table border=\"1\" class=\"dataframe\">\n",
              "  <thead>\n",
              "    <tr style=\"text-align: right;\">\n",
              "      <th></th>\n",
              "      <th>Bug_report_ID</th>\n",
              "      <th>Product_Name</th>\n",
              "      <th>summary</th>\n",
              "      <th>description</th>\n",
              "      <th>component_name</th>\n",
              "      <th>severity_level</th>\n",
              "      <th>priority</th>\n",
              "      <th>assignee_developers</th>\n",
              "      <th>topic_id</th>\n",
              "      <th>status</th>\n",
              "    </tr>\n",
              "  </thead>\n",
              "  <tbody>\n",
              "    <tr>\n",
              "      <th>0</th>\n",
              "      <td>221036</td>\n",
              "      <td>Community</td>\n",
              "      <td>unabl enter request parti code cq</td>\n",
              "      <td>report enter request parti librari submit java...</td>\n",
              "      <td>Project Management &amp; Portal</td>\n",
              "      <td>blocker</td>\n",
              "      <td>P1</td>\n",
              "      <td>bjorn.freeman-benson</td>\n",
              "      <td>d_a_carver bjorn.freeman-benson karl.matthias</td>\n",
              "      <td>FIXED</td>\n",
              "    </tr>\n",
              "    <tr>\n",
              "      <th>1</th>\n",
              "      <td>221203</td>\n",
              "      <td>Community</td>\n",
              "      <td>submit request cq cq submit</td>\n",
              "      <td>submit request cq cq submit creat screen retur...</td>\n",
              "      <td>Project Management &amp; Portal</td>\n",
              "      <td>blocker</td>\n",
              "      <td>P1</td>\n",
              "      <td>bjorn.freeman-benson</td>\n",
              "      <td>d_a_carver d_a_carver bjorn.freeman-benson kar...</td>\n",
              "      <td>FIXED</td>\n",
              "    </tr>\n",
              "    <tr>\n",
              "      <th>2</th>\n",
              "      <td>243952</td>\n",
              "      <td>Community</td>\n",
              "      <td>ca submit cq rd parti contribut develop apach</td>\n",
              "      <td>valid apach url enter url project page apach p...</td>\n",
              "      <td>Project Management &amp; Portal</td>\n",
              "      <td>blocker</td>\n",
              "      <td>P1</td>\n",
              "      <td>bjorn.freeman-benson</td>\n",
              "      <td>ekuleshov ekuleshov bjorn.freeman-benson ekule...</td>\n",
              "      <td>FIXED</td>\n",
              "    </tr>\n",
              "    <tr>\n",
              "      <th>3</th>\n",
              "      <td>230229</td>\n",
              "      <td>Community</td>\n",
              "      <td>tool link fail ie</td>\n",
              "      <td>webmast email tool link respond js error error...</td>\n",
              "      <td>Project Management &amp; Portal</td>\n",
              "      <td>blocker</td>\n",
              "      <td>P1</td>\n",
              "      <td>gabe.obrien</td>\n",
              "      <td>webmaster webmaster bjorn.freeman-benson karl....</td>\n",
              "      <td>FIXED</td>\n",
              "    </tr>\n",
              "    <tr>\n",
              "      <th>4</th>\n",
              "      <td>229095</td>\n",
              "      <td>Community</td>\n",
              "      <td>cron total broken</td>\n",
              "      <td>portal cron job broken friday gabe debug fix c...</td>\n",
              "      <td>Project Management &amp; Portal</td>\n",
              "      <td>blocker</td>\n",
              "      <td>P1</td>\n",
              "      <td>portal-inbox</td>\n",
              "      <td>karl.matthias karl.matthias karl.matthias karl...</td>\n",
              "      <td>FIXED</td>\n",
              "    </tr>\n",
              "    <tr>\n",
              "      <th>5</th>\n",
              "      <td>109230</td>\n",
              "      <td>Community</td>\n",
              "      <td>gener roadmap project inform file</td>\n",
              "      <td>xslt css gener roadmap eclipse project info xm...</td>\n",
              "      <td>Process</td>\n",
              "      <td>no-blocker</td>\n",
              "      <td>P1</td>\n",
              "      <td>eromero</td>\n",
              "      <td>bjorn.freeman-benson techtonik bjorn.freeman-b...</td>\n",
              "      <td>FIXED</td>\n",
              "    </tr>\n",
              "    <tr>\n",
              "      <th>6</th>\n",
              "      <td>275926</td>\n",
              "      <td>Community</td>\n",
              "      <td>cq for record blow address charact</td>\n",
              "      <td>appear addslash stripslash appli properli case...</td>\n",
              "      <td>Project Management &amp; Portal</td>\n",
              "      <td>no-blocker</td>\n",
              "      <td>P1</td>\n",
              "      <td>portal-inbox</td>\n",
              "      <td>karl.matthias karl.matthias karl.matthias</td>\n",
              "      <td>FIXED</td>\n",
              "    </tr>\n",
              "    <tr>\n",
              "      <th>7</th>\n",
              "      <td>208204</td>\n",
              "      <td>Community</td>\n",
              "      <td>javascript error submit cq</td>\n",
              "      <td>submit request refer distribut third parti cod...</td>\n",
              "      <td>Project Management &amp; Portal</td>\n",
              "      <td>no-blocker</td>\n",
              "      <td>P1</td>\n",
              "      <td>gabe.obrien</td>\n",
              "      <td>aldo_eisma bjorn.freeman-benson gabe.obrien ka...</td>\n",
              "      <td>FIXED</td>\n",
              "    </tr>\n",
              "    <tr>\n",
              "      <th>8</th>\n",
              "      <td>229830</td>\n",
              "      <td>Community</td>\n",
              "      <td>alexey pavlov nomin email address</td>\n",
              "      <td>portal allow nomin miss email address fix</td>\n",
              "      <td>Project Management &amp; Portal</td>\n",
              "      <td>no-blocker</td>\n",
              "      <td>P1</td>\n",
              "      <td>portal-inbox</td>\n",
              "      <td>karl.matthias bjorn.freeman-benson karl.matthi...</td>\n",
              "      <td>FIXED</td>\n",
              "    </tr>\n",
              "    <tr>\n",
              "      <th>9</th>\n",
              "      <td>191261</td>\n",
              "      <td>Community</td>\n",
              "      <td>role upload imag inconsist role edit web page</td>\n",
              "      <td>request design peopl role updat organ websit m...</td>\n",
              "      <td>Project Management &amp; Portal</td>\n",
              "      <td>no-blocker</td>\n",
              "      <td>P1</td>\n",
              "      <td>portal-inbox</td>\n",
              "      <td>donald.smith donald.smith bjorn.freeman-benson...</td>\n",
              "      <td>FIXED</td>\n",
              "    </tr>\n",
              "    <tr>\n",
              "      <th>10</th>\n",
              "      <td>243337</td>\n",
              "      <td>Community</td>\n",
              "      <td>portal remind send incorrect remind datatool p...</td>\n",
              "      <td>remind send project requir meta data date myfo...</td>\n",
              "      <td>Project Management &amp; Portal</td>\n",
              "      <td>no-blocker</td>\n",
              "      <td>P1</td>\n",
              "      <td>bjorn.freeman-benson</td>\n",
              "      <td>bjorn.freeman-benson bfitzpat bjorn.freeman-be...</td>\n",
              "      <td>FIXED</td>\n",
              "    </tr>\n",
              "  </tbody>\n",
              "</table>\n",
              "</div>"
            ],
            "text/plain": [
              "    Bug_report_ID  ... status\n",
              "0          221036  ...  FIXED\n",
              "1          221203  ...  FIXED\n",
              "2          243952  ...  FIXED\n",
              "3          230229  ...  FIXED\n",
              "4          229095  ...  FIXED\n",
              "5          109230  ...  FIXED\n",
              "6          275926  ...  FIXED\n",
              "7          208204  ...  FIXED\n",
              "8          229830  ...  FIXED\n",
              "9          191261  ...  FIXED\n",
              "10         243337  ...  FIXED\n",
              "\n",
              "[11 rows x 10 columns]"
            ]
          },
          "metadata": {},
          "execution_count": 15
        }
      ]
    },
    {
      "cell_type": "code",
      "metadata": {
        "id": "ZU8olx_TZWlA",
        "colab": {
          "base_uri": "https://localhost:8080/"
        },
        "outputId": "eb4576ab-b7b7-4007-eaf1-4e73ba3b2b5f"
      },
      "source": [
        "df.shape[0]"
      ],
      "execution_count": 16,
      "outputs": [
        {
          "output_type": "execute_result",
          "data": {
            "text/plain": [
              "7442"
            ]
          },
          "metadata": {},
          "execution_count": 16
        }
      ]
    },
    {
      "cell_type": "code",
      "metadata": {
        "colab": {
          "base_uri": "https://localhost:8080/"
        },
        "id": "LHkKHvlzTKho",
        "outputId": "14911fdb-22fe-45dc-fd63-3a7f0a315c27"
      },
      "source": [
        "# Stop Words\n",
        "\n",
        "nltk.download('stopwords')\n",
        "\n",
        "nltk.download('punkt')\n",
        "\n",
        "stop_words = nltk.corpus.stopwords.words('english')\n",
        "\n",
        "text_clf   = Pipeline([\n",
        "                # Vectorize\n",
        "                ('vect',  TfidfVectorizer(tokenizer=tokenize, \n",
        "                                          stop_words=stop_words, \n",
        "                                          ngram_range=(1,1))),\n",
        "                # Classificador\n",
        "                ('clf',   KNeighborsClassifier(n_jobs=-5)),\n",
        "            ])"
      ],
      "execution_count": 17,
      "outputs": [
        {
          "output_type": "stream",
          "name": "stdout",
          "text": [
            "[nltk_data] Downloading package stopwords to /root/nltk_data...\n",
            "[nltk_data]   Unzipping corpora/stopwords.zip.\n",
            "[nltk_data] Downloading package punkt to /root/nltk_data...\n",
            "[nltk_data]   Unzipping tokenizers/punkt.zip.\n"
          ]
        }
      ]
    },
    {
      "cell_type": "markdown",
      "metadata": {
        "id": "E6DXq9HQKc_n"
      },
      "source": [
        "Divididos em 11 quadros não sobrepostos de tamanhos iguais."
      ]
    },
    {
      "cell_type": "code",
      "metadata": {
        "colab": {
          "base_uri": "https://localhost:8080/"
        },
        "id": "9EzrCZlgzs4A",
        "outputId": "31425240-2818-4001-cd2f-b5e7cd597f7f"
      },
      "source": [
        "df_set = []\n",
        "k = 676\n",
        "for i in range(0,10):\n",
        "  df_set.append(df.iloc[i*676:k])\n",
        "  k += 676\n",
        "  print(\"Quadro {}\".format(i), \"possui {} entradas.\".format(df_set[i].shape[0]))\n",
        "\n",
        "df_set.append(df.iloc[6760:7442])\n",
        "\n",
        "print(\"Quadro 10 possui {} entradas.\".format(df_set[10].shape[0]))"
      ],
      "execution_count": 18,
      "outputs": [
        {
          "output_type": "stream",
          "name": "stdout",
          "text": [
            "Quadro 0 possui 676 entradas.\n",
            "Quadro 1 possui 676 entradas.\n",
            "Quadro 2 possui 676 entradas.\n",
            "Quadro 3 possui 676 entradas.\n",
            "Quadro 4 possui 676 entradas.\n",
            "Quadro 5 possui 676 entradas.\n",
            "Quadro 6 possui 676 entradas.\n",
            "Quadro 7 possui 676 entradas.\n",
            "Quadro 8 possui 676 entradas.\n",
            "Quadro 9 possui 676 entradas.\n",
            "Quadro 10 possui 682 entradas.\n"
          ]
        }
      ]
    },
    {
      "cell_type": "code",
      "metadata": {
        "id": "H-hLFCzmvCSV"
      },
      "source": [
        "X_test = []\n",
        "\n",
        "for i in range(0, 10):\n",
        "  new_df = df_set[0]\n",
        "  for j in range(0, i):\n",
        "    new_df = pd.merge(new_df, df_set[j+1], how = 'outer')\n",
        "  X_test.append(new_df)"
      ],
      "execution_count": 24,
      "outputs": []
    },
    {
      "cell_type": "code",
      "metadata": {
        "colab": {
          "base_uri": "https://localhost:8080/"
        },
        "id": "txXBvqB2h8oG",
        "outputId": "a9dd5fb4-3f70-42b0-f2c4-65573ac23f98"
      },
      "source": [
        "for i in range(0, len(X_test)):\n",
        "  print(\"Treinamento {}, possui {} entradas.\". format(i+1, X_test[i].shape[0]))"
      ],
      "execution_count": 25,
      "outputs": [
        {
          "output_type": "stream",
          "name": "stdout",
          "text": [
            "Treinamento 1, possui 676 entradas.\n",
            "Treinamento 2, possui 1352 entradas.\n",
            "Treinamento 3, possui 2028 entradas.\n",
            "Treinamento 4, possui 2699 entradas.\n",
            "Treinamento 5, possui 3375 entradas.\n",
            "Treinamento 6, possui 4051 entradas.\n",
            "Treinamento 7, possui 4727 entradas.\n",
            "Treinamento 8, possui 5403 entradas.\n",
            "Treinamento 9, possui 6079 entradas.\n",
            "Treinamento 10, possui 6755 entradas.\n"
          ]
        }
      ]
    },
    {
      "cell_type": "code",
      "metadata": {
        "id": "39y6FF1gZWlE"
      },
      "source": [
        "# Evaluate\n",
        "for i in range(0, len(X_test)):\n",
        "  text_clf = text_clf.fit(X_test[i].description, X_test[i].assignee_developers)\n",
        "  pred = text_clf.predict(df_set[i+1].description)\n",
        "  accuracy_scoreMLP_TFIDF = f1_score(df_set[i+1].assignee_developers, pred, average='micro')\n",
        "  accuracy_scoreMLP_TFIDF"
      ],
      "execution_count": 41,
      "outputs": []
    },
    {
      "cell_type": "code",
      "metadata": {
        "id": "0EjKaY2zZWlG"
      },
      "source": [
        "\n",
        "predictions = text_clf.predict(df_set[10].description)\n",
        "\n",
        "conf_matrix = confusion_matrix(df_set[10].assignee_developers, predictions)"
      ],
      "execution_count": 42,
      "outputs": []
    },
    {
      "cell_type": "code",
      "metadata": {
        "id": "NuKTCrP8ZWlH",
        "colab": {
          "base_uri": "https://localhost:8080/",
          "height": 597
        },
        "outputId": "c0d26d7a-a573-4cc6-f176-f6a74401d6b5"
      },
      "source": [
        "plt.figure(figsize=(10,10))\n",
        "plt.xticks(np.arange(len(text_clf.classes_)),text_clf.classes_)\n",
        "plt.yticks(np.arange(len(text_clf.classes_)),text_clf.classes_)\n",
        "plt.imshow(conf_matrix,cmap=plt.cm.Blues)\n",
        "plt.colorbar()"
      ],
      "execution_count": 43,
      "outputs": [
        {
          "output_type": "execute_result",
          "data": {
            "text/plain": [
              "<matplotlib.colorbar.Colorbar at 0x7faed05e9e10>"
            ]
          },
          "metadata": {},
          "execution_count": 43
        },
        {
          "output_type": "display_data",
          "data": {
            "image/png": "[encoded data removed]",
            "text/plain": [
              "<Figure size 720x720 with 2 Axes>"
            ]
          },
          "metadata": {
            "needs_background": "light"
          }
        }
      ]
    },
    {
      "cell_type": "markdown",
      "metadata": {
        "id": "BPXnSwLKkz8V"
      },
      "source": [
        "# BERT"
      ]
    },
    {
      "cell_type": "markdown",
      "metadata": {
        "id": "DwfWPfHaliFW"
      },
      "source": [
        "# Instalando requerimentos"
      ]
    },
    {
      "cell_type": "code",
      "metadata": {
        "id": "FKfIH6LJlhEW"
      },
      "source": [
        "!pip install transformers"
      ],
      "execution_count": null,
      "outputs": []
    },
    {
      "cell_type": "markdown",
      "metadata": {
        "id": "vOA3nq-R5yWf"
      },
      "source": [
        "# **Importações**"
      ]
    },
    {
      "cell_type": "code",
      "metadata": {
        "id": "u2JQEsmBk3em"
      },
      "source": [
        "import pandas as pd\n",
        "import torch\n",
        "from torch.utils.data import Dataset, DataLoader\n",
        "from transformers import BertTokenizer, BertModel, AdamW, get_linear_schedule_with_warmup\n",
        "from sklearn.metrics import f1_score\n",
        "from IPython.display import Image"
      ],
      "execution_count": null,
      "outputs": []
    }
  ]
}