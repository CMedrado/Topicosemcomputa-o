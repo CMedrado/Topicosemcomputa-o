{
  "nbformat": 4,
  "nbformat_minor": 0,
  "metadata": {
    "kernelspec": {
      "display_name": "Python 3",
      "language": "python",
      "name": "python3"
    },
    "language_info": {
      "codemirror_mode": {
        "name": "ipython",
        "version": 3
      },
      "file_extension": ".py",
      "mimetype": "text/x-python",
      "name": "python",
      "nbconvert_exporter": "python",
      "pygments_lexer": "ipython3",
      "version": "3.7.3"
    },
    "toc": {
      "base_numbering": 1,
      "nav_menu": {},
      "number_sections": true,
      "sideBar": true,
      "skip_h1_title": false,
      "title_cell": "Table of Contents",
      "title_sidebar": "Contents",
      "toc_cell": false,
      "toc_position": {},
      "toc_section_display": true,
      "toc_window_display": false
    },
    "colab": {
      "name": "Netbeans.ipynb",
      "provenance": [],
      "collapsed_sections": [],
      "include_colab_link": true
    }
  },
  "cells": [
    {
      "cell_type": "markdown",
      "metadata": {
        "id": "view-in-github",
        "colab_type": "text"
      },
      "source": [
        "<a href=\"https://colab.research.google.com/github/CMedrado/Topicosemcomputa-o/blob/main/Netbeans.ipynb\" target=\"_parent\"><img src=\"https://colab.research.google.com/assets/colab-badge.svg\" alt=\"Open In Colab\"/></a>"
      ]
    },
    {
      "cell_type": "markdown",
      "metadata": {
        "id": "YHZA93r5ZWkv"
      },
      "source": [
        "# Classificação de Texto no contexto da Predição de Severidade de Bug Reports\n",
        "\n",
        "Exemplo de classificação de texto com pipeline de NLP e classificador no final"
      ]
    },
    {
      "cell_type": "code",
      "metadata": {
        "id": "Nx_2ZKqmZWk3"
      },
      "source": [
        "import nltk\n",
        "from nltk.tokenize import word_tokenize\n",
        "from nltk.stem.snowball import SnowballStemmer\n",
        "from sklearn.feature_extraction.text import TfidfVectorizer, CountVectorizer\n",
        "import pandas as pd\n",
        "import numpy as np\n",
        "import matplotlib.pyplot as plt\n",
        "%matplotlib inline\n",
        "import warnings\n",
        "warnings.simplefilter(\"ignore\")\n",
        "\n",
        "from sklearn.model_selection import train_test_split\n",
        "from sklearn.pipeline import Pipeline\n",
        "from sklearn.neighbors import KNeighborsClassifier\n",
        "from sklearn.metrics import accuracy_score\n",
        "from sklearn.metrics import f1_score\n",
        "from sklearn.metrics import confusion_matrix\n",
        "from sklearn.metrics import plot_confusion_matrix\n"
      ],
      "execution_count": 3,
      "outputs": []
    },
    {
      "cell_type": "code",
      "metadata": {
        "id": "-sbOi1hdZWk7"
      },
      "source": [
        "# Tokenização\n",
        "def tokenize(text):\n",
        "    # Tokenização\n",
        "    tokens = nltk.word_tokenize(text)\n",
        "    \n",
        "    # Stemização\n",
        "    stems  = []\n",
        "    for item in tokens:\n",
        "        stems.append(SnowballStemmer(\"english\").stem(item))\n",
        "    return stems"
      ],
      "execution_count": 4,
      "outputs": []
    },
    {
      "cell_type": "code",
      "metadata": {
        "colab": {
          "base_uri": "https://localhost:8080/"
        },
        "id": "6zLolLTX0e_U",
        "outputId": "7ea7e1e1-3e1e-47b0-9286-b1c548dcf938"
      },
      "source": [
        "from google.colab import drive\n",
        "drive.mount('/content/drive')"
      ],
      "execution_count": 5,
      "outputs": [
        {
          "output_type": "stream",
          "name": "stdout",
          "text": [
            "Drive already mounted at /content/drive; to attempt to forcibly remount, call drive.mount(\"/content/drive\", force_remount=True).\n"
          ]
        }
      ]
    },
    {
      "cell_type": "code",
      "metadata": {
        "id": "O2rgEUvzZWk9",
        "colab": {
          "base_uri": "https://localhost:8080/",
          "height": 1000
        },
        "outputId": "689fec68-6e93-43a3-e6de-dd0cdca59fd5"
      },
      "source": [
        "# Carregando os dados\n",
        "df = pd.read_csv('/content/drive/My Drive/TP/PF/Dataset (1)/Netbeans_total.csv') # Salvamos com esse nome antes\n",
        "\n",
        "# Dataset\n",
        "df.head(11)"
      ],
      "execution_count": 6,
      "outputs": [
        {
          "output_type": "execute_result",
          "data": {
            "text/html": [
              "<div>\n",
              "<style scoped>\n",
              "    .dataframe tbody tr th:only-of-type {\n",
              "        vertical-align: middle;\n",
              "    }\n",
              "\n",
              "    .dataframe tbody tr th {\n",
              "        vertical-align: top;\n",
              "    }\n",
              "\n",
              "    .dataframe thead th {\n",
              "        text-align: right;\n",
              "    }\n",
              "</style>\n",
              "<table border=\"1\" class=\"dataframe\">\n",
              "  <thead>\n",
              "    <tr style=\"text-align: right;\">\n",
              "      <th></th>\n",
              "      <th>Bug_report_ID</th>\n",
              "      <th>Product_Name</th>\n",
              "      <th>summary</th>\n",
              "      <th>description</th>\n",
              "      <th>component_name</th>\n",
              "      <th>severity_level</th>\n",
              "      <th>priority</th>\n",
              "      <th>assignee_developers</th>\n",
              "      <th>topic_id</th>\n",
              "      <th>status</th>\n",
              "    </tr>\n",
              "  </thead>\n",
              "  <tbody>\n",
              "    <tr>\n",
              "      <th>0</th>\n",
              "      <td>236107</td>\n",
              "      <td>java</td>\n",
              "      <td>hint jdk profil</td>\n",
              "      <td>inspect transform dialog categori name jdk cat...</td>\n",
              "      <td>Hints</td>\n",
              "      <td>normal</td>\n",
              "      <td>P1</td>\n",
              "      <td>sdedic</td>\n",
              "      <td>geertjan sdedic sdedic</td>\n",
              "      <td>FIXED</td>\n",
              "    </tr>\n",
              "    <tr>\n",
              "      <th>1</th>\n",
              "      <td>10499</td>\n",
              "      <td>java</td>\n",
              "      <td>perform i n horribl slow popup local menu</td>\n",
              "      <td>i n tool action group deep tre scan return sta...</td>\n",
              "      <td>I18N</td>\n",
              "      <td>blocker</td>\n",
              "      <td>P1</td>\n",
              "      <td>issues</td>\n",
              "      <td>pnejedly pzavadsky vnemec jchalupa quality</td>\n",
              "      <td>FIXED</td>\n",
              "    </tr>\n",
              "    <tr>\n",
              "      <th>2</th>\n",
              "      <td>250700</td>\n",
              "      <td>java</td>\n",
              "      <td>except occur compil</td>\n",
              "      <td>creat attach actual error netbean ide develop ...</td>\n",
              "      <td>Compiler</td>\n",
              "      <td>normal</td>\n",
              "      <td>P1</td>\n",
              "      <td>dbalek</td>\n",
              "      <td>ShakirAli dbalek ShakirAli dbalek ShakirAli Sh...</td>\n",
              "      <td>FIXED</td>\n",
              "    </tr>\n",
              "    <tr>\n",
              "      <th>3</th>\n",
              "      <td>118348</td>\n",
              "      <td>java</td>\n",
              "      <td>cat correct code mark error</td>\n",
              "      <td>build jdk version line pobjectkey null mark er...</td>\n",
              "      <td>Compiler</td>\n",
              "      <td>blocker</td>\n",
              "      <td>P1</td>\n",
              "      <td>jlahoda</td>\n",
              "      <td>gugrim jbecicka gugrim medotin jlahoda jlahoda...</td>\n",
              "      <td>FIXED</td>\n",
              "    </tr>\n",
              "    <tr>\n",
              "      <th>4</th>\n",
              "      <td>19137</td>\n",
              "      <td>java</td>\n",
              "      <td>assign string compon resourc bundl corrupt res...</td>\n",
              "      <td>resourc bundl english german string form edito...</td>\n",
              "      <td>I18N</td>\n",
              "      <td>blocker</td>\n",
              "      <td>P1</td>\n",
              "      <td>issues</td>\n",
              "      <td>rost tpavek pkuzel pkuzel pzavadsky pkuzel pfe...</td>\n",
              "      <td>FIXED</td>\n",
              "    </tr>\n",
              "    <tr>\n",
              "      <th>5</th>\n",
              "      <td>226568</td>\n",
              "      <td>java</td>\n",
              "      <td>nullpointerexcept com sun tools javac code typ...</td>\n",
              "      <td>build netbean ide dev build vm java hotspot tm...</td>\n",
              "      <td>Compiler</td>\n",
              "      <td>normal</td>\n",
              "      <td>P1</td>\n",
              "      <td>dbalek</td>\n",
              "      <td>Chiana Chiana ecerichter sreimers ecerichter e...</td>\n",
              "      <td>FIXED</td>\n",
              "    </tr>\n",
              "    <tr>\n",
              "      <th>6</th>\n",
              "      <td>235702</td>\n",
              "      <td>java</td>\n",
              "      <td>implement perform bug hint</td>\n",
              "      <td>hint implement stringbuff replac string box bo...</td>\n",
              "      <td>Hints</td>\n",
              "      <td>normal</td>\n",
              "      <td>P1</td>\n",
              "      <td>sdedic</td>\n",
              "      <td>sdedic sdedic</td>\n",
              "      <td>FIXED</td>\n",
              "    </tr>\n",
              "    <tr>\n",
              "      <th>7</th>\n",
              "      <td>43936</td>\n",
              "      <td>java</td>\n",
              "      <td>except print consol creat ccdb jdk</td>\n",
              "      <td>current trunk reproduc test freeform project t...</td>\n",
              "      <td>Classfile</td>\n",
              "      <td>blocker</td>\n",
              "      <td>P1</td>\n",
              "      <td>tball</td>\n",
              "      <td>jglick jglick jglick jglick jglick tball jglic...</td>\n",
              "      <td>FIXED</td>\n",
              "    </tr>\n",
              "    <tr>\n",
              "      <th>8</th>\n",
              "      <td>53722</td>\n",
              "      <td>java</td>\n",
              "      <td>error compil test</td>\n",
              "      <td>compil error occur freeform test execut test u...</td>\n",
              "      <td>Freeform</td>\n",
              "      <td>blocker</td>\n",
              "      <td>P1</td>\n",
              "      <td>dkonecny</td>\n",
              "      <td>pzajac pzajac tzezula dkonecny dkonecny pzajac</td>\n",
              "      <td>FIXED</td>\n",
              "    </tr>\n",
              "    <tr>\n",
              "      <th>9</th>\n",
              "      <td>75619</td>\n",
              "      <td>java</td>\n",
              "      <td>editor speed packag explor invalid file</td>\n",
              "      <td>featur request editor speed mark problemat cod...</td>\n",
              "      <td>Editor</td>\n",
              "      <td>blocker</td>\n",
              "      <td>P1</td>\n",
              "      <td>issues</td>\n",
              "      <td>dyegoleal dyegoleal jbecicka dyegoleal</td>\n",
              "      <td>FIXED</td>\n",
              "    </tr>\n",
              "    <tr>\n",
              "      <th>10</th>\n",
              "      <td>60183</td>\n",
              "      <td>java</td>\n",
              "      <td>nsme jmiutils getexactclass string javahintspr...</td>\n",
              "      <td>org netbeans modules java hints org netbeans m...</td>\n",
              "      <td>Editor</td>\n",
              "      <td>blocker</td>\n",
              "      <td>P1</td>\n",
              "      <td>mmetelka</td>\n",
              "      <td>jglick jglick thurka thurka thurka jiriprox</td>\n",
              "      <td>FIXED</td>\n",
              "    </tr>\n",
              "  </tbody>\n",
              "</table>\n",
              "</div>"
            ],
            "text/plain": [
              "   Bug_report_ID  ... status\n",
              "0         236107  ...  FIXED\n",
              "1          10499  ...  FIXED\n",
              "2         250700  ...  FIXED\n",
              "3         118348  ...  FIXED\n",
              "4          19137  ...  FIXED\n",
              "5         226568  ...  FIXED\n",
              "6         235702  ...  FIXED\n",
              "7          43936  ...  FIXED\n",
              "8          53722  ...  FIXED\n",
              "9          75619  ...  FIXED\n",
              "10         60183  ...  FIXED\n",
              "\n",
              "[11 rows x 10 columns]"
            ]
          },
          "metadata": {},
          "execution_count": 6
        }
      ]
    },
    {
      "cell_type": "code",
      "metadata": {
        "colab": {
          "base_uri": "https://localhost:8080/"
        },
        "id": "cmqYBbKPhvKW",
        "outputId": "26efcadf-7bbc-423d-a5c2-74accd631e17"
      },
      "source": [
        "df['severity_level'].value_counts()"
      ],
      "execution_count": 7,
      "outputs": [
        {
          "output_type": "execute_result",
          "data": {
            "text/plain": [
              "blocker                                                                                            13747\n",
              "normal                                                                                              7617\n",
              "major                                                                                                 70\n",
              "enhancement                                                                                           44\n",
              "minor                                                                                                 35\n",
              "critical                                                                                              13\n",
              "trivial                                                                                               12\n",
              "frankberger tzezula                                                                                    2\n",
              "sdvic msauer mkubec jlahoda                                                                            2\n",
              "saiandrag tzezula quality                                                                              1\n",
              "rickardnordstrom rickardnordstrom jbecicka                                                             1\n",
              "basilbourque basilbourque pflaska quality                                                              1\n",
              "jeffbeans mkubec                                                                                       1\n",
              "antonl antonl antonl jbecicka jbecicka quality                                                         1\n",
              "jon80 dlipin dlipin jon80 jon80                                                                        1\n",
              "jlohrey pfelenda mmatula quality                                                                       1\n",
              "dhollon dhollon dhollon quality                                                                        1\n",
              "mmartin jglick tzezula quality                                                                         1\n",
              "kduz0 juhrik mmatula dsimonek                                                                          1\n",
              "jmresler jmresler mmatula jfdenise                                                                     1\n",
              "jbatchelor jbatchelor jbecicka                                                                         1\n",
              "lightspeed lightspeed jstola tpavek tpavek                                                             1\n",
              "memcryno novakm memcryno mkubec memcryno quality                                                       1\n",
              "jtulach abadea jtulach jbaker jtulach jbaker jrechtacek jrechtacek                                     1\n",
              "ozguy ozguy ozguy anebuzelsky jlahoda jlahoda ozguy pribyl jbecicka msauer sj-nb pflaska               1\n",
              "yardus yardus mentlicher mentlicher quality mentlicher                                                 1\n",
              "nixsa mkubec jbecicka phrebejk phrebejk phrebejk                                                       1\n",
              "rev4eva rev4eva abadea abadea                                                                          1\n",
              "dextrad dextrad mmirilovic jstola stooge4444 jstola jstola jstola tpavek jstola                        1\n",
              "pierre_bcd pierre_bcd                                                                                  1\n",
              "bwohlin martin_adamek quality                                                                          1\n",
              "aady74 aady74 mroskanin mroskanin rstrobl mroskanin mroskanin rstrobl mmetelka mkubec mmetelka         1\n",
              "pventura pventura dbalek                                                                               1\n",
              "arnaldocm tzezula quality                                                                              1\n",
              "abdecea jbecicka quality                                                                               1\n",
              "joergm lebedkov pkuzel pkuzel jglick pkuzel pkuzel mkubec lebedkov                                     1\n",
              "umafaid tzezula quality                                                                                1\n",
              "rremedio rremedio jiriprox jiriprox jiriprox jiriprox jbecicka quality                                 1\n",
              "jirium mmetelka jbecicka quality                                                                       1\n",
              "pwillemann pwillemann jstola                                                                           1\n",
              "rptmaestro mmatula thurka thurka quality                                                               1\n",
              "lew26 lew26 jiriprox jiriprox jbecicka quality                                                         1\n",
              "rkusterer rkusterer mmirilovic                                                                         1\n",
              "ddaniels pkuzel mmetelka ttran mmetelka quality quality                                                1\n",
              "pferreira mmirilovic psuk thurka                                                                       1\n",
              "vhi jglick bleonard bleonard jbecicka jbecicka quality                                                 1\n",
              "grfe2 mkubec mmatula jbecicka jbecicka quality                                                         1\n",
              "gwimag gwimag                                                                                          1\n",
              "bceglia bceglia lhasik lhasik asotona tzezula asotona nbabb asotona asotona lhasik lhasik              1\n",
              "brucekhaddon brucekhaddon jlahoda jbecicka quality                                                     1\n",
              "rptmaestro mmatula                                                                                     1\n",
              "memukesh memukesh                                                                                      1\n",
              "decipher decipher decipher rstrobl rstrobl rstrobl rstrobl jstola                                      1\n",
              "mderf jchalupa tzezula                                                                                 1\n",
              "kushalkumarv jglick kushalkumarv kushalkumarv mmatula quality                                          1\n",
              "ccpurvis tzezula ccpurvis                                                                              1\n",
              "rvbabilonia lcincura jbecicka tball tball                                                              1\n",
              "pocket pocket pocket dlipin pocket pocket dlipin pocket dlipin dlipin ksorokin ksorokin kfrank         1\n",
              "gustavomf gustavomf mkubec tzezula tzezula jiriprox                                                    1\n",
              "ayeshasilvia mkubec ayeshasilvia tzezula tzezula jiriprox                                              1\n",
              "Name: severity_level, dtype: int64"
            ]
          },
          "metadata": {},
          "execution_count": 7
        }
      ]
    },
    {
      "cell_type": "code",
      "metadata": {
        "colab": {
          "base_uri": "https://localhost:8080/"
        },
        "id": "vjKFYlSFfKTP",
        "outputId": "3505ae67-6a64-46aa-c2b7-a7bb8e130be7"
      },
      "source": [
        "class_names = df['severity_level'].unique()\n",
        "class_names"
      ],
      "execution_count": 8,
      "outputs": [
        {
          "output_type": "execute_result",
          "data": {
            "text/plain": [
              "array(['normal', 'blocker', 'major', nan,\n",
              "       'rvbabilonia lcincura jbecicka tball tball ',\n",
              "       'ozguy ozguy ozguy anebuzelsky jlahoda jlahoda ozguy pribyl jbecicka msauer sj-nb pflaska ',\n",
              "       'pventura pventura dbalek ', 'jbatchelor jbatchelor jbecicka ',\n",
              "       'enhancement', 'minor',\n",
              "       'nixsa mkubec jbecicka phrebejk phrebejk phrebejk ',\n",
              "       'ayeshasilvia mkubec ayeshasilvia tzezula tzezula jiriprox ',\n",
              "       'ccpurvis tzezula ccpurvis ', 'kduz0 juhrik mmatula dsimonek ',\n",
              "       'trivial', 'gustavomf gustavomf mkubec tzezula tzezula jiriprox ',\n",
              "       'sdvic msauer mkubec jlahoda ',\n",
              "       'bceglia bceglia lhasik lhasik asotona tzezula asotona nbabb asotona asotona lhasik lhasik ',\n",
              "       'frankberger tzezula ', 'saiandrag tzezula quality ',\n",
              "       'dhollon dhollon dhollon quality ',\n",
              "       'rremedio rremedio jiriprox jiriprox jiriprox jiriprox jbecicka quality ',\n",
              "       'critical',\n",
              "       'vhi jglick bleonard bleonard jbecicka jbecicka quality ',\n",
              "       'umafaid tzezula quality ', 'jirium mmetelka jbecicka quality ',\n",
              "       'pferreira mmirilovic psuk thurka ',\n",
              "       'brucekhaddon brucekhaddon jlahoda jbecicka quality ',\n",
              "       'rickardnordstrom rickardnordstrom jbecicka ',\n",
              "       'kushalkumarv jglick kushalkumarv kushalkumarv mmatula quality ',\n",
              "       'rptmaestro mmatula thurka thurka quality ',\n",
              "       'lew26 lew26 jiriprox jiriprox jbecicka quality ',\n",
              "       'abdecea jbecicka quality ', 'mmartin jglick tzezula quality ',\n",
              "       'arnaldocm tzezula quality ', 'rptmaestro mmatula ',\n",
              "       'basilbourque basilbourque pflaska quality ',\n",
              "       'jlohrey pfelenda mmatula quality ',\n",
              "       'memcryno novakm memcryno mkubec memcryno quality ',\n",
              "       'antonl antonl antonl jbecicka jbecicka quality ',\n",
              "       'grfe2 mkubec mmatula jbecicka jbecicka quality ',\n",
              "       'mderf jchalupa tzezula ', 'jmresler jmresler mmatula jfdenise ',\n",
              "       'joergm lebedkov pkuzel pkuzel jglick pkuzel pkuzel mkubec lebedkov ',\n",
              "       'rev4eva rev4eva abadea abadea ',\n",
              "       'jtulach abadea jtulach jbaker jtulach jbaker jrechtacek jrechtacek ',\n",
              "       'yardus yardus mentlicher mentlicher quality mentlicher ',\n",
              "       'aady74 aady74 mroskanin mroskanin rstrobl mroskanin mroskanin rstrobl mmetelka mkubec mmetelka ',\n",
              "       'ddaniels pkuzel mmetelka ttran mmetelka quality quality ',\n",
              "       'bwohlin martin_adamek quality ', 'pwillemann pwillemann jstola ',\n",
              "       'decipher decipher decipher rstrobl rstrobl rstrobl rstrobl jstola ',\n",
              "       'lightspeed lightspeed jstola tpavek tpavek ',\n",
              "       'dextrad dextrad mmirilovic jstola stooge4444 jstola jstola jstola tpavek jstola ',\n",
              "       'jon80 dlipin dlipin jon80 jon80 ',\n",
              "       'pocket pocket pocket dlipin pocket pocket dlipin pocket dlipin dlipin ksorokin ksorokin kfrank ',\n",
              "       'rkusterer rkusterer mmirilovic ', 'jeffbeans mkubec ',\n",
              "       'pierre_bcd pierre_bcd ', 'gwimag gwimag ', 'memukesh memukesh '],\n",
              "      dtype=object)"
            ]
          },
          "metadata": {},
          "execution_count": 8
        }
      ]
    },
    {
      "cell_type": "code",
      "metadata": {
        "colab": {
          "base_uri": "https://localhost:8080/"
        },
        "id": "bAkUcshz_X6_",
        "outputId": "0a9af529-37a9-4c0a-8619-f3a66dacd010"
      },
      "source": [
        "status_names = df['status'].unique() \n",
        "status_names"
      ],
      "execution_count": 9,
      "outputs": [
        {
          "output_type": "execute_result",
          "data": {
            "text/plain": [
              "array(['FIXED', nan], dtype=object)"
            ]
          },
          "metadata": {},
          "execution_count": 9
        }
      ]
    },
    {
      "cell_type": "code",
      "metadata": {
        "id": "Fp1Uv4L0qKaG"
      },
      "source": [
        "#Convertendo 'summary' e 'description' para string\n",
        "df = df.astype({'summary':'str', 'description':'str'})"
      ],
      "execution_count": 10,
      "outputs": []
    },
    {
      "cell_type": "code",
      "metadata": {
        "id": "G0Nm3A_TvctI"
      },
      "source": [
        "#Filtrando severidades confiaveis\n",
        "df = df.loc[(df['severity_level'] != 'enhancement') & (df['severity_level'] != 'normal')]"
      ],
      "execution_count": 11,
      "outputs": []
    },
    {
      "cell_type": "code",
      "metadata": {
        "id": "Kzq3C3QS800G"
      },
      "source": [
        "#Modificando severidade diferente de blocker (Classificação binaria)\n",
        "df.loc[(df['severity_level'] != 'blocker'), 'severity_level'] = \"no-blocker\""
      ],
      "execution_count": 12,
      "outputs": []
    },
    {
      "cell_type": "code",
      "metadata": {
        "colab": {
          "base_uri": "https://localhost:8080/"
        },
        "id": "dz-C_juw2jNL",
        "outputId": "19b9b7f0-3824-4e81-dd9b-e1315572cbf0"
      },
      "source": [
        "df['severity_level'].value_counts()"
      ],
      "execution_count": 13,
      "outputs": [
        {
          "output_type": "execute_result",
          "data": {
            "text/plain": [
              "blocker       13747\n",
              "no-blocker      917\n",
              "Name: severity_level, dtype: int64"
            ]
          },
          "metadata": {},
          "execution_count": 13
        }
      ]
    },
    {
      "cell_type": "code",
      "metadata": {
        "colab": {
          "base_uri": "https://localhost:8080/",
          "height": 1000
        },
        "id": "dU31wUm5tY9S",
        "outputId": "dec51449-20ae-42a1-8080-066afc816756"
      },
      "source": [
        "df.head(11)"
      ],
      "execution_count": 14,
      "outputs": [
        {
          "output_type": "execute_result",
          "data": {
            "text/html": [
              "<div>\n",
              "<style scoped>\n",
              "    .dataframe tbody tr th:only-of-type {\n",
              "        vertical-align: middle;\n",
              "    }\n",
              "\n",
              "    .dataframe tbody tr th {\n",
              "        vertical-align: top;\n",
              "    }\n",
              "\n",
              "    .dataframe thead th {\n",
              "        text-align: right;\n",
              "    }\n",
              "</style>\n",
              "<table border=\"1\" class=\"dataframe\">\n",
              "  <thead>\n",
              "    <tr style=\"text-align: right;\">\n",
              "      <th></th>\n",
              "      <th>Bug_report_ID</th>\n",
              "      <th>Product_Name</th>\n",
              "      <th>summary</th>\n",
              "      <th>description</th>\n",
              "      <th>component_name</th>\n",
              "      <th>severity_level</th>\n",
              "      <th>priority</th>\n",
              "      <th>assignee_developers</th>\n",
              "      <th>topic_id</th>\n",
              "      <th>status</th>\n",
              "    </tr>\n",
              "  </thead>\n",
              "  <tbody>\n",
              "    <tr>\n",
              "      <th>1</th>\n",
              "      <td>10499</td>\n",
              "      <td>java</td>\n",
              "      <td>perform i n horribl slow popup local menu</td>\n",
              "      <td>i n tool action group deep tre scan return sta...</td>\n",
              "      <td>I18N</td>\n",
              "      <td>blocker</td>\n",
              "      <td>P1</td>\n",
              "      <td>issues</td>\n",
              "      <td>pnejedly pzavadsky vnemec jchalupa quality</td>\n",
              "      <td>FIXED</td>\n",
              "    </tr>\n",
              "    <tr>\n",
              "      <th>3</th>\n",
              "      <td>118348</td>\n",
              "      <td>java</td>\n",
              "      <td>cat correct code mark error</td>\n",
              "      <td>build jdk version line pobjectkey null mark er...</td>\n",
              "      <td>Compiler</td>\n",
              "      <td>blocker</td>\n",
              "      <td>P1</td>\n",
              "      <td>jlahoda</td>\n",
              "      <td>gugrim jbecicka gugrim medotin jlahoda jlahoda...</td>\n",
              "      <td>FIXED</td>\n",
              "    </tr>\n",
              "    <tr>\n",
              "      <th>4</th>\n",
              "      <td>19137</td>\n",
              "      <td>java</td>\n",
              "      <td>assign string compon resourc bundl corrupt res...</td>\n",
              "      <td>resourc bundl english german string form edito...</td>\n",
              "      <td>I18N</td>\n",
              "      <td>blocker</td>\n",
              "      <td>P1</td>\n",
              "      <td>issues</td>\n",
              "      <td>rost tpavek pkuzel pkuzel pzavadsky pkuzel pfe...</td>\n",
              "      <td>FIXED</td>\n",
              "    </tr>\n",
              "    <tr>\n",
              "      <th>7</th>\n",
              "      <td>43936</td>\n",
              "      <td>java</td>\n",
              "      <td>except print consol creat ccdb jdk</td>\n",
              "      <td>current trunk reproduc test freeform project t...</td>\n",
              "      <td>Classfile</td>\n",
              "      <td>blocker</td>\n",
              "      <td>P1</td>\n",
              "      <td>tball</td>\n",
              "      <td>jglick jglick jglick jglick jglick tball jglic...</td>\n",
              "      <td>FIXED</td>\n",
              "    </tr>\n",
              "    <tr>\n",
              "      <th>8</th>\n",
              "      <td>53722</td>\n",
              "      <td>java</td>\n",
              "      <td>error compil test</td>\n",
              "      <td>compil error occur freeform test execut test u...</td>\n",
              "      <td>Freeform</td>\n",
              "      <td>blocker</td>\n",
              "      <td>P1</td>\n",
              "      <td>dkonecny</td>\n",
              "      <td>pzajac pzajac tzezula dkonecny dkonecny pzajac</td>\n",
              "      <td>FIXED</td>\n",
              "    </tr>\n",
              "    <tr>\n",
              "      <th>9</th>\n",
              "      <td>75619</td>\n",
              "      <td>java</td>\n",
              "      <td>editor speed packag explor invalid file</td>\n",
              "      <td>featur request editor speed mark problemat cod...</td>\n",
              "      <td>Editor</td>\n",
              "      <td>blocker</td>\n",
              "      <td>P1</td>\n",
              "      <td>issues</td>\n",
              "      <td>dyegoleal dyegoleal jbecicka dyegoleal</td>\n",
              "      <td>FIXED</td>\n",
              "    </tr>\n",
              "    <tr>\n",
              "      <th>10</th>\n",
              "      <td>60183</td>\n",
              "      <td>java</td>\n",
              "      <td>nsme jmiutils getexactclass string javahintspr...</td>\n",
              "      <td>org netbeans modules java hints org netbeans m...</td>\n",
              "      <td>Editor</td>\n",
              "      <td>blocker</td>\n",
              "      <td>P1</td>\n",
              "      <td>mmetelka</td>\n",
              "      <td>jglick jglick thurka thurka thurka jiriprox</td>\n",
              "      <td>FIXED</td>\n",
              "    </tr>\n",
              "    <tr>\n",
              "      <th>13</th>\n",
              "      <td>49026</td>\n",
              "      <td>java</td>\n",
              "      <td>permit user ignor list javac</td>\n",
              "      <td>recent re organ java fiel java exist sourc pro...</td>\n",
              "      <td>Classpath</td>\n",
              "      <td>blocker</td>\n",
              "      <td>P1</td>\n",
              "      <td>jglick</td>\n",
              "      <td>kjmcdonald jglick kjmcdonald jglick jglick jgl...</td>\n",
              "      <td>FIXED</td>\n",
              "    </tr>\n",
              "    <tr>\n",
              "      <th>16</th>\n",
              "      <td>41440</td>\n",
              "      <td>java</td>\n",
              "      <td>rethink ui i n wizard light buildsi</td>\n",
              "      <td>design add sourc dialog wizard strang consult ...</td>\n",
              "      <td>I18N</td>\n",
              "      <td>blocker</td>\n",
              "      <td>P1</td>\n",
              "      <td>mpetras</td>\n",
              "      <td>dkonecny mpetras dkonecny jglick pkuzel rypacek</td>\n",
              "      <td>FIXED</td>\n",
              "    </tr>\n",
              "    <tr>\n",
              "      <th>17</th>\n",
              "      <td>91888</td>\n",
              "      <td>java</td>\n",
              "      <td>highlight rewrit editor api</td>\n",
              "      <td>plan task</td>\n",
              "      <td>Editor</td>\n",
              "      <td>blocker</td>\n",
              "      <td>P1</td>\n",
              "      <td>jlahoda</td>\n",
              "      <td>phrebejk phrebejk jlahoda</td>\n",
              "      <td>FIXED</td>\n",
              "    </tr>\n",
              "    <tr>\n",
              "      <th>20</th>\n",
              "      <td>88631</td>\n",
              "      <td>java</td>\n",
              "      <td>netbean save file</td>\n",
              "      <td>made insignific code compil netbean gave error...</td>\n",
              "      <td>Editor</td>\n",
              "      <td>blocker</td>\n",
              "      <td>P1</td>\n",
              "      <td>jpokorsky</td>\n",
              "      <td>wcyang jiriprox wcyang phrebejk jpokorsky jpok...</td>\n",
              "      <td>FIXED</td>\n",
              "    </tr>\n",
              "  </tbody>\n",
              "</table>\n",
              "</div>"
            ],
            "text/plain": [
              "   Bug_report_ID  ... status\n",
              "1          10499  ...  FIXED\n",
              "3         118348  ...  FIXED\n",
              "4          19137  ...  FIXED\n",
              "7          43936  ...  FIXED\n",
              "8          53722  ...  FIXED\n",
              "9          75619  ...  FIXED\n",
              "10         60183  ...  FIXED\n",
              "13         49026  ...  FIXED\n",
              "16         41440  ...  FIXED\n",
              "17         91888  ...  FIXED\n",
              "20         88631  ...  FIXED\n",
              "\n",
              "[11 rows x 10 columns]"
            ]
          },
          "metadata": {},
          "execution_count": 14
        }
      ]
    },
    {
      "cell_type": "code",
      "metadata": {
        "id": "ZU8olx_TZWlA",
        "colab": {
          "base_uri": "https://localhost:8080/"
        },
        "outputId": "29ffb454-b651-4aac-f605-2abc54786f82"
      },
      "source": [
        "df.shape[0]"
      ],
      "execution_count": 15,
      "outputs": [
        {
          "output_type": "execute_result",
          "data": {
            "text/plain": [
              "14664"
            ]
          },
          "metadata": {},
          "execution_count": 15
        }
      ]
    },
    {
      "cell_type": "code",
      "metadata": {
        "colab": {
          "base_uri": "https://localhost:8080/"
        },
        "id": "LHkKHvlzTKho",
        "outputId": "9bad330b-3b17-4f0c-dfae-58c8f97da469"
      },
      "source": [
        "# Stop Words\n",
        "\n",
        "nltk.download('stopwords')\n",
        "\n",
        "nltk.download('punkt')\n",
        "\n",
        "stop_words = nltk.corpus.stopwords.words('english')\n",
        "\n",
        "text_clf   = Pipeline([\n",
        "                # Vectorize\n",
        "                ('vect',  TfidfVectorizer(tokenizer=tokenize, \n",
        "                                          stop_words=stop_words, \n",
        "                                          ngram_range=(1,1))),\n",
        "                # Classificador\n",
        "                ('clf',   KNeighborsClassifier(n_jobs=-5)),\n",
        "            ])"
      ],
      "execution_count": 16,
      "outputs": [
        {
          "output_type": "stream",
          "name": "stdout",
          "text": [
            "[nltk_data] Downloading package stopwords to /root/nltk_data...\n",
            "[nltk_data]   Package stopwords is already up-to-date!\n",
            "[nltk_data] Downloading package punkt to /root/nltk_data...\n",
            "[nltk_data]   Package punkt is already up-to-date!\n"
          ]
        }
      ]
    },
    {
      "cell_type": "markdown",
      "metadata": {
        "id": "E6DXq9HQKc_n"
      },
      "source": [
        "Divididos em 11 quadros não sobrepostos de tamanhos iguais."
      ]
    },
    {
      "cell_type": "code",
      "metadata": {
        "colab": {
          "base_uri": "https://localhost:8080/"
        },
        "id": "9EzrCZlgzs4A",
        "outputId": "d4a8514d-a700-4c23-87f2-aed219227eac"
      },
      "source": [
        "df_set = []\n",
        "k = 1333\n",
        "for i in range(0,10):\n",
        "  df_set.append(df.iloc[i*1333:k])\n",
        "  k += 1333\n",
        "  print(\"Quadro {}\".format(i), \"possui {} entradas.\".format(df_set[i].shape[0]))\n",
        "\n",
        "df_set.append(df.iloc[13330:14664])\n",
        "\n",
        "print(\"Quadro 10 possui {} entradas.\".format(df_set[10].shape[0]))"
      ],
      "execution_count": 17,
      "outputs": [
        {
          "output_type": "stream",
          "name": "stdout",
          "text": [
            "Quadro 0 possui 1333 entradas.\n",
            "Quadro 1 possui 1333 entradas.\n",
            "Quadro 2 possui 1333 entradas.\n",
            "Quadro 3 possui 1333 entradas.\n",
            "Quadro 4 possui 1333 entradas.\n",
            "Quadro 5 possui 1333 entradas.\n",
            "Quadro 6 possui 1333 entradas.\n",
            "Quadro 7 possui 1333 entradas.\n",
            "Quadro 8 possui 1333 entradas.\n",
            "Quadro 9 possui 1333 entradas.\n",
            "Quadro 10 possui 1334 entradas.\n"
          ]
        }
      ]
    },
    {
      "cell_type": "code",
      "metadata": {
        "id": "4fmguTH8ua9v"
      },
      "source": [
        "X_test = []\n",
        "\n",
        "for i in range(0, 10):\n",
        "  new_df = df_set[0]\n",
        "  for j in range(0, i):\n",
        "    new_df = pd.merge(new_df, df_set[j+1], how = 'outer')\n",
        "  X_test.append(new_df)"
      ],
      "execution_count": null,
      "outputs": []
    },
    {
      "cell_type": "code",
      "metadata": {
        "id": "H-hLFCzmvCSV"
      },
      "source": [
        "for i in range(0, len(X_test)):\n",
        "  print(\"Treinamento {}, possui {} entradas.\". format(i+1, X_test[i].shape[0]))"
      ],
      "execution_count": null,
      "outputs": []
    },
    {
      "cell_type": "code",
      "metadata": {
        "id": "39y6FF1gZWlE"
      },
      "source": [
        "# Evaluate\n",
        "for i in range(0, len(X_test)):\n",
        "  text_clf = text_clf.fit(X_test[i].description, X_test[i].assignee_developers)\n",
        "  pred = text_clf.predict(df_set[i+1].description)\n",
        "  accuracy_scoreMLP_TFIDF = f1_score(df_set[i+1].assignee_developers, pred, average='micro')\n",
        "  accuracy_scoreMLP_TFIDF"
      ],
      "execution_count": null,
      "outputs": []
    },
    {
      "cell_type": "code",
      "metadata": {
        "id": "0EjKaY2zZWlG"
      },
      "source": [
        "\n",
        "predictions = text_clf.predict(df_set[10].description)\n",
        "\n",
        "conf_matrix = confusion_matrix(df_set[10].assignee_developers, predictions)"
      ],
      "execution_count": null,
      "outputs": []
    },
    {
      "cell_type": "code",
      "metadata": {
        "id": "NuKTCrP8ZWlH"
      },
      "source": [
        "plt.figure(figsize=(10,10))\n",
        "plt.xticks(np.arange(len(text_clf.classes_)),text_clf.classes_)\n",
        "plt.yticks(np.arange(len(text_clf.classes_)),text_clf.classes_)\n",
        "plt.imshow(conf_matrix,cmap=plt.cm.Blues)\n",
        "plt.colorbar()"
      ],
      "execution_count": null,
      "outputs": []
    }
  ]
}