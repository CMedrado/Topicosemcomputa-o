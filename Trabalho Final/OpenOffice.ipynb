{
  "nbformat": 4,
  "nbformat_minor": 0,
  "metadata": {
    "kernelspec": {
      "display_name": "Python 3",
      "language": "python",
      "name": "python3"
    },
    "language_info": {
      "codemirror_mode": {
        "name": "ipython",
        "version": 3
      },
      "file_extension": ".py",
      "mimetype": "text/x-python",
      "name": "python",
      "nbconvert_exporter": "python",
      "pygments_lexer": "ipython3",
      "version": "3.7.3"
    },
    "toc": {
      "base_numbering": 1,
      "nav_menu": {},
      "number_sections": true,
      "sideBar": true,
      "skip_h1_title": false,
      "title_cell": "Table of Contents",
      "title_sidebar": "Contents",
      "toc_cell": false,
      "toc_position": {},
      "toc_section_display": true,
      "toc_window_display": false
    },
    "colab": {
      "name": "OpenOffice.ipynb",
      "provenance": [],
      "collapsed_sections": [],
      "include_colab_link": true
    }
  },
  "cells": [
    {
      "cell_type": "markdown",
      "metadata": {
        "id": "view-in-github",
        "colab_type": "text"
      },
      "source": [
        "<a href=\"https://colab.research.google.com/github/CMedrado/Topicosemcomputa-o/blob/main/OpenOffice.ipynb\" target=\"_parent\"><img src=\"https://colab.research.google.com/assets/colab-badge.svg\" alt=\"Open In Colab\"/></a>"
      ]
    },
    {
      "cell_type": "markdown",
      "metadata": {
        "id": "YHZA93r5ZWkv"
      },
      "source": [
        "# Classificação de Texto no contexto da Predição de Severidade de Bug Reports\n",
        "\n",
        "Exemplo de classificação de texto com pipeline de NLP e classificador no final"
      ]
    },
    {
      "cell_type": "code",
      "metadata": {
        "id": "Nx_2ZKqmZWk3"
      },
      "source": [
        "import nltk\n",
        "from nltk.tokenize import word_tokenize\n",
        "from nltk.stem.snowball import SnowballStemmer\n",
        "from sklearn.feature_extraction.text import TfidfVectorizer, CountVectorizer\n",
        "import pandas as pd\n",
        "import numpy as np\n",
        "import matplotlib.pyplot as plt\n",
        "%matplotlib inline\n",
        "import warnings\n",
        "warnings.simplefilter(\"ignore\")\n",
        "\n",
        "from sklearn.model_selection import train_test_split\n",
        "from sklearn.pipeline import Pipeline\n",
        "from sklearn.neighbors import KNeighborsClassifier\n",
        "from sklearn.metrics import accuracy_score\n",
        "from sklearn.metrics import f1_score\n",
        "from sklearn.metrics import confusion_matrix\n",
        "from sklearn.metrics import plot_confusion_matrix\n"
      ],
      "execution_count": 1,
      "outputs": []
    },
    {
      "cell_type": "code",
      "metadata": {
        "id": "-sbOi1hdZWk7"
      },
      "source": [
        "# Tokenização\n",
        "def tokenize(text):\n",
        "    # Tokenização\n",
        "    tokens = nltk.word_tokenize(text)\n",
        "    \n",
        "    # Stemização\n",
        "    stems  = []\n",
        "    for item in tokens:\n",
        "        stems.append(SnowballStemmer(\"english\").stem(item))\n",
        "    return stems"
      ],
      "execution_count": 2,
      "outputs": []
    },
    {
      "cell_type": "code",
      "metadata": {
        "colab": {
          "base_uri": "https://localhost:8080/"
        },
        "id": "6zLolLTX0e_U",
        "outputId": "09523190-2fd9-4eb7-e10d-744c5a696948"
      },
      "source": [
        "from google.colab import drive\n",
        "drive.mount('/content/drive')"
      ],
      "execution_count": 4,
      "outputs": [
        {
          "output_type": "stream",
          "name": "stdout",
          "text": [
            "Drive already mounted at /content/drive; to attempt to forcibly remount, call drive.mount(\"/content/drive\", force_remount=True).\n"
          ]
        }
      ]
    },
    {
      "cell_type": "code",
      "metadata": {
        "id": "O2rgEUvzZWk9",
        "colab": {
          "base_uri": "https://localhost:8080/",
          "height": 954
        },
        "outputId": "65dff17d-4c38-44ad-fccc-eaa3a1a7f965"
      },
      "source": [
        "# Carregando os dados\n",
        "df = pd.read_csv('/content/drive/My Drive/TP/PF/Dataset (1)/OpenOffice_total.csv') # Salvamos com esse nome antes\n",
        "\n",
        "# Dataset\n",
        "df.head(11)"
      ],
      "execution_count": 6,
      "outputs": [
        {
          "output_type": "execute_result",
          "data": {
            "text/html": [
              "<div>\n",
              "<style scoped>\n",
              "    .dataframe tbody tr th:only-of-type {\n",
              "        vertical-align: middle;\n",
              "    }\n",
              "\n",
              "    .dataframe tbody tr th {\n",
              "        vertical-align: top;\n",
              "    }\n",
              "\n",
              "    .dataframe thead th {\n",
              "        text-align: right;\n",
              "    }\n",
              "</style>\n",
              "<table border=\"1\" class=\"dataframe\">\n",
              "  <thead>\n",
              "    <tr style=\"text-align: right;\">\n",
              "      <th></th>\n",
              "      <th>Bug_report_ID</th>\n",
              "      <th>Product_Name</th>\n",
              "      <th>summary</th>\n",
              "      <th>description</th>\n",
              "      <th>component_name</th>\n",
              "      <th>severity_level</th>\n",
              "      <th>priority</th>\n",
              "      <th>assignee_developers</th>\n",
              "      <th>topic_id</th>\n",
              "      <th>status</th>\n",
              "    </tr>\n",
              "  </thead>\n",
              "  <tbody>\n",
              "    <tr>\n",
              "      <th>0</th>\n",
              "      <td>40313</td>\n",
              "      <td>Base</td>\n",
              "      <td>databas wizard button label errorn referenc ge...</td>\n",
              "      <td>start databasewizard click men neue datenbank ...</td>\n",
              "      <td>code</td>\n",
              "      <td>trivial</td>\n",
              "      <td>P4</td>\n",
              "      <td>marc.neumann</td>\n",
              "      <td>berend.cornelius ocke.janssen ocke.janssen ock...</td>\n",
              "      <td>FIXED</td>\n",
              "    </tr>\n",
              "    <tr>\n",
              "      <th>1</th>\n",
              "      <td>11539</td>\n",
              "      <td>Base</td>\n",
              "      <td>function sql queri return proper</td>\n",
              "      <td>s imagin tabl databas selector select tabl ret...</td>\n",
              "      <td>code</td>\n",
              "      <td>trivial</td>\n",
              "      <td>P4</td>\n",
              "      <td>marc.neumann</td>\n",
              "      <td>ntf frank.schoenheit ocke.janssen wolframgarte...</td>\n",
              "      <td>FIXED</td>\n",
              "    </tr>\n",
              "    <tr>\n",
              "      <th>2</th>\n",
              "      <td>63132</td>\n",
              "      <td>Base</td>\n",
              "      <td>standard view mode toolbar show wrong tip form...</td>\n",
              "      <td>item standard view mode toolbar show hint</td>\n",
              "      <td>code</td>\n",
              "      <td>trivial</td>\n",
              "      <td>P4</td>\n",
              "      <td>marc.neumann</td>\n",
              "      <td>jaschulz frank.schoenheit jaschulz marc.neuman...</td>\n",
              "      <td>FIXED</td>\n",
              "    </tr>\n",
              "    <tr>\n",
              "      <th>3</th>\n",
              "      <td>43180</td>\n",
              "      <td>Base</td>\n",
              "      <td>titl form wizard report wizard miss space</td>\n",
              "      <td>mark p extrem trivial fix second work user vis...</td>\n",
              "      <td>code</td>\n",
              "      <td>trivial</td>\n",
              "      <td>P4</td>\n",
              "      <td>marc.neumann</td>\n",
              "      <td>jclift caiot1 jclift frank.schoenheit berend.c...</td>\n",
              "      <td>FIXED</td>\n",
              "    </tr>\n",
              "    <tr>\n",
              "      <th>4</th>\n",
              "      <td>21660</td>\n",
              "      <td>Base</td>\n",
              "      <td>queri form lock w bad criteria</td>\n",
              "      <td>queri design form random tabl drop tabl column...</td>\n",
              "      <td>code</td>\n",
              "      <td>trivial</td>\n",
              "      <td>P4</td>\n",
              "      <td>christoph.lukasiak</td>\n",
              "      <td>brian.pellerin brian.pellerin christoph.lukasi...</td>\n",
              "      <td>FIXED</td>\n",
              "    </tr>\n",
              "    <tr>\n",
              "      <th>5</th>\n",
              "      <td>70174</td>\n",
              "      <td>Base</td>\n",
              "      <td>chang case column name tabl save</td>\n",
              "      <td>chang case column dbase tabl chang save reprod...</td>\n",
              "      <td>code</td>\n",
              "      <td>trivial</td>\n",
              "      <td>P4</td>\n",
              "      <td>marc.neumann</td>\n",
              "      <td>lists christoph.lukasiak christoph.lukasiak oc...</td>\n",
              "      <td>FIXED</td>\n",
              "    </tr>\n",
              "    <tr>\n",
              "      <th>6</th>\n",
              "      <td>44812</td>\n",
              "      <td>Base</td>\n",
              "      <td>form wizard silent form s form</td>\n",
              "      <td>follow instruct issu creat form wizard interes...</td>\n",
              "      <td>code</td>\n",
              "      <td>trivial</td>\n",
              "      <td>P4</td>\n",
              "      <td>marc.neumann</td>\n",
              "      <td>frank.schoenheit berend.cornelius berend.corne...</td>\n",
              "      <td>FIXED</td>\n",
              "    </tr>\n",
              "    <tr>\n",
              "      <th>7</th>\n",
              "      <td>30607</td>\n",
              "      <td>Base</td>\n",
              "      <td>cw insight assert interfacecontainer cxx start...</td>\n",
              "      <td>creat databas click queri icon choos wizard cr...</td>\n",
              "      <td>code</td>\n",
              "      <td>trivial</td>\n",
              "      <td>P4</td>\n",
              "      <td>marc.neumann</td>\n",
              "      <td>christoph.lukasiak ocke.janssen ocke.janssen b...</td>\n",
              "      <td>FIXED</td>\n",
              "    </tr>\n",
              "    <tr>\n",
              "      <th>8</th>\n",
              "      <td>86043</td>\n",
              "      <td>Base</td>\n",
              "      <td>mdb file openoffice org base program disappear</td>\n",
              "      <td>report discuss openoffice org http www openoff...</td>\n",
              "      <td>code</td>\n",
              "      <td>trivial</td>\n",
              "      <td>P4</td>\n",
              "      <td>marc.neumann</td>\n",
              "      <td>aloboaleu drewjensen.inbox christoph.lukasiak ...</td>\n",
              "      <td>FIXED</td>\n",
              "    </tr>\n",
              "    <tr>\n",
              "      <th>9</th>\n",
              "      <td>50660</td>\n",
              "      <td>Base</td>\n",
              "      <td>base ca creat relationship compound joint key</td>\n",
              "      <td>appear issu interfac creat relationship tabl b...</td>\n",
              "      <td>code</td>\n",
              "      <td>trivial</td>\n",
              "      <td>P4</td>\n",
              "      <td>marc.neumann</td>\n",
              "      <td>andrew andrew andrew marc.neumann frank.schoen...</td>\n",
              "      <td>FIXED</td>\n",
              "    </tr>\n",
              "    <tr>\n",
              "      <th>10</th>\n",
              "      <td>34197</td>\n",
              "      <td>Base</td>\n",
              "      <td>inconsist document titl openoffice org base</td>\n",
              "      <td>open arbitrari text spreadsheet document titl ...</td>\n",
              "      <td>code</td>\n",
              "      <td>trivial</td>\n",
              "      <td>P4</td>\n",
              "      <td>marc.neumann</td>\n",
              "      <td>frank.schoenheit frank.schoenheit ocke.janssen...</td>\n",
              "      <td>FIXED</td>\n",
              "    </tr>\n",
              "  </tbody>\n",
              "</table>\n",
              "</div>"
            ],
            "text/plain": [
              "    Bug_report_ID  ... status\n",
              "0           40313  ...  FIXED\n",
              "1           11539  ...  FIXED\n",
              "2           63132  ...  FIXED\n",
              "3           43180  ...  FIXED\n",
              "4           21660  ...  FIXED\n",
              "5           70174  ...  FIXED\n",
              "6           44812  ...  FIXED\n",
              "7           30607  ...  FIXED\n",
              "8           86043  ...  FIXED\n",
              "9           50660  ...  FIXED\n",
              "10          34197  ...  FIXED\n",
              "\n",
              "[11 rows x 10 columns]"
            ]
          },
          "metadata": {},
          "execution_count": 6
        }
      ]
    },
    {
      "cell_type": "code",
      "metadata": {
        "colab": {
          "base_uri": "https://localhost:8080/"
        },
        "id": "cmqYBbKPhvKW",
        "outputId": "db539a8d-9507-4f53-b6e3-be3b2731650a"
      },
      "source": [
        "df['severity_level'].value_counts()"
      ],
      "execution_count": 7,
      "outputs": [
        {
          "output_type": "execute_result",
          "data": {
            "text/plain": [
              "trivial     21731\n",
              "normal        924\n",
              "major         555\n",
              "critical      177\n",
              "blocker        57\n",
              "minor          37\n",
              "Name: severity_level, dtype: int64"
            ]
          },
          "metadata": {},
          "execution_count": 7
        }
      ]
    },
    {
      "cell_type": "code",
      "metadata": {
        "colab": {
          "base_uri": "https://localhost:8080/"
        },
        "id": "vjKFYlSFfKTP",
        "outputId": "7fa0a20b-ac1e-4655-f176-908d6a1c2c30"
      },
      "source": [
        "class_names = df['severity_level'].unique()\n",
        "class_names"
      ],
      "execution_count": 8,
      "outputs": [
        {
          "output_type": "execute_result",
          "data": {
            "text/plain": [
              "array(['trivial', 'normal', 'blocker', 'critical', 'minor', 'major'],\n",
              "      dtype=object)"
            ]
          },
          "metadata": {},
          "execution_count": 8
        }
      ]
    },
    {
      "cell_type": "code",
      "metadata": {
        "colab": {
          "base_uri": "https://localhost:8080/"
        },
        "id": "bAkUcshz_X6_",
        "outputId": "d150024d-845f-471c-e8b7-5f6609f40322"
      },
      "source": [
        "status_names = df['status'].unique() \n",
        "status_names"
      ],
      "execution_count": 9,
      "outputs": [
        {
          "output_type": "execute_result",
          "data": {
            "text/plain": [
              "array(['FIXED'], dtype=object)"
            ]
          },
          "metadata": {},
          "execution_count": 9
        }
      ]
    },
    {
      "cell_type": "code",
      "metadata": {
        "id": "Fp1Uv4L0qKaG"
      },
      "source": [
        "#Convertendo 'summary' e 'description' para string\n",
        "df = df.astype({'summary':'str', 'description':'str'})"
      ],
      "execution_count": 10,
      "outputs": []
    },
    {
      "cell_type": "code",
      "metadata": {
        "id": "G0Nm3A_TvctI"
      },
      "source": [
        "#Filtrando severidades confiaveis\n",
        "df = df.loc[(df['severity_level'] != 'enhancement') & (df['severity_level'] != 'normal')]"
      ],
      "execution_count": 11,
      "outputs": []
    },
    {
      "cell_type": "code",
      "metadata": {
        "id": "Kzq3C3QS800G"
      },
      "source": [
        "#Modificando severidade diferente de blocker (Classificação binaria)\n",
        "df.loc[(df['severity_level'] != 'blocker'), 'severity_level'] = \"no-blocker\""
      ],
      "execution_count": 14,
      "outputs": []
    },
    {
      "cell_type": "code",
      "metadata": {
        "colab": {
          "base_uri": "https://localhost:8080/"
        },
        "id": "dz-C_juw2jNL",
        "outputId": "85ccd5b9-ca21-44d3-ca23-62836f3ec85c"
      },
      "source": [
        "df['severity_level'].value_counts()"
      ],
      "execution_count": 15,
      "outputs": [
        {
          "output_type": "execute_result",
          "data": {
            "text/plain": [
              "no-blocker    22500\n",
              "blocker          57\n",
              "Name: severity_level, dtype: int64"
            ]
          },
          "metadata": {},
          "execution_count": 15
        }
      ]
    },
    {
      "cell_type": "code",
      "metadata": {
        "colab": {
          "base_uri": "https://localhost:8080/",
          "height": 954
        },
        "id": "dU31wUm5tY9S",
        "outputId": "7d237493-c40f-4bb0-e0ba-c0d157548b71"
      },
      "source": [
        "df.head(11)"
      ],
      "execution_count": 16,
      "outputs": [
        {
          "output_type": "execute_result",
          "data": {
            "text/html": [
              "<div>\n",
              "<style scoped>\n",
              "    .dataframe tbody tr th:only-of-type {\n",
              "        vertical-align: middle;\n",
              "    }\n",
              "\n",
              "    .dataframe tbody tr th {\n",
              "        vertical-align: top;\n",
              "    }\n",
              "\n",
              "    .dataframe thead th {\n",
              "        text-align: right;\n",
              "    }\n",
              "</style>\n",
              "<table border=\"1\" class=\"dataframe\">\n",
              "  <thead>\n",
              "    <tr style=\"text-align: right;\">\n",
              "      <th></th>\n",
              "      <th>Bug_report_ID</th>\n",
              "      <th>Product_Name</th>\n",
              "      <th>summary</th>\n",
              "      <th>description</th>\n",
              "      <th>component_name</th>\n",
              "      <th>severity_level</th>\n",
              "      <th>priority</th>\n",
              "      <th>assignee_developers</th>\n",
              "      <th>topic_id</th>\n",
              "      <th>status</th>\n",
              "    </tr>\n",
              "  </thead>\n",
              "  <tbody>\n",
              "    <tr>\n",
              "      <th>0</th>\n",
              "      <td>40313</td>\n",
              "      <td>Base</td>\n",
              "      <td>databas wizard button label errorn referenc ge...</td>\n",
              "      <td>start databasewizard click men neue datenbank ...</td>\n",
              "      <td>code</td>\n",
              "      <td>no-blocker</td>\n",
              "      <td>P4</td>\n",
              "      <td>marc.neumann</td>\n",
              "      <td>berend.cornelius ocke.janssen ocke.janssen ock...</td>\n",
              "      <td>FIXED</td>\n",
              "    </tr>\n",
              "    <tr>\n",
              "      <th>1</th>\n",
              "      <td>11539</td>\n",
              "      <td>Base</td>\n",
              "      <td>function sql queri return proper</td>\n",
              "      <td>s imagin tabl databas selector select tabl ret...</td>\n",
              "      <td>code</td>\n",
              "      <td>no-blocker</td>\n",
              "      <td>P4</td>\n",
              "      <td>marc.neumann</td>\n",
              "      <td>ntf frank.schoenheit ocke.janssen wolframgarte...</td>\n",
              "      <td>FIXED</td>\n",
              "    </tr>\n",
              "    <tr>\n",
              "      <th>2</th>\n",
              "      <td>63132</td>\n",
              "      <td>Base</td>\n",
              "      <td>standard view mode toolbar show wrong tip form...</td>\n",
              "      <td>item standard view mode toolbar show hint</td>\n",
              "      <td>code</td>\n",
              "      <td>no-blocker</td>\n",
              "      <td>P4</td>\n",
              "      <td>marc.neumann</td>\n",
              "      <td>jaschulz frank.schoenheit jaschulz marc.neuman...</td>\n",
              "      <td>FIXED</td>\n",
              "    </tr>\n",
              "    <tr>\n",
              "      <th>3</th>\n",
              "      <td>43180</td>\n",
              "      <td>Base</td>\n",
              "      <td>titl form wizard report wizard miss space</td>\n",
              "      <td>mark p extrem trivial fix second work user vis...</td>\n",
              "      <td>code</td>\n",
              "      <td>no-blocker</td>\n",
              "      <td>P4</td>\n",
              "      <td>marc.neumann</td>\n",
              "      <td>jclift caiot1 jclift frank.schoenheit berend.c...</td>\n",
              "      <td>FIXED</td>\n",
              "    </tr>\n",
              "    <tr>\n",
              "      <th>4</th>\n",
              "      <td>21660</td>\n",
              "      <td>Base</td>\n",
              "      <td>queri form lock w bad criteria</td>\n",
              "      <td>queri design form random tabl drop tabl column...</td>\n",
              "      <td>code</td>\n",
              "      <td>no-blocker</td>\n",
              "      <td>P4</td>\n",
              "      <td>christoph.lukasiak</td>\n",
              "      <td>brian.pellerin brian.pellerin christoph.lukasi...</td>\n",
              "      <td>FIXED</td>\n",
              "    </tr>\n",
              "    <tr>\n",
              "      <th>5</th>\n",
              "      <td>70174</td>\n",
              "      <td>Base</td>\n",
              "      <td>chang case column name tabl save</td>\n",
              "      <td>chang case column dbase tabl chang save reprod...</td>\n",
              "      <td>code</td>\n",
              "      <td>no-blocker</td>\n",
              "      <td>P4</td>\n",
              "      <td>marc.neumann</td>\n",
              "      <td>lists christoph.lukasiak christoph.lukasiak oc...</td>\n",
              "      <td>FIXED</td>\n",
              "    </tr>\n",
              "    <tr>\n",
              "      <th>6</th>\n",
              "      <td>44812</td>\n",
              "      <td>Base</td>\n",
              "      <td>form wizard silent form s form</td>\n",
              "      <td>follow instruct issu creat form wizard interes...</td>\n",
              "      <td>code</td>\n",
              "      <td>no-blocker</td>\n",
              "      <td>P4</td>\n",
              "      <td>marc.neumann</td>\n",
              "      <td>frank.schoenheit berend.cornelius berend.corne...</td>\n",
              "      <td>FIXED</td>\n",
              "    </tr>\n",
              "    <tr>\n",
              "      <th>7</th>\n",
              "      <td>30607</td>\n",
              "      <td>Base</td>\n",
              "      <td>cw insight assert interfacecontainer cxx start...</td>\n",
              "      <td>creat databas click queri icon choos wizard cr...</td>\n",
              "      <td>code</td>\n",
              "      <td>no-blocker</td>\n",
              "      <td>P4</td>\n",
              "      <td>marc.neumann</td>\n",
              "      <td>christoph.lukasiak ocke.janssen ocke.janssen b...</td>\n",
              "      <td>FIXED</td>\n",
              "    </tr>\n",
              "    <tr>\n",
              "      <th>8</th>\n",
              "      <td>86043</td>\n",
              "      <td>Base</td>\n",
              "      <td>mdb file openoffice org base program disappear</td>\n",
              "      <td>report discuss openoffice org http www openoff...</td>\n",
              "      <td>code</td>\n",
              "      <td>no-blocker</td>\n",
              "      <td>P4</td>\n",
              "      <td>marc.neumann</td>\n",
              "      <td>aloboaleu drewjensen.inbox christoph.lukasiak ...</td>\n",
              "      <td>FIXED</td>\n",
              "    </tr>\n",
              "    <tr>\n",
              "      <th>9</th>\n",
              "      <td>50660</td>\n",
              "      <td>Base</td>\n",
              "      <td>base ca creat relationship compound joint key</td>\n",
              "      <td>appear issu interfac creat relationship tabl b...</td>\n",
              "      <td>code</td>\n",
              "      <td>no-blocker</td>\n",
              "      <td>P4</td>\n",
              "      <td>marc.neumann</td>\n",
              "      <td>andrew andrew andrew marc.neumann frank.schoen...</td>\n",
              "      <td>FIXED</td>\n",
              "    </tr>\n",
              "    <tr>\n",
              "      <th>10</th>\n",
              "      <td>34197</td>\n",
              "      <td>Base</td>\n",
              "      <td>inconsist document titl openoffice org base</td>\n",
              "      <td>open arbitrari text spreadsheet document titl ...</td>\n",
              "      <td>code</td>\n",
              "      <td>no-blocker</td>\n",
              "      <td>P4</td>\n",
              "      <td>marc.neumann</td>\n",
              "      <td>frank.schoenheit frank.schoenheit ocke.janssen...</td>\n",
              "      <td>FIXED</td>\n",
              "    </tr>\n",
              "  </tbody>\n",
              "</table>\n",
              "</div>"
            ],
            "text/plain": [
              "    Bug_report_ID  ... status\n",
              "0           40313  ...  FIXED\n",
              "1           11539  ...  FIXED\n",
              "2           63132  ...  FIXED\n",
              "3           43180  ...  FIXED\n",
              "4           21660  ...  FIXED\n",
              "5           70174  ...  FIXED\n",
              "6           44812  ...  FIXED\n",
              "7           30607  ...  FIXED\n",
              "8           86043  ...  FIXED\n",
              "9           50660  ...  FIXED\n",
              "10          34197  ...  FIXED\n",
              "\n",
              "[11 rows x 10 columns]"
            ]
          },
          "metadata": {},
          "execution_count": 16
        }
      ]
    },
    {
      "cell_type": "code",
      "metadata": {
        "id": "ZU8olx_TZWlA",
        "colab": {
          "base_uri": "https://localhost:8080/"
        },
        "outputId": "66b289ef-fb27-46d2-a89d-a80c739aef5c"
      },
      "source": [
        "df.shape[0]"
      ],
      "execution_count": 17,
      "outputs": [
        {
          "output_type": "execute_result",
          "data": {
            "text/plain": [
              "22557"
            ]
          },
          "metadata": {},
          "execution_count": 17
        }
      ]
    },
    {
      "cell_type": "code",
      "metadata": {
        "colab": {
          "base_uri": "https://localhost:8080/"
        },
        "id": "LHkKHvlzTKho",
        "outputId": "ad08ef74-d550-4ab8-df4f-0747fef29d2a"
      },
      "source": [
        "# Stop Words\n",
        "\n",
        "nltk.download('stopwords')\n",
        "\n",
        "nltk.download('punkt')\n",
        "\n",
        "stop_words = nltk.corpus.stopwords.words('english')\n",
        "\n",
        "text_clf   = Pipeline([\n",
        "                # Vectorize\n",
        "                ('vect',  TfidfVectorizer(tokenizer=tokenize, \n",
        "                                          stop_words=stop_words, \n",
        "                                          ngram_range=(1,1))),\n",
        "                # Classificador\n",
        "                ('clf',   KNeighborsClassifier(n_jobs=-5)),\n",
        "            ])"
      ],
      "execution_count": 18,
      "outputs": [
        {
          "output_type": "stream",
          "name": "stdout",
          "text": [
            "[nltk_data] Downloading package stopwords to /root/nltk_data...\n",
            "[nltk_data]   Unzipping corpora/stopwords.zip.\n",
            "[nltk_data] Downloading package punkt to /root/nltk_data...\n",
            "[nltk_data]   Unzipping tokenizers/punkt.zip.\n"
          ]
        }
      ]
    },
    {
      "cell_type": "markdown",
      "metadata": {
        "id": "E6DXq9HQKc_n"
      },
      "source": [
        "Divididos em 11 quadros não sobrepostos de tamanhos iguais."
      ]
    },
    {
      "cell_type": "code",
      "metadata": {
        "colab": {
          "base_uri": "https://localhost:8080/"
        },
        "id": "9EzrCZlgzs4A",
        "outputId": "9ee9e043-b7cc-4be2-daee-d29f3ff60358"
      },
      "source": [
        "df_set = []\n",
        "k = 2050\n",
        "for i in range(0,10):\n",
        "  df_set.append(df.iloc[i*2050:k])\n",
        "  k += 2050\n",
        "  print(\"Quadro {}\".format(i), \"possui {} entradas.\".format(df_set[i].shape[0]))\n",
        "\n",
        "df_set.append(df.iloc[20500:22557])\n",
        "\n",
        "print(\"Quadro 10 possui {} entradas.\".format(df_set[10].shape[0]))"
      ],
      "execution_count": 19,
      "outputs": [
        {
          "output_type": "stream",
          "name": "stdout",
          "text": [
            "Quadro 0 possui 2050 entradas.\n",
            "Quadro 1 possui 2050 entradas.\n",
            "Quadro 2 possui 2050 entradas.\n",
            "Quadro 3 possui 2050 entradas.\n",
            "Quadro 4 possui 2050 entradas.\n",
            "Quadro 5 possui 2050 entradas.\n",
            "Quadro 6 possui 2050 entradas.\n",
            "Quadro 7 possui 2050 entradas.\n",
            "Quadro 8 possui 2050 entradas.\n",
            "Quadro 9 possui 2050 entradas.\n",
            "Quadro 10 possui 2057 entradas.\n"
          ]
        }
      ]
    },
    {
      "cell_type": "code",
      "metadata": {
        "id": "4fmguTH8ua9v"
      },
      "source": [
        "X_test = []\n",
        "\n",
        "for i in range(0, 10):\n",
        "  new_df = df_set[0]\n",
        "  for j in range(0, i):\n",
        "    new_df = pd.merge(new_df, df_set[j+1], how = 'outer')\n",
        "  X_test.append(new_df)"
      ],
      "execution_count": 20,
      "outputs": []
    },
    {
      "cell_type": "code",
      "metadata": {
        "colab": {
          "base_uri": "https://localhost:8080/"
        },
        "id": "H-hLFCzmvCSV",
        "outputId": "cf54d15d-f79d-4570-c23e-275205ab65c4"
      },
      "source": [
        "for i in range(0, len(X_test)):\n",
        "  print(\"Treinamento {}, possui {} entradas.\". format(i+1, X_test[i].shape[0]))"
      ],
      "execution_count": 21,
      "outputs": [
        {
          "output_type": "stream",
          "name": "stdout",
          "text": [
            "Treinamento 1, possui 2050 entradas.\n",
            "Treinamento 2, possui 4100 entradas.\n",
            "Treinamento 3, possui 6150 entradas.\n",
            "Treinamento 4, possui 8200 entradas.\n",
            "Treinamento 5, possui 10250 entradas.\n",
            "Treinamento 6, possui 12300 entradas.\n",
            "Treinamento 7, possui 14350 entradas.\n",
            "Treinamento 8, possui 16400 entradas.\n",
            "Treinamento 9, possui 18450 entradas.\n",
            "Treinamento 10, possui 20500 entradas.\n"
          ]
        }
      ]
    },
    {
      "cell_type": "code",
      "metadata": {
        "id": "39y6FF1gZWlE"
      },
      "source": [
        "# Evaluate\n",
        "for i in range(0, len(X_test)):\n",
        "  text_clf = text_clf.fit(X_test[i].description, X_test[i].assignee_developers)\n",
        "  pred = text_clf.predict(df_set[i+1].description)\n",
        "  accuracy_scoreMLP_TFIDF = f1_score(df_set[i+1].assignee_developers, pred, average='micro')\n",
        "  accuracy_scoreMLP_TFIDF"
      ],
      "execution_count": 22,
      "outputs": []
    },
    {
      "cell_type": "code",
      "metadata": {
        "id": "0EjKaY2zZWlG"
      },
      "source": [
        "\n",
        "predictions = text_clf.predict(df_set[10].description)\n",
        "\n",
        "conf_matrix = confusion_matrix(df_set[10].assignee_developers, predictions)"
      ],
      "execution_count": 23,
      "outputs": []
    },
    {
      "cell_type": "code",
      "metadata": {
        "id": "NuKTCrP8ZWlH",
        "colab": {
          "base_uri": "https://localhost:8080/",
          "height": 597
        },
        "outputId": "6f6fd0d0-32b7-49ad-9755-2959d4ae3002"
      },
      "source": [
        "plt.figure(figsize=(10,10))\n",
        "plt.xticks(np.arange(len(text_clf.classes_)),text_clf.classes_)\n",
        "plt.yticks(np.arange(len(text_clf.classes_)),text_clf.classes_)\n",
        "plt.imshow(conf_matrix,cmap=plt.cm.Blues)\n",
        "plt.colorbar()"
      ],
      "execution_count": 24,
      "outputs": [
        {
          "output_type": "execute_result",
          "data": {
            "text/plain": [
              "<matplotlib.colorbar.Colorbar at 0x7f98de176810>"
            ]
          },
          "metadata": {},
          "execution_count": 24
        },
        {
          "output_type": "display_data",
          "data": {
            "image/png": "[encoded data removed]",
            "text/plain": [
              "<Figure size 720x720 with 2 Axes>"
            ]
          },
          "metadata": {
            "needs_background": "light"
          }
        }
      ]
    }
  ]
}